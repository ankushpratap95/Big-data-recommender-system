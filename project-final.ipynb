{
 "cells": [
  {
   "cell_type": "markdown",
   "metadata": {
    "colab_type": "text",
    "id": "Wm7UBfh_2Njf"
   },
   "source": [
    "***\n",
    "## **<center>Recommender System</center>**\n",
    "\n",
    "### <center> **Data Preprocessing, Model Training & Results</center>**\n",
    "\n",
    "***\n"
   ]
  },
  {
   "cell_type": "markdown",
   "metadata": {
    "colab_type": "text",
    "id": "ONqx-tln5t60"
   },
   "source": [
    "### **1. Configuration and Importing Required Libraries**"
   ]
  },
  {
   "cell_type": "code",
   "execution_count": 1,
   "metadata": {
    "colab": {
     "base_uri": "https://localhost:8080/",
     "height": 50
    },
    "colab_type": "code",
    "executionInfo": {
     "elapsed": 4733,
     "status": "ok",
     "timestamp": 1575123105912,
     "user": {
      "displayName": "Sébastien DAVID",
      "photoUrl": "https://lh4.googleusercontent.com/-5ClDRUzQ7U0/AAAAAAAAAAI/AAAAAAAAATg/YFmLqRzbOEE/s64/photo.jpg",
      "userId": "10617684434079600453"
     },
     "user_tz": -60
    },
    "id": "X61iCYAF9L7z",
    "outputId": "f85b48e0-b7a2-4dc2-ccb1-e8c4722ed3e2"
   },
   "outputs": [
    {
     "name": "stderr",
     "output_type": "stream",
     "text": [
      "WARNING: An illegal reflective access operation has occurred\n",
      "WARNING: Illegal reflective access by org.apache.spark.unsafe.Platform (file:/ext3/spark-3.1.2-bin-hadoop3.2/jars/spark-unsafe_2.12-3.1.2.jar) to constructor java.nio.DirectByteBuffer(long,int)\n",
      "WARNING: Please consider reporting this to the maintainers of org.apache.spark.unsafe.Platform\n",
      "WARNING: Use --illegal-access=warn to enable warnings of further illegal reflective access operations\n",
      "WARNING: All illegal access operations will be denied in a future release\n",
      "22/05/17 15:55:10 WARN NativeCodeLoader: Unable to load native-hadoop library for your platform... using builtin-java classes where applicable\n",
      "Using Spark's default log4j profile: org/apache/spark/log4j-defaults.properties\n",
      "Setting default log level to \"WARN\".\n",
      "To adjust logging level use sc.setLogLevel(newLevel). For SparkR, use setLogLevel(newLevel).\n",
      "/home/ax2047/.local/lib/python3.8/site-packages/dask_jobqueue/core.py:20: FutureWarning: tmpfile is deprecated and will be removed in a future release. Please use dask.utils.tmpfile instead.\n",
      "  from distributed.utils import tmpfile\n"
     ]
    }
   ],
   "source": [
    "# Start Spark Session & import other libraries\n",
    "import pyspark\n",
    "from pyspark.sql import SparkSession\n",
    "spark = SparkSession.builder.appName('project-recommender-system').getOrCreate()\n",
    "\n",
    "import os\n",
    "import copy\n",
    "import math\n",
    "import numpy as np\n",
    "import pandas as pd\n",
    "import matplotlib.pyplot as plt\n",
    "import random\n",
    "import pdb\n",
    "\n",
    "import pyspark.sql.functions as F\n",
    "import pyspark as ps\n",
    "from pyspark.sql.types import *\n",
    "from pyspark.ml.recommendation import ALS, ALSModel\n",
    "from pyspark.ml.evaluation import RegressionEvaluator, BinaryClassificationEvaluator\n",
    "from pyspark.ml.tuning import ParamGridBuilder, TrainValidationSplit\n",
    "from pyspark.mllib.evaluation import RegressionMetrics, RankingMetrics\n",
    "from distributed import Client\n",
    "from dask_jobqueue import SLURMCluster\n",
    "\n",
    "# Random Seed\n",
    "SEED = 1492\n"
   ]
  },
  {
   "cell_type": "code",
   "execution_count": 2,
   "metadata": {
    "colab": {},
    "colab_type": "code",
    "id": "6dNlMHrpXvDa"
   },
   "outputs": [],
   "source": [
    "\n",
    "# Choosing which dataset to use for processing\n",
    "# dataset = \"ml-latest\"\n",
    "dataset = \"ml-latest-small\"\n",
    "\n",
    "# Path to Data Folder\n",
    "datapath = \"/scratch/work/courses/DSGA1004-2021/movielens/{0}\".format(dataset)\n"
   ]
  },
  {
   "cell_type": "markdown",
   "metadata": {
    "colab_type": "text",
    "id": "xf35eMcY6D54"
   },
   "source": [
    "### **2. Data Preprocessing**"
   ]
  },
  {
   "cell_type": "code",
   "execution_count": 3,
   "metadata": {
    "colab": {},
    "colab_type": "code",
    "id": "acTMS0gsXl8q"
   },
   "outputs": [],
   "source": [
    "class MovieLensDatasets(object):\n",
    "    \"\"\"\n",
    "    Class for loading and preprocesing MovieLens Dataset\n",
    "    \"\"\"\n",
    "    def __init__(self, ratings, movies, links):\n",
    "        \n",
    "        self.ratings = ratings\n",
    "        self.movies = movies\n",
    "        self.links = links\n",
    "\n",
    "        # Create New DataFrame\n",
    "        users = ratings.select('userId').distinct()\n",
    "        self.users = users\n",
    "\n",
    "    def preprocessing(self):\n",
    "        # Preprocess MovieLens Ratings\n",
    "        self.ratings = self.ratings.withColumn('rating',\n",
    "              F.col('rating').cast('double')).drop('timestamp') \\\n",
    "              .withColumn('userId', F.col('userId').cast('int')) \\\n",
    "              .withColumn('movieId', F.col('movieId').cast('int'))\n",
    "\n",
    "\n",
    "        # Binarize MovieLens Ratings (if rating >= 3.0, then 1.0, else 0.0)\n",
    "        udf_scale_ratings = F.udf(lambda x: x - 2.5, DoubleType())\n",
    "        udf_binary_ratings = F.udf(lambda x: 1.0 if x > 0.0 else 0.0, DoubleType())\n",
    "\n",
    "        self.ratings = self.ratings \\\n",
    "        .withColumn('ratingsScaled', udf_scale_ratings(F.col('rating'))) \\\n",
    "        .withColumn('ratingsBinary', udf_binary_ratings(F.col('ratingsScaled'))) \n",
    "\n",
    "    def get_ratings(self):\n",
    "        return self.ratings\n",
    "\n",
    "    def get_movies(self):\n",
    "        return self.movies\n",
    "\n",
    "    # Displaying Null Values\n",
    "    def spark_df_display_null_values(sparkDf):\n",
    "        print('NaN values ?')\n",
    "        sparkDf.select([F.count(F.when(F.isnan(c), c)).alias(c) for c in sparkDf.columns]).show()\n",
    "\n",
    "        print('Null values ?')\n",
    "        sparkDf.select([F.count(F.when(F.isnull(c), c)).alias(c) for c in sparkDf.columns]).show()"
   ]
  },
  {
   "cell_type": "code",
   "execution_count": 4,
   "metadata": {
    "colab": {
     "base_uri": "https://localhost:8080/",
     "height": 50
    },
    "colab_type": "code",
    "executionInfo": {
     "elapsed": 2015,
     "status": "ok",
     "timestamp": 1575123314638,
     "user": {
      "displayName": "Sébastien DAVID",
      "photoUrl": "https://lh4.googleusercontent.com/-5ClDRUzQ7U0/AAAAAAAAAAI/AAAAAAAAATg/YFmLqRzbOEE/s64/photo.jpg",
      "userId": "10617684434079600453"
     },
     "user_tz": -60
    },
    "id": "If53HkIBTHw4",
    "outputId": "7ca3d998-1742-4298-a089-7e6148d28002"
   },
   "outputs": [],
   "source": [
    "# Load Datasets\n",
    "movies = spark.read.csv('{0}/movies.csv'.format(datapath),\n",
    "                        header=True,       # use headers or not\n",
    "                        quote='\"',         # char for quotes\n",
    "                        sep=\",\",           # char for separation\n",
    "                        inferSchema=True\n",
    "                       )\n",
    "\n",
    "links = spark.read.csv('{0}/links.csv'.format(datapath),\n",
    "                        header=True,       # use headers or not\n",
    "                        quote='\"',         # char for quotes\n",
    "                        sep=\",\",           # char for separation\n",
    "                        inferSchema=True)\n",
    "\n",
    "ratings = spark.read.csv('{0}/ratings.csv'.format(datapath),\n",
    "                        header=True,       # use headers or not\n",
    "                        quote='\"',         # char for quotes\n",
    "                        sep=\",\",           # char for separation\n",
    "                        inferSchema=True)\n",
    "\n",
    "# Data Preprocessing\n",
    "movieLensDatasets = MovieLensDatasets(ratings=ratings, movies=movies,\n",
    "                                      links=links)\n",
    "\n",
    "movieLensDatasets.preprocessing()\n",
    "dfRatings = movieLensDatasets.get_ratings() \n",
    "dfMovies = movieLensDatasets.get_movies()"
   ]
  },
  {
   "cell_type": "markdown",
   "metadata": {
    "colab_type": "text",
    "id": "GITHQWpkewlv"
   },
   "source": [
    "### **3. Model Training**\n",
    "***"
   ]
  },
  {
   "cell_type": "markdown",
   "metadata": {
    "colab_type": "text",
    "id": "MAlwONxfcfyg"
   },
   "source": [
    "### **3.1. Train, Validation, Test Data Split**"
   ]
  },
  {
   "cell_type": "code",
   "execution_count": 5,
   "metadata": {
    "colab": {},
    "colab_type": "code",
    "id": "Q7KL-PwdcdkD"
   },
   "outputs": [],
   "source": [
    "ratingsPrepare = dfRatings.withColumn(\"userId\", F.col(\"userId\").cast('int')) \\\n",
    "                          .withColumn(\"movieId\", F.col(\"movieId\").cast('int'))\n",
    "\n",
    "training_df, validation_df, testing_df = ratingsPrepare.randomSplit([0.6, 0.2, 0.2],\n",
    "                                                           seed=SEED)\n"
   ]
  },
  {
   "cell_type": "code",
   "execution_count": 6,
   "metadata": {},
   "outputs": [
    {
     "name": "stderr",
     "output_type": "stream",
     "text": [
      "                                                                                \r"
     ]
    }
   ],
   "source": [
    "training_users_unique_id = list(set(training_df.select(\"userId\").rdd.flatMap(lambda x: x).collect()))"
   ]
  },
  {
   "cell_type": "markdown",
   "metadata": {
    "colab_type": "text",
    "id": "897TLMSujDiB"
   },
   "source": [
    "### **3.2. Defining Our Accuracy Metrics**\n",
    "\n"
   ]
  },
  {
   "cell_type": "code",
   "execution_count": 7,
   "metadata": {
    "colab": {},
    "colab_type": "code",
    "id": "ATuQxfxGjDqS"
   },
   "outputs": [],
   "source": [
    "### Accuracy Metrics\n",
    "def catalog_coverage(predicted, catalog, k):\n",
    "    \"\"\"\n",
    "    Computes the catalog coverage for k lists of recommendations\n",
    "    Parameters\n",
    "    ----------\n",
    "    predicted : a list of lists\n",
    "        Ordered predictions\n",
    "        example: [['X', 'Y', 'Z'], ['X', 'Y', 'Z']]\n",
    "    catalog: list\n",
    "        A list of all unique items in the training data\n",
    "        example: ['A', 'B', 'C', 'X', 'Y', Z]\n",
    "    k: integer\n",
    "        The number of observed recommendation lists\n",
    "        which randomly choosed in our offline setup\n",
    "    Returns\n",
    "    ----------\n",
    "    catalog_coverage:\n",
    "        The catalog coverage of the recommendations as a percent\n",
    "        rounded to 2 decimal places\n",
    "    ----------    \n",
    "    Metric Defintion:\n",
    "    Ge, M., Delgado-Battenfeld, C., & Jannach, D. (2010, September).\n",
    "    Beyond accuracy: evaluating recommender systems by coverage and\n",
    "    serendipity.\n",
    "    In Proceedings of the fourth ACM conference on Recommender systems\n",
    "    (pp. 257-260). ACM.\n",
    "    \"\"\"\n",
    "    sampling = random.choices(predicted, k=k)\n",
    "    predicted_flattened = [p for sublist in sampling for p in sublist]\n",
    "    L_predictions = len(set(predicted_flattened))\n",
    "    catalog_coverage = L_predictions/(len(catalog)*1.0)\n",
    "    return catalog_coverage\n",
    "\n",
    "\n",
    "def get_rec_sys_results(relevantDocumentsDf, dfMovies):\n",
    "    \"\"\"\n",
    "    Returns dictionnary of recommender system metrics\n",
    "    Since Spark ML DataFrame-based doesn't have a\n",
    "    specific function for evaluating the soundness\n",
    "    of item recommendations, we will have to use\n",
    "    Spark MLlib RDD-based API\n",
    "    \"\"\"\n",
    "    # Transform Spark Dataframe into Spark RDD\n",
    "    relevantDocuments = relevantDocumentsDf.rdd \\\n",
    "        .map(lambda row: (row.predictions, row.groundTruth))\n",
    "    \n",
    "    # Get Catalog Coverage\n",
    "    moviesCatalog = dfMovies.select(\"movieId\") \\\n",
    "                            .orderBy(\"movieId\") \\\n",
    "                            .distinct() \\\n",
    "                            .toPandas()\n",
    "    predictions = relevantDocumentsDf.select(\"predictions\").toPandas()\n",
    "    predictionsList = predictions.values.tolist()\n",
    "    predictionsList = [sublist[0] for sublist in predictionsList]\n",
    "    cc = catalog_coverage(predicted=predictionsList,\n",
    "                          catalog=moviesCatalog, k=100)\n",
    "\n",
    "    # Get Results\n",
    "    metrics = RankingMetrics(relevantDocuments)\n",
    "    pk100 = metrics.precisionAt(100)\n",
    "    ndcg100 = metrics.ndcgAt(100)\n",
    "    \n",
    "    # TODO: Search and Add more Ranking Metrics\n",
    "    \n",
    "    results = dict(Pk100=pk100, NDCGk100=ndcg100, CC=cc)\n",
    "    \n",
    "    return results\n",
    "\n",
    "\n",
    "def format_recommendations(rowPreds):\n",
    "    # From recommendations column extract only items\n",
    "    # recommended and ignore ratings\n",
    "    rowPredsList = [row.movieId for row in rowPreds]\n",
    "    return rowPredsList\n",
    "\n",
    "udf_format_recommendations = F.udf(lambda x: format_recommendations(x),\n",
    "                                   ArrayType(IntegerType()))"
   ]
  },
  {
   "cell_type": "markdown",
   "metadata": {
    "colab_type": "text",
    "id": "G7zDCJ0Zkg7Q"
   },
   "source": [
    "### **3.3. Popularity-Based Model**"
   ]
  },
  {
   "cell_type": "code",
   "execution_count": 8,
   "metadata": {
    "colab": {},
    "colab_type": "code",
    "id": "f5sXdGG6l__r"
   },
   "outputs": [],
   "source": [
    "class PopularityRecommenderModel(object):\n",
    "    \"\"\"\n",
    "    Class for generating movie item recommendations based on movie popularity\n",
    "    (from average ratings with logarithmic scaling factor that penalizes movies\n",
    "    with few ratings). By default, only the top 10 rated movies are selected.\n",
    "    \"\"\"\n",
    "    \n",
    "    def __init__(self, ratingsTrain, ratingsValidation):\n",
    "        self.ratingsTrain = ratingsTrain\n",
    "        self.ratingsValidation = ratingsValidation\n",
    "\n",
    "    def generate_recommendations_for_all_users(self, topk=10):\n",
    "        # Get list of top k rated movies\n",
    "        topRated = self._get_top_k_best_movies(topk=topk)\n",
    "\n",
    "        # Compare most popular movies with user's personal preferences\n",
    "        # Important: only keep recommendations with rating over 3/5\n",
    "        # Important: Removed any userid which is not in training dataset\n",
    "        results = self.ratingsValidation \\\n",
    "                 .filter(F.col(\"ratingsBinary\")==1.0) \\\n",
    "                 .filter(F.col(\"userId\").isin(training_users_unique_id)) \\\n",
    "                 .withColumn('movieId', F.col('movieId').cast('int')) \\\n",
    "                 .orderBy('rating', ascending=False) \\\n",
    "                 .groupby(\"userId\") \\\n",
    "                 .agg(F.collect_list(\"movieId\").alias('groundTruth')) \\\n",
    "                 .withColumn('predictions', F.array([F.lit(el)\n",
    "                        for el in topRated])) \\\n",
    "                 .select(['userId', 'predictions', 'groundTruth'])\n",
    "\n",
    "        return results\n",
    "\n",
    "    def _get_top_k_best_movies(self, topk):\n",
    "\n",
    "        # Function\n",
    "        def _get_mean_rating_w_log_penalty(arr):\n",
    "            sumRatings, nbRatings = arr[0], arr[1]\n",
    "            grade = (sumRatings / nbRatings) * math.log(nbRatings)\n",
    "            return grade\n",
    "\n",
    "        # UDF\n",
    "        udf_mean_rating_w_log_penalty = F.udf(\n",
    "            lambda arr: _get_mean_rating_w_log_penalty(arr),\n",
    "            DoubleType()\n",
    "        )\n",
    "\n",
    "        # Get top k Best Rated Movies\n",
    "        ranking = self.ratingsTrain.groupBy('movieId') \\\n",
    "                  .agg({'rating': 'sum', 'userId': 'count'}) \\\n",
    "                  .toDF('movieId', 'sumRating', 'nbRatings')\n",
    "\n",
    "        ranking = ranking \\\n",
    "          .withColumn(\"meanLogUserRating\",\n",
    "             udf_mean_rating_w_log_penalty(F.array(\"sumRating\", \"nbRatings\"))\n",
    "             ) \\\n",
    "          .sort(['meanLogUserRating', 'nbRatings'], ascending=[False, True]) \\\n",
    "          .limit(topk)\n",
    "\n",
    "        self.topRatedMovies = ranking\n",
    "        ratingsTop = [int(row.movieId) for row in ranking.collect()]\n",
    "\n",
    "        return ratingsTop"
   ]
  },
  {
   "cell_type": "code",
   "execution_count": 9,
   "metadata": {
    "colab": {
     "base_uri": "https://localhost:8080/",
     "height": 52
    },
    "colab_type": "code",
    "executionInfo": {
     "elapsed": 134670,
     "status": "ok",
     "timestamp": 1573383744211,
     "user": {
      "displayName": "Sébastien DAVID",
      "photoUrl": "https://lh4.googleusercontent.com/-5ClDRUzQ7U0/AAAAAAAAAAI/AAAAAAAAATg/YFmLqRzbOEE/s64/photo.jpg",
      "userId": "10617684434079600453"
     },
     "user_tz": -60
    },
    "id": "ALLPmoMlrSeu",
    "outputId": "dae69c69-9bc8-44ec-c6c2-46841300a798"
   },
   "outputs": [
    {
     "name": "stderr",
     "output_type": "stream",
     "text": [
      "                                                                                \r"
     ]
    }
   ],
   "source": [
    "# Generating recommendations for each user based on our popularity model (Validation Dataset)\n",
    "\n",
    "pbrModel = PopularityRecommenderModel(training_df, validation_df)\n",
    "resultsPop = pbrModel.generate_recommendations_for_all_users(topk=100)"
   ]
  },
  {
   "cell_type": "code",
   "execution_count": 10,
   "metadata": {},
   "outputs": [
    {
     "name": "stderr",
     "output_type": "stream",
     "text": [
      "                                                                                \r"
     ]
    }
   ],
   "source": [
    "# Generating recommendations for each user based on our popularity model (Test Dataset)\n",
    "\n",
    "pbrModel_test = PopularityRecommenderModel(training_df, testing_df)\n",
    "resultsPop_test = pbrModel.generate_recommendations_for_all_users(topk=100)"
   ]
  },
  {
   "cell_type": "code",
   "execution_count": 11,
   "metadata": {
    "colab": {
     "base_uri": "https://localhost:8080/",
     "height": 230
    },
    "colab_type": "code",
    "executionInfo": {
     "elapsed": 252255,
     "status": "ok",
     "timestamp": 1573383996494,
     "user": {
      "displayName": "Sébastien DAVID",
      "photoUrl": "https://lh4.googleusercontent.com/-5ClDRUzQ7U0/AAAAAAAAAAI/AAAAAAAAATg/YFmLqRzbOEE/s64/photo.jpg",
      "userId": "10617684434079600453"
     },
     "user_tz": -60
    },
    "id": "JG0wm7nKuEf2",
    "outputId": "03657fa8-0c88-4520-fdc8-1a8f8bc5b623"
   },
   "outputs": [
    {
     "name": "stdout",
     "output_type": "stream",
     "text": [
      "+------+--------------------+--------------------+\n",
      "|userId|         predictions|         groundTruth|\n",
      "+------+--------------------+--------------------+\n",
      "|   148|[318, 356, 593, 2...|[116797, 160718, ...|\n",
      "|   243|[318, 356, 593, 2...|[172, 44, 48, 420...|\n",
      "|   463|[318, 356, 593, 2...|[1552, 1690, 5010...|\n",
      "|   471|[318, 356, 593, 2...|[2324, 60069, 784...|\n",
      "|   496|[318, 356, 593, 2...|[106920, 7153, 36...|\n",
      "+------+--------------------+--------------------+\n",
      "\n"
     ]
    }
   ],
   "source": [
    "resultsPop.limit(5).orderBy('userId').show(5)"
   ]
  },
  {
   "cell_type": "code",
   "execution_count": 12,
   "metadata": {
    "colab": {
     "base_uri": "https://localhost:8080/",
     "height": 52
    },
    "colab_type": "code",
    "executionInfo": {
     "elapsed": 786545,
     "status": "ok",
     "timestamp": 1573384530962,
     "user": {
      "displayName": "Sébastien DAVID",
      "photoUrl": "https://lh4.googleusercontent.com/-5ClDRUzQ7U0/AAAAAAAAAAI/AAAAAAAAATg/YFmLqRzbOEE/s64/photo.jpg",
      "userId": "10617684434079600453"
     },
     "user_tz": -60
    },
    "id": "iebfkF2mujDO",
    "outputId": "4df153f4-577f-4f21-d1c9-893781bbf004"
   },
   "outputs": [
    {
     "name": "stderr",
     "output_type": "stream",
     "text": [
      "/home/ax2047/.local/lib/python3.8/site-packages/pyspark/sql/context.py:125: FutureWarning: Deprecated in 3.0.0. Use SparkSession.builder.getOrCreate() instead.\n",
      "  warnings.warn(\n",
      "                                                                                \r"
     ]
    }
   ],
   "source": [
    "results = get_rec_sys_results(resultsPop, dfMovies)"
   ]
  },
  {
   "cell_type": "code",
   "execution_count": 13,
   "metadata": {},
   "outputs": [
    {
     "data": {
      "text/plain": [
       "{'Pk100': 0.04724422442244223,\n",
       " 'NDCGk100': 0.1566032398580673,\n",
       " 'CC': 0.010264832683227263}"
      ]
     },
     "execution_count": 13,
     "metadata": {},
     "output_type": "execute_result"
    }
   ],
   "source": [
    "results"
   ]
  },
  {
   "cell_type": "code",
   "execution_count": 14,
   "metadata": {},
   "outputs": [
    {
     "name": "stderr",
     "output_type": "stream",
     "text": [
      "                                                                                \r"
     ]
    }
   ],
   "source": [
    "results_test = get_rec_sys_results(resultsPop_test, dfMovies)"
   ]
  },
  {
   "cell_type": "code",
   "execution_count": 15,
   "metadata": {},
   "outputs": [
    {
     "data": {
      "text/plain": [
       "{'Pk100': 0.04724422442244226,\n",
       " 'NDCGk100': 0.15660323985806723,\n",
       " 'CC': 0.010264832683227263}"
      ]
     },
     "execution_count": 15,
     "metadata": {},
     "output_type": "execute_result"
    }
   ],
   "source": [
    "results_test"
   ]
  },
  {
   "cell_type": "code",
   "execution_count": 16,
   "metadata": {
    "colab": {
     "base_uri": "https://localhost:8080/",
     "height": 497
    },
    "colab_type": "code",
    "executionInfo": {
     "elapsed": 256561,
     "status": "ok",
     "timestamp": 1573384906780,
     "user": {
      "displayName": "Sébastien DAVID",
      "photoUrl": "https://lh4.googleusercontent.com/-5ClDRUzQ7U0/AAAAAAAAAAI/AAAAAAAAATg/YFmLqRzbOEE/s64/photo.jpg",
      "userId": "10617684434079600453"
     },
     "user_tz": -60
    },
    "id": "4D4m49-l68sZ",
    "outputId": "05e64b5a-3a20-423a-cb26-a2bc2cc18ad1"
   },
   "outputs": [
    {
     "name": "stderr",
     "output_type": "stream",
     "text": [
      "[Stage 45:========================================>            (154 + 10) / 200]\r"
     ]
    },
    {
     "name": "stdout",
     "output_type": "stream",
     "text": [
      "+-------+---------+---------+------------------+------------------------------------------------------------------------------+\n",
      "|movieId|sumRating|nbRatings|meanLogUserRating |title                                                                         |\n",
      "+-------+---------+---------+------------------+------------------------------------------------------------------------------+\n",
      "|318    |825.5    |187      |23.092407289911556|Shawshank Redemption, The (1994)                                              |\n",
      "|356    |847.5    |205      |22.006102230828297|Forrest Gump (1994)                                                           |\n",
      "|593    |730.0    |173      |21.74510326001953 |Silence of the Lambs, The (1991)                                              |\n",
      "|2571   |766.0    |185      |21.615094929783766|Matrix, The (1999)                                                            |\n",
      "|296    |741.0    |179      |21.474038447642457|Pulp Fiction (1994)                                                           |\n",
      "|260    |651.5    |156      |21.089623004635087|Star Wars: Episode IV - A New Hope (1977)                                     |\n",
      "|1196   |595.5    |140      |21.019629019027434|Star Wars: Episode V - The Empire Strikes Back (1980)                         |\n",
      "|2959   |557.0    |131      |20.72889243529039 |Fight Club (1999)                                                             |\n",
      "|50     |540.5    |128      |20.48845591912932 |Usual Suspects, The (1995)                                                    |\n",
      "|527    |544.5    |131      |20.263701851015472|Schindler's List (1993)                                                       |\n",
      "|4993   |523.5    |125      |20.220977931822038|Lord of the Rings: The Fellowship of the Ring, The (2001)                     |\n",
      "|1198   |484.0    |114      |20.10807060546435 |Raiders of the Lost Ark (Indiana Jones and the Raiders of the Lost Ark) (1981)|\n",
      "|1210   |492.5    |118      |19.91154387753678 |Star Wars: Episode VI - Return of the Jedi (1983)                             |\n",
      "|858    |462.5    |109      |19.905948582853014|Godfather, The (1972)                                                         |\n",
      "|589    |567.0    |141      |19.90033232513774 |Terminator 2: Judgment Day (1991)                                             |\n",
      "|2028   |470.5    |113      |19.683504147824394|Saving Private Ryan (1998)                                                    |\n",
      "|2858   |499.5    |123      |19.542163296817254|American Beauty (1999)                                                        |\n",
      "|110    |549.5    |139      |19.507146951477086|Braveheart (1995)                                                             |\n",
      "|608    |476.5    |117      |19.394665640437015|Fargo (1996)                                                                  |\n",
      "|1      |498.0    |126      |19.11482848937965 |Toy Story (1995)                                                              |\n",
      "|457    |439.0    |108      |19.031996376921597|Fugitive, The (1993)                                                          |\n",
      "|5952   |454.5    |113      |19.01413950092707 |Lord of the Rings: The Two Towers, The (2002)                                 |\n",
      "|7153   |422.5    |103      |19.01138832550506 |Lord of the Rings: The Return of the King, The (2003)                         |\n",
      "|58559  |362.5    |85       |18.946600946796938|Dark Knight, The (2008)                                                       |\n",
      "|1193   |356.0    |84       |18.778223576050234|One Flew Over the Cuckoo's Nest (1975)                                        |\n",
      "|480    |552.5    |147      |18.75655785166838 |Jurassic Park (1993)                                                          |\n",
      "|32     |445.0    |112      |18.7476071225564  |Twelve Monkeys (a.k.a. 12 Monkeys) (1995)                                     |\n",
      "|47     |428.5    |107      |18.71315098660679 |Seven (a.k.a. Se7en) (1995)                                                   |\n",
      "|4226   |380.5    |92       |18.701527756164783|Memento (2000)                                                                |\n",
      "|150    |455.0    |116      |18.64554773235686 |Apollo 13 (1995)                                                              |\n",
      "|1197   |329.0    |77       |18.559895893374833|Princess Bride, The (1987)                                                    |\n",
      "|1270   |402.5    |100      |18.535809998602073|Back to the Future (1985)                                                     |\n",
      "|1221   |321.5    |75       |18.50763238002565 |Godfather: Part II, The (1974)                                                |\n",
      "|1089   |347.5    |83       |18.50056760493154 |Reservoir Dogs (1992)                                                         |\n",
      "|1136   |317.5    |74       |18.466765771517892|Monty Python and the Holy Grail (1975)                                        |\n",
      "|2329   |323.0    |76       |18.405616696216907|American History X (1998)                                                     |\n",
      "|1214   |383.0    |96       |18.20984747221022 |Alien (1979)                                                                  |\n",
      "|588    |435.0    |113      |18.198351337520958|Aladdin (1992)                                                                |\n",
      "|1213   |293.0    |68       |18.18111408259705 |Goodfellas (1990)                                                             |\n",
      "|1291   |352.5    |87       |18.094627722134952|Indiana Jones and the Last Crusade (1989)                                     |\n",
      "|590    |400.5    |103      |18.021446211514263|Dances with Wolves (1990)                                                     |\n",
      "|2762   |418.5    |109      |18.012193474430244|Sixth Sense, The (1999)                                                       |\n",
      "|7361   |321.5    |78       |17.95746009975261 |Eternal Sunshine of the Spotless Mind (2004)                                  |\n",
      "|6377   |363.5    |92       |17.86597986692746 |Finding Nemo (2003)                                                           |\n",
      "|541    |313.5    |76       |17.864275028681117|Blade Runner (1982)                                                           |\n",
      "|1208   |287.0    |68       |17.80880457919916 |Apocalypse Now (1979)                                                         |\n",
      "|1265   |336.5    |84       |17.74964110489018 |Groundhog Day (1993)                                                          |\n",
      "|79132  |336.0    |84       |17.723267195373253|Inception (2010)                                                              |\n",
      "|1704   |326.5    |81       |17.713427765438905|Good Will Hunting (1997)                                                      |\n",
      "|1036   |387.0    |101      |17.68367960413433 |Die Hard (1988)                                                               |\n",
      "|364    |380.5    |99       |17.661041444204155|Lion King, The (1994)                                                         |\n",
      "|4973   |293.5    |71       |17.621078083262336|Amelie (Fabuleux destin d'Amélie Poulain, Le) (2001)                          |\n",
      "|3578   |348.5    |89       |17.576289605074727|Gladiator (2000)                                                              |\n",
      "|3147   |265.0    |63       |17.42747146815486 |Green Mile, The (1999)                                                        |\n",
      "|595    |368.5    |97       |17.3791855214278  |Beauty and the Beast (1991)                                                   |\n",
      "|5618   |241.5    |56       |17.359329166295332|Spirited Away (Sen to Chihiro no kamikakushi) (2001)                          |\n",
      "|912    |270.0    |65       |17.33976250572034 |Casablanca (1942)                                                             |\n",
      "|293    |313.5    |79       |17.339517743650774|Léon: The Professional (a.k.a. The Professional) (Léon) (1994)                |\n",
      "|6874   |333.5    |86       |17.27354445698308 |Kill Bill: Vol. 1 (2003)                                                      |\n",
      "|1258   |262.5    |63       |17.26306135996472 |Shining, The (1980)                                                           |\n",
      "|1240   |328.5    |85       |17.169540444200813|Terminator, The (1984)                                                        |\n",
      "|750    |244.5    |58       |17.116867518596543|Dr. Strangelove or: How I Learned to Stop Worrying and Love the Bomb (1964)   |\n",
      "|1617   |256.5    |62       |17.07435435103332 |L.A. Confidential (1997)                                                      |\n",
      "|1206   |290.5    |73       |17.073677639090516|Clockwork Orange, A (1971)                                                    |\n",
      "|5989   |293.0    |74       |17.041771247416513|Catch Me If You Can (2002)                                                    |\n",
      "|4306   |346.5    |92       |17.030431977690135|Shrek (2001)                                                                  |\n",
      "|34     |343.5    |91       |17.02725538998393 |Babe (1995)                                                                   |\n",
      "|4886   |322.5    |84       |17.011171638416293|Monsters, Inc. (2001)                                                         |\n",
      "|48516  |245.5    |59       |16.966702414895835|Departed, The (2006)                                                          |\n",
      "|1073   |302.5    |78       |16.89621051376412 |Willy Wonka & the Chocolate Factory (1971)                                    |\n",
      "|111    |228.5    |54       |16.879312122961792|Taxi Driver (1976)                                                            |\n",
      "|68954  |274.5    |69       |16.844380224810838|Up (2009)                                                                     |\n",
      "|4878   |277.5    |70       |16.842248995267102|Donnie Darko (2001)                                                           |\n",
      "|4995   |280.0    |71       |16.81056852917702 |Beautiful Mind, A (2001)                                                      |\n",
      "|904    |208.0    |48       |16.77520438060086 |Rear Window (1954)                                                            |\n",
      "|5418   |272.0    |69       |16.69097056884717 |Bourne Identity, The (2002)                                                   |\n",
      "|6539   |301.5    |79       |16.675804145807682|Pirates of the Caribbean: The Curse of the Black Pearl (2003)                 |\n",
      "|8961   |271.0    |69       |16.6296067064617  |Incredibles, The (2004)                                                       |\n",
      "|6016   |215.0    |51       |16.575343353641767|City of God (Cidade de Deus) (2002)                                           |\n",
      "|60069  |251.5    |63       |16.539656883928103|WALL·E (2008)                                                                 |\n",
      "|1200   |281.0    |73       |16.515330177571204|Aliens (1986)                                                                 |\n",
      "|380    |379.5    |108      |16.452488895311493|True Lies (1994)                                                              |\n",
      "|6      |244.0    |61       |16.443495456693245|Heat (1995)                                                                   |\n",
      "|1222   |244.0    |61       |16.443495456693245|Full Metal Jacket (1987)                                                      |\n",
      "|68157  |206.5    |49       |16.401242684894783|Inglourious Basterds (2009)                                                   |\n",
      "|648    |358.0    |101      |16.35854599038783 |Mission: Impossible (1996)                                                    |\n",
      "|2502   |224.0    |55       |16.320775154401336|Office Space (1999)                                                           |\n",
      "|592    |374.5    |108      |16.23572356072241 |Batman (1989)                                                                 |\n",
      "|7438   |255.5    |66       |16.21904222102654 |Kill Bill: Vol. 2 (2004)                                                      |\n",
      "|924    |249.0    |64       |16.180654496196222|2001: A Space Odyssey (1968)                                                  |\n",
      "|3793   |283.5    |76       |16.154775025936512|X-Men (2000)                                                                  |\n",
      "|1356   |248.5    |64       |16.148163222107474|Star Trek: First Contact (1996)                                               |\n",
      "|1219   |212.5    |52       |16.146909426895256|Psycho (1960)                                                                 |\n",
      "|2997   |239.5    |61       |16.140234269991936|Being John Malkovich (1999)                                                   |\n",
      "|4011   |224.5    |56       |16.137347403036447|Snatch (2000)                                                                 |\n",
      "|5445   |271.5    |72       |16.12659515712304 |Minority Report (2002)                                                        |\n",
      "|1580   |360.0    |104      |16.07673772779706 |Men in Black (a.k.a. MIB) (1997)                                              |\n",
      "|48780  |226.0    |57       |16.030343623344006|Prestige, The (2006)                                                          |\n",
      "|2716   |243.0    |63       |15.980662516081626|Ghostbusters (a.k.a. Ghost Busters) (1984)                                    |\n",
      "|377    |330.5    |94       |15.974031122768471|Speed (1994)                                                                  |\n",
      "+-------+---------+---------+------------------+------------------------------------------------------------------------------+\n",
      "\n"
     ]
    },
    {
     "name": "stderr",
     "output_type": "stream",
     "text": [
      "                                                                                \r"
     ]
    }
   ],
   "source": [
    "# Highest rated movies\n",
    "pbrModel.topRatedMovies \\\n",
    "    .join(dfMovies.select(['movieId', 'title']), 'movieId') \\\n",
    "    .orderBy('meanLogUserRating', ascending=False) \\\n",
    "    .show(100, truncate=False)"
   ]
  },
  {
   "cell_type": "markdown",
   "metadata": {
    "colab_type": "text",
    "id": "03OnANnV0evH"
   },
   "source": [
    "### **3.4. Model Based Collaborative Filtering**\n",
    "\n"
   ]
  },
  {
   "cell_type": "markdown",
   "metadata": {
    "colab_type": "text",
    "id": "tsap2XAaHFFx"
   },
   "source": [
    "#### **3.4.1 Model Training  with RMSE on Test Set**"
   ]
  },
  {
   "cell_type": "code",
   "execution_count": 17,
   "metadata": {
    "colab": {
     "base_uri": "https://localhost:8080/",
     "height": 50
    },
    "colab_type": "code",
    "executionInfo": {
     "elapsed": 293378,
     "status": "ok",
     "timestamp": 1575123658314,
     "user": {
      "displayName": "Sébastien DAVID",
      "photoUrl": "https://lh4.googleusercontent.com/-5ClDRUzQ7U0/AAAAAAAAAAI/AAAAAAAAATg/YFmLqRzbOEE/s64/photo.jpg",
      "userId": "10617684434079600453"
     },
     "user_tz": -60
    },
    "id": "K8nGO4lJqwEq",
    "outputId": "4c6a319f-7919-45d7-fa8d-d7af3ceca9bd"
   },
   "outputs": [
    {
     "name": "stderr",
     "output_type": "stream",
     "text": [
      "22/05/17 15:55:40 WARN BLAS: Failed to load implementation from: com.github.fommil.netlib.NativeSystemBLAS\n",
      "22/05/17 15:55:40 WARN BLAS: Failed to load implementation from: com.github.fommil.netlib.NativeRefBLAS\n",
      "                                                                                \r"
     ]
    },
    {
     "name": "stdout",
     "output_type": "stream",
     "text": [
      "For rank 4 and regParam 0.01 the RMSE is 1.0016021771316816\n"
     ]
    },
    {
     "name": "stderr",
     "output_type": "stream",
     "text": [
      "[Stage 210:============================================>       (171 + 10) / 200]\r"
     ]
    },
    {
     "name": "stdout",
     "output_type": "stream",
     "text": [
      "For rank 5 and regParam 0.01 the RMSE is 1.0301192935235441\n"
     ]
    },
    {
     "name": "stderr",
     "output_type": "stream",
     "text": [
      "                                                                                \r"
     ]
    },
    {
     "name": "stdout",
     "output_type": "stream",
     "text": [
      "For rank 6 and regParam 0.01 the RMSE is 1.0311335725565325\n"
     ]
    },
    {
     "name": "stderr",
     "output_type": "stream",
     "text": [
      "                                                                                \r"
     ]
    },
    {
     "name": "stdout",
     "output_type": "stream",
     "text": [
      "For rank 7 and regParam 0.01 the RMSE is 1.0294362722679846\n"
     ]
    },
    {
     "name": "stderr",
     "output_type": "stream",
     "text": [
      "                                                                                \r"
     ]
    },
    {
     "name": "stdout",
     "output_type": "stream",
     "text": [
      "For rank 8 and regParam 0.01 the RMSE is 1.0552924507643928\n"
     ]
    },
    {
     "name": "stderr",
     "output_type": "stream",
     "text": [
      "                                                                                \r"
     ]
    },
    {
     "name": "stdout",
     "output_type": "stream",
     "text": [
      "For rank 9 and regParam 0.01 the RMSE is 1.050572920701859\n"
     ]
    },
    {
     "name": "stderr",
     "output_type": "stream",
     "text": [
      "                                                                                \r"
     ]
    },
    {
     "name": "stdout",
     "output_type": "stream",
     "text": [
      "For rank 10 and regParam 0.01 the RMSE is 1.057220782829928\n"
     ]
    },
    {
     "name": "stderr",
     "output_type": "stream",
     "text": [
      "[Stage 709:========================================>           (154 + 10) / 200]\r"
     ]
    },
    {
     "name": "stdout",
     "output_type": "stream",
     "text": [
      "For rank 11 and regParam 0.01 the RMSE is 1.0684831042429928\n"
     ]
    },
    {
     "name": "stderr",
     "output_type": "stream",
     "text": [
      "                                                                                \r"
     ]
    },
    {
     "name": "stdout",
     "output_type": "stream",
     "text": [
      "For rank 4 and regParam 0.1 the RMSE is 0.8958442506792226\n"
     ]
    },
    {
     "name": "stderr",
     "output_type": "stream",
     "text": [
      "                                                                                \r"
     ]
    },
    {
     "name": "stdout",
     "output_type": "stream",
     "text": [
      "For rank 5 and regParam 0.1 the RMSE is 0.898062619417609\n"
     ]
    },
    {
     "name": "stderr",
     "output_type": "stream",
     "text": [
      "                                                                                \r"
     ]
    },
    {
     "name": "stdout",
     "output_type": "stream",
     "text": [
      "For rank 6 and regParam 0.1 the RMSE is 0.9013573999739966\n"
     ]
    },
    {
     "name": "stderr",
     "output_type": "stream",
     "text": [
      "                                                                                \r"
     ]
    },
    {
     "name": "stdout",
     "output_type": "stream",
     "text": [
      "For rank 7 and regParam 0.1 the RMSE is 0.8964614013038112\n"
     ]
    },
    {
     "name": "stderr",
     "output_type": "stream",
     "text": [
      "                                                                                \r"
     ]
    },
    {
     "name": "stdout",
     "output_type": "stream",
     "text": [
      "For rank 8 and regParam 0.1 the RMSE is 0.89590571096802\n"
     ]
    },
    {
     "name": "stderr",
     "output_type": "stream",
     "text": [
      "                                                                                \r"
     ]
    },
    {
     "name": "stdout",
     "output_type": "stream",
     "text": [
      "For rank 9 and regParam 0.1 the RMSE is 0.9013159052706687\n"
     ]
    },
    {
     "name": "stderr",
     "output_type": "stream",
     "text": [
      "                                                                                \r"
     ]
    },
    {
     "name": "stdout",
     "output_type": "stream",
     "text": [
      "For rank 10 and regParam 0.1 the RMSE is 0.8987670363474984\n"
     ]
    },
    {
     "name": "stderr",
     "output_type": "stream",
     "text": [
      "[Stage 1372:============================================>      (173 + 10) / 200]\r"
     ]
    },
    {
     "name": "stdout",
     "output_type": "stream",
     "text": [
      "For rank 11 and regParam 0.1 the RMSE is 0.9003057135286106\n",
      "The best model was trained with rank 4 and regParam 0.1\n"
     ]
    },
    {
     "name": "stderr",
     "output_type": "stream",
     "text": [
      "                                                                                \r"
     ]
    }
   ],
   "source": [
    "ranks = range(4, 12)\n",
    "regParam = [0.01, 0.1]\n",
    "errors = []\n",
    "min_error = float('inf')\n",
    "for param in regParam:\n",
    "    for rank in ranks:\n",
    "        \n",
    "        tempALS = ALS(maxIter=10, rank=rank, regParam=param, nonnegative=True,\n",
    "              userCol='userId', itemCol='movieId', ratingCol='rating',\n",
    "              coldStartStrategy='drop', implicitPrefs=False, seed=SEED)\n",
    "\n",
    "        model = tempALS.fit(training_df)\n",
    "        \n",
    "        predictions = model.transform(validation_df)\n",
    "        evaluator = RegressionEvaluator(metricName='rmse', labelCol='rating',\n",
    "                                predictionCol='prediction')\n",
    "        rmse = evaluator.evaluate(predictions)\n",
    "        errors.append(rmse)\n",
    "        print ('For rank {0} and regParam {1} the RMSE is {2}'.format (rank, param, rmse))\n",
    "        \n",
    "        if rmse < min_error:\n",
    "            min_error = rmse\n",
    "            best_rank = rank\n",
    "            best_regParam = param\n",
    "            best_model = model\n",
    "        \n",
    "print ('The best model was trained with rank {0} and regParam {1}'.format(best_rank, best_regParam))\n",
    "    \n"
   ]
  },
  {
   "cell_type": "markdown",
   "metadata": {
    "colab_type": "text",
    "id": "P-Bi1VtXJbKb"
   },
   "source": [
    "#### **3.4.2 Evaluating Recommendations**"
   ]
  },
  {
   "cell_type": "code",
   "execution_count": 18,
   "metadata": {
    "colab": {},
    "colab_type": "code",
    "id": "YnI412Wh10Ky"
   },
   "outputs": [],
   "source": [
    "resultsALS = best_model.recommendForAllUsers(100)\n",
    "\n",
    "resultsALS = resultsALS.withColumn('recommendations',\n",
    "              udf_format_recommendations(F.col(\"recommendations\"))) \\\n",
    "              .toDF('userId', 'predictions')"
   ]
  },
  {
   "cell_type": "code",
   "execution_count": 19,
   "metadata": {},
   "outputs": [
    {
     "name": "stderr",
     "output_type": "stream",
     "text": [
      "[Stage 1400:==============================================>    (181 + 10) / 200]\r"
     ]
    },
    {
     "name": "stdout",
     "output_type": "stream",
     "text": [
      "+------+--------------------+\n",
      "|userId|         predictions|\n",
      "+------+--------------------+\n",
      "|   148|[6433, 86377, 177...|\n",
      "|   463|[177593, 3819, 64...|\n",
      "|   471|[6818, 148881, 35...|\n",
      "|   496|[5485, 7121, 2632...|\n",
      "|   540|[177593, 3030, 84...|\n",
      "+------+--------------------+\n",
      "\n"
     ]
    },
    {
     "name": "stderr",
     "output_type": "stream",
     "text": [
      "                                                                                \r"
     ]
    }
   ],
   "source": [
    "resultsALS.limit(5).orderBy('userId').show(5)"
   ]
  },
  {
   "cell_type": "code",
   "execution_count": 20,
   "metadata": {
    "colab": {},
    "colab_type": "code",
    "id": "hzUm10d-GsSV"
   },
   "outputs": [],
   "source": [
    "# Most frequently recommended movies\n",
    "resultsALSExpanded = resultsALS \\\n",
    "                        .withColumn(\"movieId\", F.explode(\"predictions\")) \\\n",
    "                        .drop('predictions') \\\n",
    "                        .join(dfMovies, \"movieId\")\n",
    "\n",
    "MostRecommendedMoviesForAllUsers = resultsALSExpanded.groupby([\"movieId\", \"title\"]).agg({'userId':'count'})\n",
    "MostRecommendedMoviesForAllUsers = MostRecommendedMoviesForAllUsers.sort(['count(userId)'], ascending=False)"
   ]
  },
  {
   "cell_type": "code",
   "execution_count": 21,
   "metadata": {},
   "outputs": [
    {
     "name": "stderr",
     "output_type": "stream",
     "text": [
      "[Stage 1427:================================================>  (190 + 10) / 200]\r"
     ]
    },
    {
     "name": "stdout",
     "output_type": "stream",
     "text": [
      "+-------+--------------------+-------------+\n",
      "|movieId|               title|count(userId)|\n",
      "+-------+--------------------+-------------+\n",
      "| 177593|Three Billboards ...|          560|\n",
      "|   7121|   Adam's Rib (1949)|          531|\n",
      "|  33649|  Saving Face (2004)|          528|\n",
      "|   6732|Hello, Dolly! (1969)|          488|\n",
      "|   3030|      Yojimbo (1961)|          461|\n",
      "+-------+--------------------+-------------+\n",
      "only showing top 5 rows\n",
      "\n"
     ]
    },
    {
     "name": "stderr",
     "output_type": "stream",
     "text": [
      "                                                                                \r"
     ]
    }
   ],
   "source": [
    "MostRecommendedMoviesForAllUsers.show(5)"
   ]
  },
  {
   "cell_type": "code",
   "execution_count": 22,
   "metadata": {
    "colab": {},
    "colab_type": "code",
    "id": "c-vIkRYfGhty"
   },
   "outputs": [],
   "source": [
    "# Verifying if the CF-ALS recommendations are consistent with the user's tastes\n",
    "resultsALS_validation = resultsALS \\\n",
    "                 .join(\n",
    "                 validation_df \\\n",
    "                 .filter(F.col(\"ratingsBinary\")==1.0) \\\n",
    "                 .withColumn('movieId', F.col('movieId').cast('int')) \\\n",
    "                 .groupby(\"userId\") \\\n",
    "                 .agg(F.collect_list(\"movieId\").alias(\"groundTruth\")),\n",
    "                     'userId'\n",
    "                 )\n",
    "\n",
    "resultsALS_test = resultsALS \\\n",
    "                 .join(\n",
    "                 testing_df \\\n",
    "                 .filter(F.col(\"ratingsBinary\")==1.0) \\\n",
    "                 .withColumn('movieId', F.col('movieId').cast('int')) \\\n",
    "                 .groupby(\"userId\") \\\n",
    "                 .agg(F.collect_list(\"movieId\").alias(\"groundTruth\")),\n",
    "                     'userId'\n",
    "                 )"
   ]
  },
  {
   "cell_type": "code",
   "execution_count": 23,
   "metadata": {},
   "outputs": [
    {
     "name": "stderr",
     "output_type": "stream",
     "text": [
      "[Stage 1455:========================================>          (158 + 10) / 200]\r"
     ]
    },
    {
     "name": "stdout",
     "output_type": "stream",
     "text": [
      "+------+--------------------+--------------------+\n",
      "|userId|         predictions|         groundTruth|\n",
      "+------+--------------------+--------------------+\n",
      "|   148|[6433, 86377, 177...|[4886, 7153, 4419...|\n",
      "|   463|[177593, 3819, 64...|[1552, 1690, 3448...|\n",
      "|   471|[6818, 148881, 35...|[2324, 4886, 6006...|\n",
      "|   496|[5485, 7121, 2632...|[3668, 7153, 1069...|\n",
      "|   540|[177593, 3030, 84...|[1409, 2028, 2747...|\n",
      "+------+--------------------+--------------------+\n",
      "\n"
     ]
    },
    {
     "name": "stderr",
     "output_type": "stream",
     "text": [
      "                                                                                \r"
     ]
    }
   ],
   "source": [
    "resultsALS_validation.limit(5).orderBy('userId').show(5)"
   ]
  },
  {
   "cell_type": "code",
   "execution_count": 24,
   "metadata": {
    "colab": {
     "base_uri": "https://localhost:8080/",
     "height": 50
    },
    "colab_type": "code",
    "executionInfo": {
     "elapsed": 2105276,
     "status": "ok",
     "timestamp": 1575130253959,
     "user": {
      "displayName": "Sébastien DAVID",
      "photoUrl": "https://lh4.googleusercontent.com/-5ClDRUzQ7U0/AAAAAAAAAAI/AAAAAAAAATg/YFmLqRzbOEE/s64/photo.jpg",
      "userId": "10617684434079600453"
     },
     "user_tz": -60
    },
    "id": "FsqZ4Qc_Go2M",
    "outputId": "0b9a8073-e36b-488a-f2a1-58f8faa8dc51"
   },
   "outputs": [
    {
     "name": "stderr",
     "output_type": "stream",
     "text": [
      "                                                                                \r"
     ]
    }
   ],
   "source": [
    "resultsALSMetrics = get_rec_sys_results(resultsALS_validation, dfMovies)"
   ]
  },
  {
   "cell_type": "code",
   "execution_count": 25,
   "metadata": {},
   "outputs": [
    {
     "name": "stderr",
     "output_type": "stream",
     "text": [
      "                                                                                \r"
     ]
    }
   ],
   "source": [
    "resultsALSMetrics_test = get_rec_sys_results(resultsALS_test, dfMovies)"
   ]
  },
  {
   "cell_type": "code",
   "execution_count": 26,
   "metadata": {},
   "outputs": [
    {
     "data": {
      "text/plain": [
       "{'Pk100': 0.0015346534653465351,\n",
       " 'NDCGk100': 0.003904072025096909,\n",
       " 'CC': 0.0847875179634572}"
      ]
     },
     "execution_count": 26,
     "metadata": {},
     "output_type": "execute_result"
    }
   ],
   "source": [
    "resultsALSMetrics"
   ]
  },
  {
   "cell_type": "code",
   "execution_count": 27,
   "metadata": {},
   "outputs": [
    {
     "data": {
      "text/plain": [
       "{'Pk100': 0.0014545454545454542,\n",
       " 'NDCGk100': 0.0035176941454152988,\n",
       " 'CC': 0.09484705399301992}"
      ]
     },
     "execution_count": 27,
     "metadata": {},
     "output_type": "execute_result"
    }
   ],
   "source": [
    "resultsALSMetrics_test"
   ]
  },
  {
   "cell_type": "markdown",
   "metadata": {
    "colab_type": "text",
    "id": "z2LAus5x1nQF"
   },
   "source": [
    "## **3.5. Results**"
   ]
  },
  {
   "cell_type": "markdown",
   "metadata": {
    "colab_type": "text",
    "id": "kk6XoP2I8T2J"
   },
   "source": [
    "**3.5.1 Performance Evaluation Comparisons on validation Data**"
   ]
  },
  {
   "cell_type": "code",
   "execution_count": 28,
   "metadata": {
    "colab": {},
    "colab_type": "code",
    "id": "7BLo3q-JUpk0"
   },
   "outputs": [],
   "source": [
    "results['RMSE'] = 'N/A'\n",
    "resultsALSMetrics['RMSE'] = min_error"
   ]
  },
  {
   "cell_type": "code",
   "execution_count": 29,
   "metadata": {
    "colab": {
     "base_uri": "https://localhost:8080/",
     "height": 167
    },
    "colab_type": "code",
    "executionInfo": {
     "elapsed": 610,
     "status": "ok",
     "timestamp": 1575130493336,
     "user": {
      "displayName": "Sébastien DAVID",
      "photoUrl": "https://lh4.googleusercontent.com/-5ClDRUzQ7U0/AAAAAAAAAAI/AAAAAAAAATg/YFmLqRzbOEE/s64/photo.jpg",
      "userId": "10617684434079600453"
     },
     "user_tz": -60
    },
    "id": "CkJWkFXEiY0G",
    "outputId": "54c8c469-a838-4639-c396-7a38386ff17e"
   },
   "outputs": [
    {
     "data": {
      "text/html": [
       "<div>\n",
       "<style scoped>\n",
       "    .dataframe tbody tr th:only-of-type {\n",
       "        vertical-align: middle;\n",
       "    }\n",
       "\n",
       "    .dataframe tbody tr th {\n",
       "        vertical-align: top;\n",
       "    }\n",
       "\n",
       "    .dataframe thead th {\n",
       "        text-align: right;\n",
       "    }\n",
       "</style>\n",
       "<table border=\"1\" class=\"dataframe\">\n",
       "  <thead>\n",
       "    <tr style=\"text-align: right;\">\n",
       "      <th></th>\n",
       "      <th>Popularity Reccomender</th>\n",
       "      <th>Collaborative Filteirng - ALS</th>\n",
       "    </tr>\n",
       "  </thead>\n",
       "  <tbody>\n",
       "    <tr>\n",
       "      <th>Pk100</th>\n",
       "      <td>0.047244</td>\n",
       "      <td>0.001535</td>\n",
       "    </tr>\n",
       "    <tr>\n",
       "      <th>NDCGk100</th>\n",
       "      <td>0.156603</td>\n",
       "      <td>0.003904</td>\n",
       "    </tr>\n",
       "    <tr>\n",
       "      <th>CC</th>\n",
       "      <td>0.010265</td>\n",
       "      <td>0.084788</td>\n",
       "    </tr>\n",
       "    <tr>\n",
       "      <th>RMSE</th>\n",
       "      <td>N/A</td>\n",
       "      <td>0.895844</td>\n",
       "    </tr>\n",
       "  </tbody>\n",
       "</table>\n",
       "</div>"
      ],
      "text/plain": [
       "         Popularity Reccomender Collaborative Filteirng - ALS\n",
       "Pk100                  0.047244                      0.001535\n",
       "NDCGk100               0.156603                      0.003904\n",
       "CC                     0.010265                      0.084788\n",
       "RMSE                        N/A                      0.895844"
      ]
     },
     "execution_count": 29,
     "metadata": {},
     "output_type": "execute_result"
    }
   ],
   "source": [
    "modelResults = pd.DataFrame([results, resultsALSMetrics],\n",
    "                             index=['Popularity Reccomender', 'Collaborative Filteirng - ALS'])\n",
    "\n",
    "modelResults.transpose()"
   ]
  },
  {
   "cell_type": "markdown",
   "metadata": {},
   "source": [
    "**3.5.2 Performance Evaluation Comparisons on Test Data**"
   ]
  },
  {
   "cell_type": "code",
   "execution_count": 30,
   "metadata": {},
   "outputs": [],
   "source": [
    "results_test['RMSE'] = 'N/A'"
   ]
  },
  {
   "cell_type": "code",
   "execution_count": 31,
   "metadata": {},
   "outputs": [
    {
     "name": "stderr",
     "output_type": "stream",
     "text": [
      "                                                                                \r"
     ]
    }
   ],
   "source": [
    "predictions = best_model.transform(testing_df)\n",
    "#best_model.recommendForUserSubset(100) \n",
    "evaluator = RegressionEvaluator(metricName='rmse', labelCol='rating',\n",
    "                                predictionCol='prediction')\n",
    "rmse = evaluator.evaluate(predictions)\n",
    "resultsALSMetrics_test['RMSE'] = rmse"
   ]
  },
  {
   "cell_type": "code",
   "execution_count": 32,
   "metadata": {},
   "outputs": [
    {
     "data": {
      "text/html": [
       "<div>\n",
       "<style scoped>\n",
       "    .dataframe tbody tr th:only-of-type {\n",
       "        vertical-align: middle;\n",
       "    }\n",
       "\n",
       "    .dataframe tbody tr th {\n",
       "        vertical-align: top;\n",
       "    }\n",
       "\n",
       "    .dataframe thead th {\n",
       "        text-align: right;\n",
       "    }\n",
       "</style>\n",
       "<table border=\"1\" class=\"dataframe\">\n",
       "  <thead>\n",
       "    <tr style=\"text-align: right;\">\n",
       "      <th></th>\n",
       "      <th>Popularity Reccomender</th>\n",
       "      <th>Collaborative Filteirng - ALS</th>\n",
       "    </tr>\n",
       "  </thead>\n",
       "  <tbody>\n",
       "    <tr>\n",
       "      <th>Pk100</th>\n",
       "      <td>0.047244</td>\n",
       "      <td>0.001455</td>\n",
       "    </tr>\n",
       "    <tr>\n",
       "      <th>NDCGk100</th>\n",
       "      <td>0.156603</td>\n",
       "      <td>0.003518</td>\n",
       "    </tr>\n",
       "    <tr>\n",
       "      <th>CC</th>\n",
       "      <td>0.010265</td>\n",
       "      <td>0.094847</td>\n",
       "    </tr>\n",
       "    <tr>\n",
       "      <th>RMSE</th>\n",
       "      <td>N/A</td>\n",
       "      <td>0.910295</td>\n",
       "    </tr>\n",
       "  </tbody>\n",
       "</table>\n",
       "</div>"
      ],
      "text/plain": [
       "         Popularity Reccomender Collaborative Filteirng - ALS\n",
       "Pk100                  0.047244                      0.001455\n",
       "NDCGk100               0.156603                      0.003518\n",
       "CC                     0.010265                      0.094847\n",
       "RMSE                        N/A                      0.910295"
      ]
     },
     "execution_count": 32,
     "metadata": {},
     "output_type": "execute_result"
    }
   ],
   "source": [
    "modelResults = pd.DataFrame([results_test, resultsALSMetrics_test],\n",
    "                             index=['Popularity Reccomender', 'Collaborative Filteirng - ALS'])\n",
    "\n",
    "modelResults.transpose()"
   ]
  },
  {
   "cell_type": "code",
   "execution_count": 33,
   "metadata": {},
   "outputs": [
    {
     "data": {
      "image/png": "[encoded data removed]",
      "text/plain": [
       "<Figure size 432x288 with 1 Axes>"
      ]
     },
     "metadata": {
      "needs_background": "light"
     },
     "output_type": "display_data"
    },
    {
     "data": {
      "image/png": "[encoded data removed]",
      "text/plain": [
       "<Figure size 432x288 with 1 Axes>"
      ]
     },
     "metadata": {
      "needs_background": "light"
     },
     "output_type": "display_data"
    },
    {
     "data": {
      "image/png": "[encoded data removed]",
      "text/plain": [
       "<Figure size 432x288 with 1 Axes>"
      ]
     },
     "metadata": {
      "needs_background": "light"
     },
     "output_type": "display_data"
    }
   ],
   "source": [
    "results['RMSE'] = 0\n",
    "\n",
    "X = ['Pk100','NDCGk100','CC','RMSE']\n",
    "popRec = results.values()\n",
    "alsRec = resultsALSMetrics.values()\n",
    "  \n",
    "X_axis = np.arange(len(X))\n",
    "plt.figure(1)  \n",
    "plt.bar(X_axis - 0.1, popRec, 0.2, label = 'Popularity Recommender')\n",
    "plt.xticks(X_axis, X)\n",
    "plt.xlabel(\"Accuracy/Ranking Metrics\")\n",
    "plt.ylabel(\"Score\")\n",
    "plt.title(\"For Validation Dataset\")\n",
    "plt.legend()\n",
    "plt.show()\n",
    "\n",
    "plt.figure(2)\n",
    "plt.bar(X_axis + 0.1, alsRec, 0.2, label = 'Collaborativ Filtering - ALS')\n",
    "plt.xticks(X_axis, X)\n",
    "plt.xlabel(\"Accuracy/Ranking Metrics\")\n",
    "plt.ylabel(\"Score\")\n",
    "plt.title(\"For Validation Dataset\")\n",
    "plt.legend()\n",
    "plt.show()\n",
    "\n",
    "plt.figure(3)\n",
    "plt.bar(X_axis - 0.1, popRec, 0.2, label = 'Popularity Recommender')\n",
    "plt.bar(X_axis + 0.1, alsRec, 0.2, label = 'Collaborativ Filtering - ALS')\n",
    "plt.xticks(X_axis, X)\n",
    "plt.xlabel(\"Accuracy/Ranking Metrics\")\n",
    "plt.ylabel(\"Score\")\n",
    "plt.title(\"For Validation Dataset - Side by Side Comparisons\")\n",
    "plt.legend()\n",
    "plt.show()"
   ]
  },
  {
   "cell_type": "code",
   "execution_count": 34,
   "metadata": {},
   "outputs": [
    {
     "data": {
      "image/png": "[encoded data removed]",
      "text/plain": [
       "<Figure size 432x288 with 1 Axes>"
      ]
     },
     "metadata": {
      "needs_background": "light"
     },
     "output_type": "display_data"
    },
    {
     "data": {
      "image/png": "[encoded data removed]",
      "text/plain": [
       "<Figure size 432x288 with 1 Axes>"
      ]
     },
     "metadata": {
      "needs_background": "light"
     },
     "output_type": "display_data"
    },
    {
     "data": {
      "image/png": "[encoded data removed]",
      "text/plain": [
       "<Figure size 432x288 with 1 Axes>"
      ]
     },
     "metadata": {
      "needs_background": "light"
     },
     "output_type": "display_data"
    }
   ],
   "source": [
    "results_test['RMSE'] = 0\n",
    "\n",
    "X = ['Pk100','NDCGk100','CC','RMSE']\n",
    "popRec = results_test.values()\n",
    "alsRec = resultsALSMetrics_test.values()\n",
    "  \n",
    "X_axis = np.arange(len(X))\n",
    "plt.figure(4)  \n",
    "plt.bar(X_axis - 0.1, popRec, 0.2, label = 'Popularity Recommender')\n",
    "plt.xticks(X_axis, X)\n",
    "plt.xlabel(\"Accuracy/Ranking Metrics\")\n",
    "plt.ylabel(\"Score\")\n",
    "plt.title(\"For Test Dataset\")\n",
    "plt.legend()\n",
    "plt.show()\n",
    "\n",
    "plt.figure(5)\n",
    "plt.bar(X_axis + 0.1, alsRec, 0.2, label = 'Collaborativ Filtering - ALS')\n",
    "plt.xticks(X_axis, X)\n",
    "plt.xlabel(\"Accuracy/Ranking Metrics\")\n",
    "plt.ylabel(\"Score\")\n",
    "plt.title(\"For Test Dataset\")\n",
    "plt.legend()\n",
    "plt.show()\n",
    "\n",
    "plt.figure(6)\n",
    "plt.bar(X_axis - 0.1, popRec, 0.2, label = 'Popularity Recommender')\n",
    "plt.bar(X_axis + 0.1, alsRec, 0.2, label = 'Collaborativ Filtering - ALS')\n",
    "plt.xticks(X_axis, X)\n",
    "plt.xlabel(\"Accuracy/Ranking Metrics\")\n",
    "plt.ylabel(\"Score\")\n",
    "plt.title(\"For Test Dataset - Side by Side Comparisons\")\n",
    "plt.legend()\n",
    "plt.show()"
   ]
  },
  {
   "cell_type": "markdown",
   "metadata": {},
   "source": [
    "## **3.6. Extensions Done**"
   ]
  },
  {
   "cell_type": "markdown",
   "metadata": {},
   "source": [
    "**3.6.1 ALS Benchmarking on Clusters and Single Machine**"
   ]
  },
  {
   "cell_type": "markdown",
   "metadata": {},
   "source": [
    "**3.6.1.1 For Clusters**"
   ]
  },
  {
   "cell_type": "code",
   "execution_count": 35,
   "metadata": {},
   "outputs": [
    {
     "data": {
      "application/vnd.jupyter.widget-view+json": {
       "model_id": "d2cf6116510c4c92b2b35efdc56553e0",
       "version_major": 2,
       "version_minor": 0
      },
      "text/plain": [
       "Tab(children=(HTML(value='<div class=\"jp-RenderedHTMLCommon jp-RenderedHTML jp-mod-trusted jp-OutputArea-outpu…"
      ]
     },
     "metadata": {},
     "output_type": "display_data"
    },
    {
     "name": "stderr",
     "output_type": "stream",
     "text": [
      "Task exception was never retrieved\n",
      "future: <Task finished name='Task-43' coro=<_wrap_awaitable() done, defined at /ext3/pyspark/lib/python3.8/asyncio/tasks.py:688> exception=FileNotFoundError(2, 'No such file or directory')>\n",
      "Traceback (most recent call last):\n",
      "  File \"/ext3/pyspark/lib/python3.8/asyncio/tasks.py\", line 695, in _wrap_awaitable\n",
      "    return (yield from awaitable.__await__())\n",
      "  File \"/home/ax2047/.local/lib/python3.8/site-packages/distributed/deploy/spec.py\", line 59, in _\n",
      "    await self.start()\n",
      "  File \"/home/ax2047/.local/lib/python3.8/site-packages/dask_jobqueue/core.py\", line 325, in start\n",
      "    out = await self._submit_job(fn)\n",
      "  File \"/home/ax2047/.local/lib/python3.8/site-packages/dask_jobqueue/core.py\", line 308, in _submit_job\n",
      "    return self._call(shlex.split(self.submit_command) + [script_filename])\n",
      "  File \"/home/ax2047/.local/lib/python3.8/site-packages/dask_jobqueue/core.py\", line 395, in _call\n",
      "    proc = subprocess.Popen(\n",
      "  File \"/ext3/pyspark/lib/python3.8/subprocess.py\", line 858, in __init__\n",
      "    self._execute_child(args, executable, preexec_fn, close_fds,\n",
      "  File \"/ext3/pyspark/lib/python3.8/subprocess.py\", line 1704, in _execute_child\n",
      "    raise child_exception_type(errno_num, err_msg, err_filename)\n",
      "FileNotFoundError: [Errno 2] No such file or directory: 'sbatch'\n",
      "Task exception was never retrieved\n",
      "future: <Task finished name='Task-68' coro=<_wrap_awaitable() done, defined at /ext3/pyspark/lib/python3.8/asyncio/tasks.py:688> exception=FileNotFoundError(2, 'No such file or directory')>\n",
      "Traceback (most recent call last):\n",
      "  File \"/ext3/pyspark/lib/python3.8/asyncio/tasks.py\", line 695, in _wrap_awaitable\n",
      "    return (yield from awaitable.__await__())\n",
      "  File \"/home/ax2047/.local/lib/python3.8/site-packages/distributed/deploy/spec.py\", line 59, in _\n",
      "    await self.start()\n",
      "  File \"/home/ax2047/.local/lib/python3.8/site-packages/dask_jobqueue/core.py\", line 325, in start\n",
      "    out = await self._submit_job(fn)\n",
      "  File \"/home/ax2047/.local/lib/python3.8/site-packages/dask_jobqueue/core.py\", line 308, in _submit_job\n",
      "    return self._call(shlex.split(self.submit_command) + [script_filename])\n",
      "  File \"/home/ax2047/.local/lib/python3.8/site-packages/dask_jobqueue/core.py\", line 395, in _call\n",
      "    proc = subprocess.Popen(\n",
      "  File \"/ext3/pyspark/lib/python3.8/subprocess.py\", line 858, in __init__\n",
      "    self._execute_child(args, executable, preexec_fn, close_fds,\n",
      "  File \"/ext3/pyspark/lib/python3.8/subprocess.py\", line 1704, in _execute_child\n",
      "    raise child_exception_type(errno_num, err_msg, err_filename)\n",
      "FileNotFoundError: [Errno 2] No such file or directory: 'sbatch'\n",
      "Task exception was never retrieved\n",
      "future: <Task finished name='Task-56' coro=<_wrap_awaitable() done, defined at /ext3/pyspark/lib/python3.8/asyncio/tasks.py:688> exception=FileNotFoundError(2, 'No such file or directory')>\n",
      "Traceback (most recent call last):\n",
      "  File \"/ext3/pyspark/lib/python3.8/asyncio/tasks.py\", line 695, in _wrap_awaitable\n",
      "    return (yield from awaitable.__await__())\n",
      "  File \"/home/ax2047/.local/lib/python3.8/site-packages/distributed/deploy/spec.py\", line 59, in _\n",
      "    await self.start()\n",
      "  File \"/home/ax2047/.local/lib/python3.8/site-packages/dask_jobqueue/core.py\", line 325, in start\n",
      "    out = await self._submit_job(fn)\n",
      "  File \"/home/ax2047/.local/lib/python3.8/site-packages/dask_jobqueue/core.py\", line 308, in _submit_job\n",
      "    return self._call(shlex.split(self.submit_command) + [script_filename])\n",
      "  File \"/home/ax2047/.local/lib/python3.8/site-packages/dask_jobqueue/core.py\", line 395, in _call\n",
      "    proc = subprocess.Popen(\n",
      "  File \"/ext3/pyspark/lib/python3.8/subprocess.py\", line 858, in __init__\n",
      "    self._execute_child(args, executable, preexec_fn, close_fds,\n",
      "  File \"/ext3/pyspark/lib/python3.8/subprocess.py\", line 1704, in _execute_child\n",
      "    raise child_exception_type(errno_num, err_msg, err_filename)\n",
      "FileNotFoundError: [Errno 2] No such file or directory: 'sbatch'\n",
      "Task exception was never retrieved\n",
      "future: <Task finished name='Task-31' coro=<_wrap_awaitable() done, defined at /ext3/pyspark/lib/python3.8/asyncio/tasks.py:688> exception=FileNotFoundError(2, 'No such file or directory')>\n",
      "Traceback (most recent call last):\n",
      "  File \"/ext3/pyspark/lib/python3.8/asyncio/tasks.py\", line 695, in _wrap_awaitable\n",
      "    return (yield from awaitable.__await__())\n",
      "  File \"/home/ax2047/.local/lib/python3.8/site-packages/distributed/deploy/spec.py\", line 59, in _\n",
      "    await self.start()\n",
      "  File \"/home/ax2047/.local/lib/python3.8/site-packages/dask_jobqueue/core.py\", line 325, in start\n",
      "    out = await self._submit_job(fn)\n",
      "  File \"/home/ax2047/.local/lib/python3.8/site-packages/dask_jobqueue/core.py\", line 308, in _submit_job\n",
      "    return self._call(shlex.split(self.submit_command) + [script_filename])\n",
      "  File \"/home/ax2047/.local/lib/python3.8/site-packages/dask_jobqueue/core.py\", line 395, in _call\n",
      "    proc = subprocess.Popen(\n",
      "  File \"/ext3/pyspark/lib/python3.8/subprocess.py\", line 858, in __init__\n",
      "    self._execute_child(args, executable, preexec_fn, close_fds,\n",
      "  File \"/ext3/pyspark/lib/python3.8/subprocess.py\", line 1704, in _execute_child\n",
      "    raise child_exception_type(errno_num, err_msg, err_filename)\n",
      "FileNotFoundError: [Errno 2] No such file or directory: 'sbatch'\n",
      "Task exception was never retrieved\n",
      "future: <Task finished name='Task-21' coro=<_wrap_awaitable() done, defined at /ext3/pyspark/lib/python3.8/asyncio/tasks.py:688> exception=FileNotFoundError(2, 'No such file or directory')>\n",
      "Traceback (most recent call last):\n",
      "  File \"/ext3/pyspark/lib/python3.8/asyncio/tasks.py\", line 695, in _wrap_awaitable\n",
      "    return (yield from awaitable.__await__())\n",
      "  File \"/home/ax2047/.local/lib/python3.8/site-packages/distributed/deploy/spec.py\", line 59, in _\n",
      "    await self.start()\n",
      "  File \"/home/ax2047/.local/lib/python3.8/site-packages/dask_jobqueue/core.py\", line 325, in start\n",
      "    out = await self._submit_job(fn)\n",
      "  File \"/home/ax2047/.local/lib/python3.8/site-packages/dask_jobqueue/core.py\", line 308, in _submit_job\n",
      "    return self._call(shlex.split(self.submit_command) + [script_filename])\n",
      "  File \"/home/ax2047/.local/lib/python3.8/site-packages/dask_jobqueue/core.py\", line 395, in _call\n",
      "    proc = subprocess.Popen(\n",
      "  File \"/ext3/pyspark/lib/python3.8/subprocess.py\", line 858, in __init__\n",
      "    self._execute_child(args, executable, preexec_fn, close_fds,\n",
      "  File \"/ext3/pyspark/lib/python3.8/subprocess.py\", line 1704, in _execute_child\n",
      "    raise child_exception_type(errno_num, err_msg, err_filename)\n",
      "FileNotFoundError: [Errno 2] No such file or directory: 'sbatch'\n",
      "Task exception was never retrieved\n",
      "future: <Task finished name='Task-44' coro=<_wrap_awaitable() done, defined at /ext3/pyspark/lib/python3.8/asyncio/tasks.py:688> exception=FileNotFoundError(2, 'No such file or directory')>\n",
      "Traceback (most recent call last):\n",
      "  File \"/ext3/pyspark/lib/python3.8/asyncio/tasks.py\", line 695, in _wrap_awaitable\n",
      "    return (yield from awaitable.__await__())\n",
      "  File \"/home/ax2047/.local/lib/python3.8/site-packages/distributed/deploy/spec.py\", line 59, in _\n",
      "    await self.start()\n",
      "  File \"/home/ax2047/.local/lib/python3.8/site-packages/dask_jobqueue/core.py\", line 325, in start\n",
      "    out = await self._submit_job(fn)\n",
      "  File \"/home/ax2047/.local/lib/python3.8/site-packages/dask_jobqueue/core.py\", line 308, in _submit_job\n",
      "    return self._call(shlex.split(self.submit_command) + [script_filename])\n",
      "  File \"/home/ax2047/.local/lib/python3.8/site-packages/dask_jobqueue/core.py\", line 395, in _call\n",
      "    proc = subprocess.Popen(\n",
      "  File \"/ext3/pyspark/lib/python3.8/subprocess.py\", line 858, in __init__\n",
      "    self._execute_child(args, executable, preexec_fn, close_fds,\n",
      "  File \"/ext3/pyspark/lib/python3.8/subprocess.py\", line 1704, in _execute_child\n",
      "    raise child_exception_type(errno_num, err_msg, err_filename)\n",
      "FileNotFoundError: [Errno 2] No such file or directory: 'sbatch'\n",
      "Task exception was never retrieved\n",
      "future: <Task finished name='Task-32' coro=<_wrap_awaitable() done, defined at /ext3/pyspark/lib/python3.8/asyncio/tasks.py:688> exception=FileNotFoundError(2, 'No such file or directory')>\n",
      "Traceback (most recent call last):\n",
      "  File \"/ext3/pyspark/lib/python3.8/asyncio/tasks.py\", line 695, in _wrap_awaitable\n",
      "    return (yield from awaitable.__await__())\n",
      "  File \"/home/ax2047/.local/lib/python3.8/site-packages/distributed/deploy/spec.py\", line 59, in _\n",
      "    await self.start()\n",
      "  File \"/home/ax2047/.local/lib/python3.8/site-packages/dask_jobqueue/core.py\", line 325, in start\n",
      "    out = await self._submit_job(fn)\n",
      "  File \"/home/ax2047/.local/lib/python3.8/site-packages/dask_jobqueue/core.py\", line 308, in _submit_job\n",
      "    return self._call(shlex.split(self.submit_command) + [script_filename])\n",
      "  File \"/home/ax2047/.local/lib/python3.8/site-packages/dask_jobqueue/core.py\", line 395, in _call\n",
      "    proc = subprocess.Popen(\n",
      "  File \"/ext3/pyspark/lib/python3.8/subprocess.py\", line 858, in __init__\n",
      "    self._execute_child(args, executable, preexec_fn, close_fds,\n",
      "  File \"/ext3/pyspark/lib/python3.8/subprocess.py\", line 1704, in _execute_child\n",
      "    raise child_exception_type(errno_num, err_msg, err_filename)\n",
      "FileNotFoundError: [Errno 2] No such file or directory: 'sbatch'\n",
      "Task exception was never retrieved\n",
      "future: <Task finished name='Task-57' coro=<_wrap_awaitable() done, defined at /ext3/pyspark/lib/python3.8/asyncio/tasks.py:688> exception=FileNotFoundError(2, 'No such file or directory')>\n",
      "Traceback (most recent call last):\n",
      "  File \"/ext3/pyspark/lib/python3.8/asyncio/tasks.py\", line 695, in _wrap_awaitable\n",
      "    return (yield from awaitable.__await__())\n",
      "  File \"/home/ax2047/.local/lib/python3.8/site-packages/distributed/deploy/spec.py\", line 59, in _\n",
      "    await self.start()\n",
      "  File \"/home/ax2047/.local/lib/python3.8/site-packages/dask_jobqueue/core.py\", line 325, in start\n",
      "    out = await self._submit_job(fn)\n",
      "  File \"/home/ax2047/.local/lib/python3.8/site-packages/dask_jobqueue/core.py\", line 308, in _submit_job\n",
      "    return self._call(shlex.split(self.submit_command) + [script_filename])\n",
      "  File \"/home/ax2047/.local/lib/python3.8/site-packages/dask_jobqueue/core.py\", line 395, in _call\n",
      "    proc = subprocess.Popen(\n",
      "  File \"/ext3/pyspark/lib/python3.8/subprocess.py\", line 858, in __init__\n",
      "    self._execute_child(args, executable, preexec_fn, close_fds,\n",
      "  File \"/ext3/pyspark/lib/python3.8/subprocess.py\", line 1704, in _execute_child\n",
      "    raise child_exception_type(errno_num, err_msg, err_filename)\n",
      "FileNotFoundError: [Errno 2] No such file or directory: 'sbatch'\n",
      "Task exception was never retrieved\n",
      "future: <Task finished name='Task-69' coro=<_wrap_awaitable() done, defined at /ext3/pyspark/lib/python3.8/asyncio/tasks.py:688> exception=FileNotFoundError(2, 'No such file or directory')>\n",
      "Traceback (most recent call last):\n",
      "  File \"/ext3/pyspark/lib/python3.8/asyncio/tasks.py\", line 695, in _wrap_awaitable\n",
      "    return (yield from awaitable.__await__())\n",
      "  File \"/home/ax2047/.local/lib/python3.8/site-packages/distributed/deploy/spec.py\", line 59, in _\n",
      "    await self.start()\n",
      "  File \"/home/ax2047/.local/lib/python3.8/site-packages/dask_jobqueue/core.py\", line 325, in start\n",
      "    out = await self._submit_job(fn)\n",
      "  File \"/home/ax2047/.local/lib/python3.8/site-packages/dask_jobqueue/core.py\", line 308, in _submit_job\n",
      "    return self._call(shlex.split(self.submit_command) + [script_filename])\n",
      "  File \"/home/ax2047/.local/lib/python3.8/site-packages/dask_jobqueue/core.py\", line 395, in _call\n",
      "    proc = subprocess.Popen(\n",
      "  File \"/ext3/pyspark/lib/python3.8/subprocess.py\", line 858, in __init__\n",
      "    self._execute_child(args, executable, preexec_fn, close_fds,\n",
      "  File \"/ext3/pyspark/lib/python3.8/subprocess.py\", line 1704, in _execute_child\n",
      "    raise child_exception_type(errno_num, err_msg, err_filename)\n",
      "FileNotFoundError: [Errno 2] No such file or directory: 'sbatch'\n",
      "Task exception was never retrieved\n",
      "future: <Task finished name='Task-70' coro=<_wrap_awaitable() done, defined at /ext3/pyspark/lib/python3.8/asyncio/tasks.py:688> exception=FileNotFoundError(2, 'No such file or directory')>\n",
      "Traceback (most recent call last):\n",
      "  File \"/ext3/pyspark/lib/python3.8/asyncio/tasks.py\", line 695, in _wrap_awaitable\n",
      "    return (yield from awaitable.__await__())\n",
      "  File \"/home/ax2047/.local/lib/python3.8/site-packages/distributed/deploy/spec.py\", line 59, in _\n",
      "    await self.start()\n",
      "  File \"/home/ax2047/.local/lib/python3.8/site-packages/dask_jobqueue/core.py\", line 325, in start\n",
      "    out = await self._submit_job(fn)\n",
      "  File \"/home/ax2047/.local/lib/python3.8/site-packages/dask_jobqueue/core.py\", line 308, in _submit_job\n",
      "    return self._call(shlex.split(self.submit_command) + [script_filename])\n",
      "  File \"/home/ax2047/.local/lib/python3.8/site-packages/dask_jobqueue/core.py\", line 395, in _call\n",
      "    proc = subprocess.Popen(\n",
      "  File \"/ext3/pyspark/lib/python3.8/subprocess.py\", line 858, in __init__\n",
      "    self._execute_child(args, executable, preexec_fn, close_fds,\n",
      "  File \"/ext3/pyspark/lib/python3.8/subprocess.py\", line 1704, in _execute_child\n",
      "    raise child_exception_type(errno_num, err_msg, err_filename)\n",
      "FileNotFoundError: [Errno 2] No such file or directory: 'sbatch'\n",
      "Task exception was never retrieved\n",
      "future: <Task finished name='Task-45' coro=<_wrap_awaitable() done, defined at /ext3/pyspark/lib/python3.8/asyncio/tasks.py:688> exception=FileNotFoundError(2, 'No such file or directory')>\n",
      "Traceback (most recent call last):\n",
      "  File \"/ext3/pyspark/lib/python3.8/asyncio/tasks.py\", line 695, in _wrap_awaitable\n",
      "    return (yield from awaitable.__await__())\n",
      "  File \"/home/ax2047/.local/lib/python3.8/site-packages/distributed/deploy/spec.py\", line 59, in _\n",
      "    await self.start()\n",
      "  File \"/home/ax2047/.local/lib/python3.8/site-packages/dask_jobqueue/core.py\", line 325, in start\n",
      "    out = await self._submit_job(fn)\n",
      "  File \"/home/ax2047/.local/lib/python3.8/site-packages/dask_jobqueue/core.py\", line 308, in _submit_job\n",
      "    return self._call(shlex.split(self.submit_command) + [script_filename])\n",
      "  File \"/home/ax2047/.local/lib/python3.8/site-packages/dask_jobqueue/core.py\", line 395, in _call\n",
      "    proc = subprocess.Popen(\n",
      "  File \"/ext3/pyspark/lib/python3.8/subprocess.py\", line 858, in __init__\n",
      "    self._execute_child(args, executable, preexec_fn, close_fds,\n",
      "  File \"/ext3/pyspark/lib/python3.8/subprocess.py\", line 1704, in _execute_child\n",
      "    raise child_exception_type(errno_num, err_msg, err_filename)\n",
      "FileNotFoundError: [Errno 2] No such file or directory: 'sbatch'\n",
      "Task exception was never retrieved\n",
      "future: <Task finished name='Task-33' coro=<_wrap_awaitable() done, defined at /ext3/pyspark/lib/python3.8/asyncio/tasks.py:688> exception=FileNotFoundError(2, 'No such file or directory')>\n",
      "Traceback (most recent call last):\n",
      "  File \"/ext3/pyspark/lib/python3.8/asyncio/tasks.py\", line 695, in _wrap_awaitable\n",
      "    return (yield from awaitable.__await__())\n",
      "  File \"/home/ax2047/.local/lib/python3.8/site-packages/distributed/deploy/spec.py\", line 59, in _\n",
      "    await self.start()\n",
      "  File \"/home/ax2047/.local/lib/python3.8/site-packages/dask_jobqueue/core.py\", line 325, in start\n",
      "    out = await self._submit_job(fn)\n",
      "  File \"/home/ax2047/.local/lib/python3.8/site-packages/dask_jobqueue/core.py\", line 308, in _submit_job\n",
      "    return self._call(shlex.split(self.submit_command) + [script_filename])\n",
      "  File \"/home/ax2047/.local/lib/python3.8/site-packages/dask_jobqueue/core.py\", line 395, in _call\n",
      "    proc = subprocess.Popen(\n",
      "  File \"/ext3/pyspark/lib/python3.8/subprocess.py\", line 858, in __init__\n",
      "    self._execute_child(args, executable, preexec_fn, close_fds,\n",
      "  File \"/ext3/pyspark/lib/python3.8/subprocess.py\", line 1704, in _execute_child\n",
      "    raise child_exception_type(errno_num, err_msg, err_filename)\n",
      "FileNotFoundError: [Errno 2] No such file or directory: 'sbatch'\n",
      "Task exception was never retrieved\n",
      "future: <Task finished name='Task-58' coro=<_wrap_awaitable() done, defined at /ext3/pyspark/lib/python3.8/asyncio/tasks.py:688> exception=FileNotFoundError(2, 'No such file or directory')>\n",
      "Traceback (most recent call last):\n",
      "  File \"/ext3/pyspark/lib/python3.8/asyncio/tasks.py\", line 695, in _wrap_awaitable\n",
      "    return (yield from awaitable.__await__())\n",
      "  File \"/home/ax2047/.local/lib/python3.8/site-packages/distributed/deploy/spec.py\", line 59, in _\n",
      "    await self.start()\n",
      "  File \"/home/ax2047/.local/lib/python3.8/site-packages/dask_jobqueue/core.py\", line 325, in start\n",
      "    out = await self._submit_job(fn)\n",
      "  File \"/home/ax2047/.local/lib/python3.8/site-packages/dask_jobqueue/core.py\", line 308, in _submit_job\n",
      "    return self._call(shlex.split(self.submit_command) + [script_filename])\n",
      "  File \"/home/ax2047/.local/lib/python3.8/site-packages/dask_jobqueue/core.py\", line 395, in _call\n",
      "    proc = subprocess.Popen(\n",
      "  File \"/ext3/pyspark/lib/python3.8/subprocess.py\", line 858, in __init__\n",
      "    self._execute_child(args, executable, preexec_fn, close_fds,\n",
      "  File \"/ext3/pyspark/lib/python3.8/subprocess.py\", line 1704, in _execute_child\n",
      "    raise child_exception_type(errno_num, err_msg, err_filename)\n",
      "FileNotFoundError: [Errno 2] No such file or directory: 'sbatch'\n",
      "Task exception was never retrieved\n",
      "future: <Task finished name='Task-30' coro=<_wrap_awaitable() done, defined at /ext3/pyspark/lib/python3.8/asyncio/tasks.py:688> exception=FileNotFoundError(2, 'No such file or directory')>\n",
      "Traceback (most recent call last):\n",
      "  File \"/ext3/pyspark/lib/python3.8/asyncio/tasks.py\", line 695, in _wrap_awaitable\n",
      "    return (yield from awaitable.__await__())\n",
      "  File \"/home/ax2047/.local/lib/python3.8/site-packages/distributed/deploy/spec.py\", line 59, in _\n",
      "    await self.start()\n",
      "  File \"/home/ax2047/.local/lib/python3.8/site-packages/dask_jobqueue/core.py\", line 325, in start\n",
      "    out = await self._submit_job(fn)\n",
      "  File \"/home/ax2047/.local/lib/python3.8/site-packages/dask_jobqueue/core.py\", line 308, in _submit_job\n",
      "    return self._call(shlex.split(self.submit_command) + [script_filename])\n",
      "  File \"/home/ax2047/.local/lib/python3.8/site-packages/dask_jobqueue/core.py\", line 395, in _call\n",
      "    proc = subprocess.Popen(\n",
      "  File \"/ext3/pyspark/lib/python3.8/subprocess.py\", line 858, in __init__\n",
      "    self._execute_child(args, executable, preexec_fn, close_fds,\n",
      "  File \"/ext3/pyspark/lib/python3.8/subprocess.py\", line 1704, in _execute_child\n",
      "    raise child_exception_type(errno_num, err_msg, err_filename)\n",
      "FileNotFoundError: [Errno 2] No such file or directory: 'sbatch'\n",
      "Task exception was never retrieved\n",
      "future: <Task finished name='Task-46' coro=<_wrap_awaitable() done, defined at /ext3/pyspark/lib/python3.8/asyncio/tasks.py:688> exception=FileNotFoundError(2, 'No such file or directory')>\n",
      "Traceback (most recent call last):\n",
      "  File \"/ext3/pyspark/lib/python3.8/asyncio/tasks.py\", line 695, in _wrap_awaitable\n",
      "    return (yield from awaitable.__await__())\n",
      "  File \"/home/ax2047/.local/lib/python3.8/site-packages/distributed/deploy/spec.py\", line 59, in _\n",
      "    await self.start()\n",
      "  File \"/home/ax2047/.local/lib/python3.8/site-packages/dask_jobqueue/core.py\", line 325, in start\n",
      "    out = await self._submit_job(fn)\n",
      "  File \"/home/ax2047/.local/lib/python3.8/site-packages/dask_jobqueue/core.py\", line 308, in _submit_job\n",
      "    return self._call(shlex.split(self.submit_command) + [script_filename])\n",
      "  File \"/home/ax2047/.local/lib/python3.8/site-packages/dask_jobqueue/core.py\", line 395, in _call\n",
      "    proc = subprocess.Popen(\n",
      "  File \"/ext3/pyspark/lib/python3.8/subprocess.py\", line 858, in __init__\n",
      "    self._execute_child(args, executable, preexec_fn, close_fds,\n",
      "  File \"/ext3/pyspark/lib/python3.8/subprocess.py\", line 1704, in _execute_child\n",
      "    raise child_exception_type(errno_num, err_msg, err_filename)\n",
      "FileNotFoundError: [Errno 2] No such file or directory: 'sbatch'\n",
      "Task exception was never retrieved\n",
      "future: <Task finished name='Task-34' coro=<_wrap_awaitable() done, defined at /ext3/pyspark/lib/python3.8/asyncio/tasks.py:688> exception=FileNotFoundError(2, 'No such file or directory')>\n",
      "Traceback (most recent call last):\n",
      "  File \"/ext3/pyspark/lib/python3.8/asyncio/tasks.py\", line 695, in _wrap_awaitable\n",
      "    return (yield from awaitable.__await__())\n",
      "  File \"/home/ax2047/.local/lib/python3.8/site-packages/distributed/deploy/spec.py\", line 59, in _\n",
      "    await self.start()\n",
      "  File \"/home/ax2047/.local/lib/python3.8/site-packages/dask_jobqueue/core.py\", line 325, in start\n",
      "    out = await self._submit_job(fn)\n",
      "  File \"/home/ax2047/.local/lib/python3.8/site-packages/dask_jobqueue/core.py\", line 308, in _submit_job\n",
      "    return self._call(shlex.split(self.submit_command) + [script_filename])\n",
      "  File \"/home/ax2047/.local/lib/python3.8/site-packages/dask_jobqueue/core.py\", line 395, in _call\n",
      "    proc = subprocess.Popen(\n",
      "  File \"/ext3/pyspark/lib/python3.8/subprocess.py\", line 858, in __init__\n",
      "    self._execute_child(args, executable, preexec_fn, close_fds,\n",
      "  File \"/ext3/pyspark/lib/python3.8/subprocess.py\", line 1704, in _execute_child\n",
      "    raise child_exception_type(errno_num, err_msg, err_filename)\n",
      "FileNotFoundError: [Errno 2] No such file or directory: 'sbatch'\n",
      "Task exception was never retrieved\n",
      "future: <Task finished name='Task-59' coro=<_wrap_awaitable() done, defined at /ext3/pyspark/lib/python3.8/asyncio/tasks.py:688> exception=FileNotFoundError(2, 'No such file or directory')>\n",
      "Traceback (most recent call last):\n",
      "  File \"/ext3/pyspark/lib/python3.8/asyncio/tasks.py\", line 695, in _wrap_awaitable\n",
      "    return (yield from awaitable.__await__())\n",
      "  File \"/home/ax2047/.local/lib/python3.8/site-packages/distributed/deploy/spec.py\", line 59, in _\n",
      "    await self.start()\n",
      "  File \"/home/ax2047/.local/lib/python3.8/site-packages/dask_jobqueue/core.py\", line 325, in start\n",
      "    out = await self._submit_job(fn)\n",
      "  File \"/home/ax2047/.local/lib/python3.8/site-packages/dask_jobqueue/core.py\", line 308, in _submit_job\n",
      "    return self._call(shlex.split(self.submit_command) + [script_filename])\n",
      "  File \"/home/ax2047/.local/lib/python3.8/site-packages/dask_jobqueue/core.py\", line 395, in _call\n",
      "    proc = subprocess.Popen(\n",
      "  File \"/ext3/pyspark/lib/python3.8/subprocess.py\", line 858, in __init__\n",
      "    self._execute_child(args, executable, preexec_fn, close_fds,\n",
      "  File \"/ext3/pyspark/lib/python3.8/subprocess.py\", line 1704, in _execute_child\n",
      "    raise child_exception_type(errno_num, err_msg, err_filename)\n",
      "FileNotFoundError: [Errno 2] No such file or directory: 'sbatch'\n",
      "Task exception was never retrieved\n",
      "future: <Task finished name='Task-22' coro=<_wrap_awaitable() done, defined at /ext3/pyspark/lib/python3.8/asyncio/tasks.py:688> exception=FileNotFoundError(2, 'No such file or directory')>\n",
      "Traceback (most recent call last):\n",
      "  File \"/ext3/pyspark/lib/python3.8/asyncio/tasks.py\", line 695, in _wrap_awaitable\n",
      "    return (yield from awaitable.__await__())\n",
      "  File \"/home/ax2047/.local/lib/python3.8/site-packages/distributed/deploy/spec.py\", line 59, in _\n",
      "    await self.start()\n",
      "  File \"/home/ax2047/.local/lib/python3.8/site-packages/dask_jobqueue/core.py\", line 325, in start\n",
      "    out = await self._submit_job(fn)\n",
      "  File \"/home/ax2047/.local/lib/python3.8/site-packages/dask_jobqueue/core.py\", line 308, in _submit_job\n",
      "    return self._call(shlex.split(self.submit_command) + [script_filename])\n",
      "  File \"/home/ax2047/.local/lib/python3.8/site-packages/dask_jobqueue/core.py\", line 395, in _call\n",
      "    proc = subprocess.Popen(\n",
      "  File \"/ext3/pyspark/lib/python3.8/subprocess.py\", line 858, in __init__\n",
      "    self._execute_child(args, executable, preexec_fn, close_fds,\n",
      "  File \"/ext3/pyspark/lib/python3.8/subprocess.py\", line 1704, in _execute_child\n",
      "    raise child_exception_type(errno_num, err_msg, err_filename)\n",
      "FileNotFoundError: [Errno 2] No such file or directory: 'sbatch'\n",
      "Task exception was never retrieved\n",
      "future: <Task finished name='Task-47' coro=<_wrap_awaitable() done, defined at /ext3/pyspark/lib/python3.8/asyncio/tasks.py:688> exception=FileNotFoundError(2, 'No such file or directory')>\n",
      "Traceback (most recent call last):\n",
      "  File \"/ext3/pyspark/lib/python3.8/asyncio/tasks.py\", line 695, in _wrap_awaitable\n",
      "    return (yield from awaitable.__await__())\n",
      "  File \"/home/ax2047/.local/lib/python3.8/site-packages/distributed/deploy/spec.py\", line 59, in _\n",
      "    await self.start()\n",
      "  File \"/home/ax2047/.local/lib/python3.8/site-packages/dask_jobqueue/core.py\", line 325, in start\n",
      "    out = await self._submit_job(fn)\n",
      "  File \"/home/ax2047/.local/lib/python3.8/site-packages/dask_jobqueue/core.py\", line 308, in _submit_job\n",
      "    return self._call(shlex.split(self.submit_command) + [script_filename])\n",
      "  File \"/home/ax2047/.local/lib/python3.8/site-packages/dask_jobqueue/core.py\", line 395, in _call\n",
      "    proc = subprocess.Popen(\n",
      "  File \"/ext3/pyspark/lib/python3.8/subprocess.py\", line 858, in __init__\n",
      "    self._execute_child(args, executable, preexec_fn, close_fds,\n",
      "  File \"/ext3/pyspark/lib/python3.8/subprocess.py\", line 1704, in _execute_child\n",
      "    raise child_exception_type(errno_num, err_msg, err_filename)\n",
      "FileNotFoundError: [Errno 2] No such file or directory: 'sbatch'\n",
      "Task exception was never retrieved\n",
      "future: <Task finished name='Task-35' coro=<_wrap_awaitable() done, defined at /ext3/pyspark/lib/python3.8/asyncio/tasks.py:688> exception=FileNotFoundError(2, 'No such file or directory')>\n",
      "Traceback (most recent call last):\n",
      "  File \"/ext3/pyspark/lib/python3.8/asyncio/tasks.py\", line 695, in _wrap_awaitable\n",
      "    return (yield from awaitable.__await__())\n",
      "  File \"/home/ax2047/.local/lib/python3.8/site-packages/distributed/deploy/spec.py\", line 59, in _\n",
      "    await self.start()\n",
      "  File \"/home/ax2047/.local/lib/python3.8/site-packages/dask_jobqueue/core.py\", line 325, in start\n",
      "    out = await self._submit_job(fn)\n",
      "  File \"/home/ax2047/.local/lib/python3.8/site-packages/dask_jobqueue/core.py\", line 308, in _submit_job\n",
      "    return self._call(shlex.split(self.submit_command) + [script_filename])\n",
      "  File \"/home/ax2047/.local/lib/python3.8/site-packages/dask_jobqueue/core.py\", line 395, in _call\n",
      "    proc = subprocess.Popen(\n",
      "  File \"/ext3/pyspark/lib/python3.8/subprocess.py\", line 858, in __init__\n",
      "    self._execute_child(args, executable, preexec_fn, close_fds,\n",
      "  File \"/ext3/pyspark/lib/python3.8/subprocess.py\", line 1704, in _execute_child\n",
      "    raise child_exception_type(errno_num, err_msg, err_filename)\n",
      "FileNotFoundError: [Errno 2] No such file or directory: 'sbatch'\n",
      "Task exception was never retrieved\n",
      "future: <Task finished name='Task-60' coro=<_wrap_awaitable() done, defined at /ext3/pyspark/lib/python3.8/asyncio/tasks.py:688> exception=FileNotFoundError(2, 'No such file or directory')>\n",
      "Traceback (most recent call last):\n",
      "  File \"/ext3/pyspark/lib/python3.8/asyncio/tasks.py\", line 695, in _wrap_awaitable\n",
      "    return (yield from awaitable.__await__())\n",
      "  File \"/home/ax2047/.local/lib/python3.8/site-packages/distributed/deploy/spec.py\", line 59, in _\n",
      "    await self.start()\n",
      "  File \"/home/ax2047/.local/lib/python3.8/site-packages/dask_jobqueue/core.py\", line 325, in start\n",
      "    out = await self._submit_job(fn)\n",
      "  File \"/home/ax2047/.local/lib/python3.8/site-packages/dask_jobqueue/core.py\", line 308, in _submit_job\n",
      "    return self._call(shlex.split(self.submit_command) + [script_filename])\n",
      "  File \"/home/ax2047/.local/lib/python3.8/site-packages/dask_jobqueue/core.py\", line 395, in _call\n",
      "    proc = subprocess.Popen(\n",
      "  File \"/ext3/pyspark/lib/python3.8/subprocess.py\", line 858, in __init__\n",
      "    self._execute_child(args, executable, preexec_fn, close_fds,\n",
      "  File \"/ext3/pyspark/lib/python3.8/subprocess.py\", line 1704, in _execute_child\n",
      "    raise child_exception_type(errno_num, err_msg, err_filename)\n",
      "FileNotFoundError: [Errno 2] No such file or directory: 'sbatch'\n",
      "Task exception was never retrieved\n",
      "future: <Task finished name='Task-23' coro=<_wrap_awaitable() done, defined at /ext3/pyspark/lib/python3.8/asyncio/tasks.py:688> exception=FileNotFoundError(2, 'No such file or directory')>\n",
      "Traceback (most recent call last):\n",
      "  File \"/ext3/pyspark/lib/python3.8/asyncio/tasks.py\", line 695, in _wrap_awaitable\n",
      "    return (yield from awaitable.__await__())\n",
      "  File \"/home/ax2047/.local/lib/python3.8/site-packages/distributed/deploy/spec.py\", line 59, in _\n",
      "    await self.start()\n",
      "  File \"/home/ax2047/.local/lib/python3.8/site-packages/dask_jobqueue/core.py\", line 325, in start\n",
      "    out = await self._submit_job(fn)\n",
      "  File \"/home/ax2047/.local/lib/python3.8/site-packages/dask_jobqueue/core.py\", line 308, in _submit_job\n",
      "    return self._call(shlex.split(self.submit_command) + [script_filename])\n",
      "  File \"/home/ax2047/.local/lib/python3.8/site-packages/dask_jobqueue/core.py\", line 395, in _call\n",
      "    proc = subprocess.Popen(\n",
      "  File \"/ext3/pyspark/lib/python3.8/subprocess.py\", line 858, in __init__\n",
      "    self._execute_child(args, executable, preexec_fn, close_fds,\n",
      "  File \"/ext3/pyspark/lib/python3.8/subprocess.py\", line 1704, in _execute_child\n",
      "    raise child_exception_type(errno_num, err_msg, err_filename)\n",
      "FileNotFoundError: [Errno 2] No such file or directory: 'sbatch'\n",
      "Task exception was never retrieved\n",
      "future: <Task finished name='Task-48' coro=<_wrap_awaitable() done, defined at /ext3/pyspark/lib/python3.8/asyncio/tasks.py:688> exception=FileNotFoundError(2, 'No such file or directory')>\n",
      "Traceback (most recent call last):\n",
      "  File \"/ext3/pyspark/lib/python3.8/asyncio/tasks.py\", line 695, in _wrap_awaitable\n",
      "    return (yield from awaitable.__await__())\n",
      "  File \"/home/ax2047/.local/lib/python3.8/site-packages/distributed/deploy/spec.py\", line 59, in _\n",
      "    await self.start()\n",
      "  File \"/home/ax2047/.local/lib/python3.8/site-packages/dask_jobqueue/core.py\", line 325, in start\n",
      "    out = await self._submit_job(fn)\n",
      "  File \"/home/ax2047/.local/lib/python3.8/site-packages/dask_jobqueue/core.py\", line 308, in _submit_job\n",
      "    return self._call(shlex.split(self.submit_command) + [script_filename])\n",
      "  File \"/home/ax2047/.local/lib/python3.8/site-packages/dask_jobqueue/core.py\", line 395, in _call\n",
      "    proc = subprocess.Popen(\n",
      "  File \"/ext3/pyspark/lib/python3.8/subprocess.py\", line 858, in __init__\n",
      "    self._execute_child(args, executable, preexec_fn, close_fds,\n",
      "  File \"/ext3/pyspark/lib/python3.8/subprocess.py\", line 1704, in _execute_child\n",
      "    raise child_exception_type(errno_num, err_msg, err_filename)\n",
      "FileNotFoundError: [Errno 2] No such file or directory: 'sbatch'\n",
      "Task exception was never retrieved\n",
      "future: <Task finished name='Task-36' coro=<_wrap_awaitable() done, defined at /ext3/pyspark/lib/python3.8/asyncio/tasks.py:688> exception=FileNotFoundError(2, 'No such file or directory')>\n",
      "Traceback (most recent call last):\n",
      "  File \"/ext3/pyspark/lib/python3.8/asyncio/tasks.py\", line 695, in _wrap_awaitable\n",
      "    return (yield from awaitable.__await__())\n",
      "  File \"/home/ax2047/.local/lib/python3.8/site-packages/distributed/deploy/spec.py\", line 59, in _\n",
      "    await self.start()\n",
      "  File \"/home/ax2047/.local/lib/python3.8/site-packages/dask_jobqueue/core.py\", line 325, in start\n",
      "    out = await self._submit_job(fn)\n",
      "  File \"/home/ax2047/.local/lib/python3.8/site-packages/dask_jobqueue/core.py\", line 308, in _submit_job\n",
      "    return self._call(shlex.split(self.submit_command) + [script_filename])\n",
      "  File \"/home/ax2047/.local/lib/python3.8/site-packages/dask_jobqueue/core.py\", line 395, in _call\n",
      "    proc = subprocess.Popen(\n",
      "  File \"/ext3/pyspark/lib/python3.8/subprocess.py\", line 858, in __init__\n",
      "    self._execute_child(args, executable, preexec_fn, close_fds,\n",
      "  File \"/ext3/pyspark/lib/python3.8/subprocess.py\", line 1704, in _execute_child\n",
      "    raise child_exception_type(errno_num, err_msg, err_filename)\n",
      "FileNotFoundError: [Errno 2] No such file or directory: 'sbatch'\n",
      "Task exception was never retrieved\n",
      "future: <Task finished name='Task-61' coro=<_wrap_awaitable() done, defined at /ext3/pyspark/lib/python3.8/asyncio/tasks.py:688> exception=FileNotFoundError(2, 'No such file or directory')>\n",
      "Traceback (most recent call last):\n",
      "  File \"/ext3/pyspark/lib/python3.8/asyncio/tasks.py\", line 695, in _wrap_awaitable\n",
      "    return (yield from awaitable.__await__())\n",
      "  File \"/home/ax2047/.local/lib/python3.8/site-packages/distributed/deploy/spec.py\", line 59, in _\n",
      "    await self.start()\n",
      "  File \"/home/ax2047/.local/lib/python3.8/site-packages/dask_jobqueue/core.py\", line 325, in start\n",
      "    out = await self._submit_job(fn)\n",
      "  File \"/home/ax2047/.local/lib/python3.8/site-packages/dask_jobqueue/core.py\", line 308, in _submit_job\n",
      "    return self._call(shlex.split(self.submit_command) + [script_filename])\n",
      "  File \"/home/ax2047/.local/lib/python3.8/site-packages/dask_jobqueue/core.py\", line 395, in _call\n",
      "    proc = subprocess.Popen(\n",
      "  File \"/ext3/pyspark/lib/python3.8/subprocess.py\", line 858, in __init__\n",
      "    self._execute_child(args, executable, preexec_fn, close_fds,\n",
      "  File \"/ext3/pyspark/lib/python3.8/subprocess.py\", line 1704, in _execute_child\n",
      "    raise child_exception_type(errno_num, err_msg, err_filename)\n",
      "FileNotFoundError: [Errno 2] No such file or directory: 'sbatch'\n",
      "Task exception was never retrieved\n",
      "future: <Task finished name='Task-24' coro=<_wrap_awaitable() done, defined at /ext3/pyspark/lib/python3.8/asyncio/tasks.py:688> exception=FileNotFoundError(2, 'No such file or directory')>\n",
      "Traceback (most recent call last):\n",
      "  File \"/ext3/pyspark/lib/python3.8/asyncio/tasks.py\", line 695, in _wrap_awaitable\n",
      "    return (yield from awaitable.__await__())\n",
      "  File \"/home/ax2047/.local/lib/python3.8/site-packages/distributed/deploy/spec.py\", line 59, in _\n",
      "    await self.start()\n",
      "  File \"/home/ax2047/.local/lib/python3.8/site-packages/dask_jobqueue/core.py\", line 325, in start\n",
      "    out = await self._submit_job(fn)\n",
      "  File \"/home/ax2047/.local/lib/python3.8/site-packages/dask_jobqueue/core.py\", line 308, in _submit_job\n",
      "    return self._call(shlex.split(self.submit_command) + [script_filename])\n",
      "  File \"/home/ax2047/.local/lib/python3.8/site-packages/dask_jobqueue/core.py\", line 395, in _call\n",
      "    proc = subprocess.Popen(\n",
      "  File \"/ext3/pyspark/lib/python3.8/subprocess.py\", line 858, in __init__\n",
      "    self._execute_child(args, executable, preexec_fn, close_fds,\n",
      "  File \"/ext3/pyspark/lib/python3.8/subprocess.py\", line 1704, in _execute_child\n",
      "    raise child_exception_type(errno_num, err_msg, err_filename)\n",
      "FileNotFoundError: [Errno 2] No such file or directory: 'sbatch'\n",
      "Task exception was never retrieved\n",
      "future: <Task finished name='Task-49' coro=<_wrap_awaitable() done, defined at /ext3/pyspark/lib/python3.8/asyncio/tasks.py:688> exception=FileNotFoundError(2, 'No such file or directory')>\n",
      "Traceback (most recent call last):\n",
      "  File \"/ext3/pyspark/lib/python3.8/asyncio/tasks.py\", line 695, in _wrap_awaitable\n",
      "    return (yield from awaitable.__await__())\n",
      "  File \"/home/ax2047/.local/lib/python3.8/site-packages/distributed/deploy/spec.py\", line 59, in _\n",
      "    await self.start()\n",
      "  File \"/home/ax2047/.local/lib/python3.8/site-packages/dask_jobqueue/core.py\", line 325, in start\n",
      "    out = await self._submit_job(fn)\n",
      "  File \"/home/ax2047/.local/lib/python3.8/site-packages/dask_jobqueue/core.py\", line 308, in _submit_job\n",
      "    return self._call(shlex.split(self.submit_command) + [script_filename])\n",
      "  File \"/home/ax2047/.local/lib/python3.8/site-packages/dask_jobqueue/core.py\", line 395, in _call\n",
      "    proc = subprocess.Popen(\n",
      "  File \"/ext3/pyspark/lib/python3.8/subprocess.py\", line 858, in __init__\n",
      "    self._execute_child(args, executable, preexec_fn, close_fds,\n",
      "  File \"/ext3/pyspark/lib/python3.8/subprocess.py\", line 1704, in _execute_child\n",
      "    raise child_exception_type(errno_num, err_msg, err_filename)\n",
      "FileNotFoundError: [Errno 2] No such file or directory: 'sbatch'\n",
      "Task exception was never retrieved\n",
      "future: <Task finished name='Task-37' coro=<_wrap_awaitable() done, defined at /ext3/pyspark/lib/python3.8/asyncio/tasks.py:688> exception=FileNotFoundError(2, 'No such file or directory')>\n",
      "Traceback (most recent call last):\n",
      "  File \"/ext3/pyspark/lib/python3.8/asyncio/tasks.py\", line 695, in _wrap_awaitable\n",
      "    return (yield from awaitable.__await__())\n",
      "  File \"/home/ax2047/.local/lib/python3.8/site-packages/distributed/deploy/spec.py\", line 59, in _\n",
      "    await self.start()\n",
      "  File \"/home/ax2047/.local/lib/python3.8/site-packages/dask_jobqueue/core.py\", line 325, in start\n",
      "    out = await self._submit_job(fn)\n",
      "  File \"/home/ax2047/.local/lib/python3.8/site-packages/dask_jobqueue/core.py\", line 308, in _submit_job\n",
      "    return self._call(shlex.split(self.submit_command) + [script_filename])\n",
      "  File \"/home/ax2047/.local/lib/python3.8/site-packages/dask_jobqueue/core.py\", line 395, in _call\n",
      "    proc = subprocess.Popen(\n",
      "  File \"/ext3/pyspark/lib/python3.8/subprocess.py\", line 858, in __init__\n",
      "    self._execute_child(args, executable, preexec_fn, close_fds,\n",
      "  File \"/ext3/pyspark/lib/python3.8/subprocess.py\", line 1704, in _execute_child\n",
      "    raise child_exception_type(errno_num, err_msg, err_filename)\n",
      "FileNotFoundError: [Errno 2] No such file or directory: 'sbatch'\n",
      "Task exception was never retrieved\n",
      "future: <Task finished name='Task-62' coro=<_wrap_awaitable() done, defined at /ext3/pyspark/lib/python3.8/asyncio/tasks.py:688> exception=FileNotFoundError(2, 'No such file or directory')>\n",
      "Traceback (most recent call last):\n",
      "  File \"/ext3/pyspark/lib/python3.8/asyncio/tasks.py\", line 695, in _wrap_awaitable\n",
      "    return (yield from awaitable.__await__())\n",
      "  File \"/home/ax2047/.local/lib/python3.8/site-packages/distributed/deploy/spec.py\", line 59, in _\n",
      "    await self.start()\n",
      "  File \"/home/ax2047/.local/lib/python3.8/site-packages/dask_jobqueue/core.py\", line 325, in start\n",
      "    out = await self._submit_job(fn)\n",
      "  File \"/home/ax2047/.local/lib/python3.8/site-packages/dask_jobqueue/core.py\", line 308, in _submit_job\n",
      "    return self._call(shlex.split(self.submit_command) + [script_filename])\n",
      "  File \"/home/ax2047/.local/lib/python3.8/site-packages/dask_jobqueue/core.py\", line 395, in _call\n",
      "    proc = subprocess.Popen(\n",
      "  File \"/ext3/pyspark/lib/python3.8/subprocess.py\", line 858, in __init__\n",
      "    self._execute_child(args, executable, preexec_fn, close_fds,\n",
      "  File \"/ext3/pyspark/lib/python3.8/subprocess.py\", line 1704, in _execute_child\n",
      "    raise child_exception_type(errno_num, err_msg, err_filename)\n",
      "FileNotFoundError: [Errno 2] No such file or directory: 'sbatch'\n",
      "Task exception was never retrieved\n",
      "future: <Task finished name='Task-25' coro=<_wrap_awaitable() done, defined at /ext3/pyspark/lib/python3.8/asyncio/tasks.py:688> exception=FileNotFoundError(2, 'No such file or directory')>\n",
      "Traceback (most recent call last):\n",
      "  File \"/ext3/pyspark/lib/python3.8/asyncio/tasks.py\", line 695, in _wrap_awaitable\n",
      "    return (yield from awaitable.__await__())\n",
      "  File \"/home/ax2047/.local/lib/python3.8/site-packages/distributed/deploy/spec.py\", line 59, in _\n",
      "    await self.start()\n",
      "  File \"/home/ax2047/.local/lib/python3.8/site-packages/dask_jobqueue/core.py\", line 325, in start\n",
      "    out = await self._submit_job(fn)\n",
      "  File \"/home/ax2047/.local/lib/python3.8/site-packages/dask_jobqueue/core.py\", line 308, in _submit_job\n",
      "    return self._call(shlex.split(self.submit_command) + [script_filename])\n",
      "  File \"/home/ax2047/.local/lib/python3.8/site-packages/dask_jobqueue/core.py\", line 395, in _call\n",
      "    proc = subprocess.Popen(\n",
      "  File \"/ext3/pyspark/lib/python3.8/subprocess.py\", line 858, in __init__\n",
      "    self._execute_child(args, executable, preexec_fn, close_fds,\n",
      "  File \"/ext3/pyspark/lib/python3.8/subprocess.py\", line 1704, in _execute_child\n",
      "    raise child_exception_type(errno_num, err_msg, err_filename)\n",
      "FileNotFoundError: [Errno 2] No such file or directory: 'sbatch'\n",
      "Task exception was never retrieved\n",
      "future: <Task finished name='Task-50' coro=<_wrap_awaitable() done, defined at /ext3/pyspark/lib/python3.8/asyncio/tasks.py:688> exception=FileNotFoundError(2, 'No such file or directory')>\n",
      "Traceback (most recent call last):\n",
      "  File \"/ext3/pyspark/lib/python3.8/asyncio/tasks.py\", line 695, in _wrap_awaitable\n",
      "    return (yield from awaitable.__await__())\n",
      "  File \"/home/ax2047/.local/lib/python3.8/site-packages/distributed/deploy/spec.py\", line 59, in _\n",
      "    await self.start()\n",
      "  File \"/home/ax2047/.local/lib/python3.8/site-packages/dask_jobqueue/core.py\", line 325, in start\n",
      "    out = await self._submit_job(fn)\n",
      "  File \"/home/ax2047/.local/lib/python3.8/site-packages/dask_jobqueue/core.py\", line 308, in _submit_job\n",
      "    return self._call(shlex.split(self.submit_command) + [script_filename])\n",
      "  File \"/home/ax2047/.local/lib/python3.8/site-packages/dask_jobqueue/core.py\", line 395, in _call\n",
      "    proc = subprocess.Popen(\n",
      "  File \"/ext3/pyspark/lib/python3.8/subprocess.py\", line 858, in __init__\n",
      "    self._execute_child(args, executable, preexec_fn, close_fds,\n",
      "  File \"/ext3/pyspark/lib/python3.8/subprocess.py\", line 1704, in _execute_child\n",
      "    raise child_exception_type(errno_num, err_msg, err_filename)\n",
      "FileNotFoundError: [Errno 2] No such file or directory: 'sbatch'\n",
      "Task exception was never retrieved\n",
      "future: <Task finished name='Task-38' coro=<_wrap_awaitable() done, defined at /ext3/pyspark/lib/python3.8/asyncio/tasks.py:688> exception=FileNotFoundError(2, 'No such file or directory')>\n",
      "Traceback (most recent call last):\n",
      "  File \"/ext3/pyspark/lib/python3.8/asyncio/tasks.py\", line 695, in _wrap_awaitable\n",
      "    return (yield from awaitable.__await__())\n",
      "  File \"/home/ax2047/.local/lib/python3.8/site-packages/distributed/deploy/spec.py\", line 59, in _\n",
      "    await self.start()\n",
      "  File \"/home/ax2047/.local/lib/python3.8/site-packages/dask_jobqueue/core.py\", line 325, in start\n",
      "    out = await self._submit_job(fn)\n",
      "  File \"/home/ax2047/.local/lib/python3.8/site-packages/dask_jobqueue/core.py\", line 308, in _submit_job\n",
      "    return self._call(shlex.split(self.submit_command) + [script_filename])\n",
      "  File \"/home/ax2047/.local/lib/python3.8/site-packages/dask_jobqueue/core.py\", line 395, in _call\n",
      "    proc = subprocess.Popen(\n",
      "  File \"/ext3/pyspark/lib/python3.8/subprocess.py\", line 858, in __init__\n",
      "    self._execute_child(args, executable, preexec_fn, close_fds,\n",
      "  File \"/ext3/pyspark/lib/python3.8/subprocess.py\", line 1704, in _execute_child\n",
      "    raise child_exception_type(errno_num, err_msg, err_filename)\n",
      "FileNotFoundError: [Errno 2] No such file or directory: 'sbatch'\n",
      "Task exception was never retrieved\n",
      "future: <Task finished name='Task-63' coro=<_wrap_awaitable() done, defined at /ext3/pyspark/lib/python3.8/asyncio/tasks.py:688> exception=FileNotFoundError(2, 'No such file or directory')>\n",
      "Traceback (most recent call last):\n",
      "  File \"/ext3/pyspark/lib/python3.8/asyncio/tasks.py\", line 695, in _wrap_awaitable\n",
      "    return (yield from awaitable.__await__())\n",
      "  File \"/home/ax2047/.local/lib/python3.8/site-packages/distributed/deploy/spec.py\", line 59, in _\n",
      "    await self.start()\n",
      "  File \"/home/ax2047/.local/lib/python3.8/site-packages/dask_jobqueue/core.py\", line 325, in start\n",
      "    out = await self._submit_job(fn)\n",
      "  File \"/home/ax2047/.local/lib/python3.8/site-packages/dask_jobqueue/core.py\", line 308, in _submit_job\n",
      "    return self._call(shlex.split(self.submit_command) + [script_filename])\n",
      "  File \"/home/ax2047/.local/lib/python3.8/site-packages/dask_jobqueue/core.py\", line 395, in _call\n",
      "    proc = subprocess.Popen(\n",
      "  File \"/ext3/pyspark/lib/python3.8/subprocess.py\", line 858, in __init__\n",
      "    self._execute_child(args, executable, preexec_fn, close_fds,\n",
      "  File \"/ext3/pyspark/lib/python3.8/subprocess.py\", line 1704, in _execute_child\n",
      "    raise child_exception_type(errno_num, err_msg, err_filename)\n",
      "FileNotFoundError: [Errno 2] No such file or directory: 'sbatch'\n",
      "Task exception was never retrieved\n",
      "future: <Task finished name='Task-26' coro=<_wrap_awaitable() done, defined at /ext3/pyspark/lib/python3.8/asyncio/tasks.py:688> exception=FileNotFoundError(2, 'No such file or directory')>\n",
      "Traceback (most recent call last):\n",
      "  File \"/ext3/pyspark/lib/python3.8/asyncio/tasks.py\", line 695, in _wrap_awaitable\n",
      "    return (yield from awaitable.__await__())\n",
      "  File \"/home/ax2047/.local/lib/python3.8/site-packages/distributed/deploy/spec.py\", line 59, in _\n",
      "    await self.start()\n",
      "  File \"/home/ax2047/.local/lib/python3.8/site-packages/dask_jobqueue/core.py\", line 325, in start\n",
      "    out = await self._submit_job(fn)\n",
      "  File \"/home/ax2047/.local/lib/python3.8/site-packages/dask_jobqueue/core.py\", line 308, in _submit_job\n",
      "    return self._call(shlex.split(self.submit_command) + [script_filename])\n",
      "  File \"/home/ax2047/.local/lib/python3.8/site-packages/dask_jobqueue/core.py\", line 395, in _call\n",
      "    proc = subprocess.Popen(\n",
      "  File \"/ext3/pyspark/lib/python3.8/subprocess.py\", line 858, in __init__\n",
      "    self._execute_child(args, executable, preexec_fn, close_fds,\n",
      "  File \"/ext3/pyspark/lib/python3.8/subprocess.py\", line 1704, in _execute_child\n",
      "    raise child_exception_type(errno_num, err_msg, err_filename)\n",
      "FileNotFoundError: [Errno 2] No such file or directory: 'sbatch'\n",
      "Task exception was never retrieved\n",
      "future: <Task finished name='Task-51' coro=<_wrap_awaitable() done, defined at /ext3/pyspark/lib/python3.8/asyncio/tasks.py:688> exception=FileNotFoundError(2, 'No such file or directory')>\n",
      "Traceback (most recent call last):\n",
      "  File \"/ext3/pyspark/lib/python3.8/asyncio/tasks.py\", line 695, in _wrap_awaitable\n",
      "    return (yield from awaitable.__await__())\n",
      "  File \"/home/ax2047/.local/lib/python3.8/site-packages/distributed/deploy/spec.py\", line 59, in _\n",
      "    await self.start()\n",
      "  File \"/home/ax2047/.local/lib/python3.8/site-packages/dask_jobqueue/core.py\", line 325, in start\n",
      "    out = await self._submit_job(fn)\n",
      "  File \"/home/ax2047/.local/lib/python3.8/site-packages/dask_jobqueue/core.py\", line 308, in _submit_job\n",
      "    return self._call(shlex.split(self.submit_command) + [script_filename])\n",
      "  File \"/home/ax2047/.local/lib/python3.8/site-packages/dask_jobqueue/core.py\", line 395, in _call\n",
      "    proc = subprocess.Popen(\n",
      "  File \"/ext3/pyspark/lib/python3.8/subprocess.py\", line 858, in __init__\n",
      "    self._execute_child(args, executable, preexec_fn, close_fds,\n",
      "  File \"/ext3/pyspark/lib/python3.8/subprocess.py\", line 1704, in _execute_child\n",
      "    raise child_exception_type(errno_num, err_msg, err_filename)\n",
      "FileNotFoundError: [Errno 2] No such file or directory: 'sbatch'\n",
      "Task exception was never retrieved\n",
      "future: <Task finished name='Task-39' coro=<_wrap_awaitable() done, defined at /ext3/pyspark/lib/python3.8/asyncio/tasks.py:688> exception=FileNotFoundError(2, 'No such file or directory')>\n",
      "Traceback (most recent call last):\n",
      "  File \"/ext3/pyspark/lib/python3.8/asyncio/tasks.py\", line 695, in _wrap_awaitable\n",
      "    return (yield from awaitable.__await__())\n",
      "  File \"/home/ax2047/.local/lib/python3.8/site-packages/distributed/deploy/spec.py\", line 59, in _\n",
      "    await self.start()\n",
      "  File \"/home/ax2047/.local/lib/python3.8/site-packages/dask_jobqueue/core.py\", line 325, in start\n",
      "    out = await self._submit_job(fn)\n",
      "  File \"/home/ax2047/.local/lib/python3.8/site-packages/dask_jobqueue/core.py\", line 308, in _submit_job\n",
      "    return self._call(shlex.split(self.submit_command) + [script_filename])\n",
      "  File \"/home/ax2047/.local/lib/python3.8/site-packages/dask_jobqueue/core.py\", line 395, in _call\n",
      "    proc = subprocess.Popen(\n",
      "  File \"/ext3/pyspark/lib/python3.8/subprocess.py\", line 858, in __init__\n",
      "    self._execute_child(args, executable, preexec_fn, close_fds,\n",
      "  File \"/ext3/pyspark/lib/python3.8/subprocess.py\", line 1704, in _execute_child\n",
      "    raise child_exception_type(errno_num, err_msg, err_filename)\n",
      "FileNotFoundError: [Errno 2] No such file or directory: 'sbatch'\n",
      "Task exception was never retrieved\n",
      "future: <Task finished name='Task-64' coro=<_wrap_awaitable() done, defined at /ext3/pyspark/lib/python3.8/asyncio/tasks.py:688> exception=FileNotFoundError(2, 'No such file or directory')>\n",
      "Traceback (most recent call last):\n",
      "  File \"/ext3/pyspark/lib/python3.8/asyncio/tasks.py\", line 695, in _wrap_awaitable\n",
      "    return (yield from awaitable.__await__())\n",
      "  File \"/home/ax2047/.local/lib/python3.8/site-packages/distributed/deploy/spec.py\", line 59, in _\n",
      "    await self.start()\n",
      "  File \"/home/ax2047/.local/lib/python3.8/site-packages/dask_jobqueue/core.py\", line 325, in start\n",
      "    out = await self._submit_job(fn)\n",
      "  File \"/home/ax2047/.local/lib/python3.8/site-packages/dask_jobqueue/core.py\", line 308, in _submit_job\n",
      "    return self._call(shlex.split(self.submit_command) + [script_filename])\n",
      "  File \"/home/ax2047/.local/lib/python3.8/site-packages/dask_jobqueue/core.py\", line 395, in _call\n",
      "    proc = subprocess.Popen(\n",
      "  File \"/ext3/pyspark/lib/python3.8/subprocess.py\", line 858, in __init__\n",
      "    self._execute_child(args, executable, preexec_fn, close_fds,\n",
      "  File \"/ext3/pyspark/lib/python3.8/subprocess.py\", line 1704, in _execute_child\n",
      "    raise child_exception_type(errno_num, err_msg, err_filename)\n",
      "FileNotFoundError: [Errno 2] No such file or directory: 'sbatch'\n",
      "Task exception was never retrieved\n",
      "future: <Task finished name='Task-27' coro=<_wrap_awaitable() done, defined at /ext3/pyspark/lib/python3.8/asyncio/tasks.py:688> exception=FileNotFoundError(2, 'No such file or directory')>\n",
      "Traceback (most recent call last):\n",
      "  File \"/ext3/pyspark/lib/python3.8/asyncio/tasks.py\", line 695, in _wrap_awaitable\n",
      "    return (yield from awaitable.__await__())\n",
      "  File \"/home/ax2047/.local/lib/python3.8/site-packages/distributed/deploy/spec.py\", line 59, in _\n",
      "    await self.start()\n",
      "  File \"/home/ax2047/.local/lib/python3.8/site-packages/dask_jobqueue/core.py\", line 325, in start\n",
      "    out = await self._submit_job(fn)\n",
      "  File \"/home/ax2047/.local/lib/python3.8/site-packages/dask_jobqueue/core.py\", line 308, in _submit_job\n",
      "    return self._call(shlex.split(self.submit_command) + [script_filename])\n",
      "  File \"/home/ax2047/.local/lib/python3.8/site-packages/dask_jobqueue/core.py\", line 395, in _call\n",
      "    proc = subprocess.Popen(\n",
      "  File \"/ext3/pyspark/lib/python3.8/subprocess.py\", line 858, in __init__\n",
      "    self._execute_child(args, executable, preexec_fn, close_fds,\n",
      "  File \"/ext3/pyspark/lib/python3.8/subprocess.py\", line 1704, in _execute_child\n",
      "    raise child_exception_type(errno_num, err_msg, err_filename)\n",
      "FileNotFoundError: [Errno 2] No such file or directory: 'sbatch'\n",
      "Task exception was never retrieved\n",
      "future: <Task finished name='Task-52' coro=<_wrap_awaitable() done, defined at /ext3/pyspark/lib/python3.8/asyncio/tasks.py:688> exception=FileNotFoundError(2, 'No such file or directory')>\n",
      "Traceback (most recent call last):\n",
      "  File \"/ext3/pyspark/lib/python3.8/asyncio/tasks.py\", line 695, in _wrap_awaitable\n",
      "    return (yield from awaitable.__await__())\n",
      "  File \"/home/ax2047/.local/lib/python3.8/site-packages/distributed/deploy/spec.py\", line 59, in _\n",
      "    await self.start()\n",
      "  File \"/home/ax2047/.local/lib/python3.8/site-packages/dask_jobqueue/core.py\", line 325, in start\n",
      "    out = await self._submit_job(fn)\n",
      "  File \"/home/ax2047/.local/lib/python3.8/site-packages/dask_jobqueue/core.py\", line 308, in _submit_job\n",
      "    return self._call(shlex.split(self.submit_command) + [script_filename])\n",
      "  File \"/home/ax2047/.local/lib/python3.8/site-packages/dask_jobqueue/core.py\", line 395, in _call\n",
      "    proc = subprocess.Popen(\n",
      "  File \"/ext3/pyspark/lib/python3.8/subprocess.py\", line 858, in __init__\n",
      "    self._execute_child(args, executable, preexec_fn, close_fds,\n",
      "  File \"/ext3/pyspark/lib/python3.8/subprocess.py\", line 1704, in _execute_child\n",
      "    raise child_exception_type(errno_num, err_msg, err_filename)\n",
      "FileNotFoundError: [Errno 2] No such file or directory: 'sbatch'\n",
      "Task exception was never retrieved\n",
      "future: <Task finished name='Task-40' coro=<_wrap_awaitable() done, defined at /ext3/pyspark/lib/python3.8/asyncio/tasks.py:688> exception=FileNotFoundError(2, 'No such file or directory')>\n",
      "Traceback (most recent call last):\n",
      "  File \"/ext3/pyspark/lib/python3.8/asyncio/tasks.py\", line 695, in _wrap_awaitable\n",
      "    return (yield from awaitable.__await__())\n",
      "  File \"/home/ax2047/.local/lib/python3.8/site-packages/distributed/deploy/spec.py\", line 59, in _\n",
      "    await self.start()\n",
      "  File \"/home/ax2047/.local/lib/python3.8/site-packages/dask_jobqueue/core.py\", line 325, in start\n",
      "    out = await self._submit_job(fn)\n",
      "  File \"/home/ax2047/.local/lib/python3.8/site-packages/dask_jobqueue/core.py\", line 308, in _submit_job\n",
      "    return self._call(shlex.split(self.submit_command) + [script_filename])\n",
      "  File \"/home/ax2047/.local/lib/python3.8/site-packages/dask_jobqueue/core.py\", line 395, in _call\n",
      "    proc = subprocess.Popen(\n",
      "  File \"/ext3/pyspark/lib/python3.8/subprocess.py\", line 858, in __init__\n",
      "    self._execute_child(args, executable, preexec_fn, close_fds,\n",
      "  File \"/ext3/pyspark/lib/python3.8/subprocess.py\", line 1704, in _execute_child\n",
      "    raise child_exception_type(errno_num, err_msg, err_filename)\n",
      "FileNotFoundError: [Errno 2] No such file or directory: 'sbatch'\n",
      "Task exception was never retrieved\n",
      "future: <Task finished name='Task-65' coro=<_wrap_awaitable() done, defined at /ext3/pyspark/lib/python3.8/asyncio/tasks.py:688> exception=FileNotFoundError(2, 'No such file or directory')>\n",
      "Traceback (most recent call last):\n",
      "  File \"/ext3/pyspark/lib/python3.8/asyncio/tasks.py\", line 695, in _wrap_awaitable\n",
      "    return (yield from awaitable.__await__())\n",
      "  File \"/home/ax2047/.local/lib/python3.8/site-packages/distributed/deploy/spec.py\", line 59, in _\n",
      "    await self.start()\n",
      "  File \"/home/ax2047/.local/lib/python3.8/site-packages/dask_jobqueue/core.py\", line 325, in start\n",
      "    out = await self._submit_job(fn)\n",
      "  File \"/home/ax2047/.local/lib/python3.8/site-packages/dask_jobqueue/core.py\", line 308, in _submit_job\n",
      "    return self._call(shlex.split(self.submit_command) + [script_filename])\n",
      "  File \"/home/ax2047/.local/lib/python3.8/site-packages/dask_jobqueue/core.py\", line 395, in _call\n",
      "    proc = subprocess.Popen(\n",
      "  File \"/ext3/pyspark/lib/python3.8/subprocess.py\", line 858, in __init__\n",
      "    self._execute_child(args, executable, preexec_fn, close_fds,\n",
      "  File \"/ext3/pyspark/lib/python3.8/subprocess.py\", line 1704, in _execute_child\n",
      "    raise child_exception_type(errno_num, err_msg, err_filename)\n",
      "FileNotFoundError: [Errno 2] No such file or directory: 'sbatch'\n",
      "Task exception was never retrieved\n",
      "future: <Task finished name='Task-28' coro=<_wrap_awaitable() done, defined at /ext3/pyspark/lib/python3.8/asyncio/tasks.py:688> exception=FileNotFoundError(2, 'No such file or directory')>\n",
      "Traceback (most recent call last):\n",
      "  File \"/ext3/pyspark/lib/python3.8/asyncio/tasks.py\", line 695, in _wrap_awaitable\n",
      "    return (yield from awaitable.__await__())\n",
      "  File \"/home/ax2047/.local/lib/python3.8/site-packages/distributed/deploy/spec.py\", line 59, in _\n",
      "    await self.start()\n",
      "  File \"/home/ax2047/.local/lib/python3.8/site-packages/dask_jobqueue/core.py\", line 325, in start\n",
      "    out = await self._submit_job(fn)\n",
      "  File \"/home/ax2047/.local/lib/python3.8/site-packages/dask_jobqueue/core.py\", line 308, in _submit_job\n",
      "    return self._call(shlex.split(self.submit_command) + [script_filename])\n",
      "  File \"/home/ax2047/.local/lib/python3.8/site-packages/dask_jobqueue/core.py\", line 395, in _call\n",
      "    proc = subprocess.Popen(\n",
      "  File \"/ext3/pyspark/lib/python3.8/subprocess.py\", line 858, in __init__\n",
      "    self._execute_child(args, executable, preexec_fn, close_fds,\n",
      "  File \"/ext3/pyspark/lib/python3.8/subprocess.py\", line 1704, in _execute_child\n",
      "    raise child_exception_type(errno_num, err_msg, err_filename)\n",
      "FileNotFoundError: [Errno 2] No such file or directory: 'sbatch'\n",
      "Task exception was never retrieved\n",
      "future: <Task finished name='Task-53' coro=<_wrap_awaitable() done, defined at /ext3/pyspark/lib/python3.8/asyncio/tasks.py:688> exception=FileNotFoundError(2, 'No such file or directory')>\n",
      "Traceback (most recent call last):\n",
      "  File \"/ext3/pyspark/lib/python3.8/asyncio/tasks.py\", line 695, in _wrap_awaitable\n",
      "    return (yield from awaitable.__await__())\n",
      "  File \"/home/ax2047/.local/lib/python3.8/site-packages/distributed/deploy/spec.py\", line 59, in _\n",
      "    await self.start()\n",
      "  File \"/home/ax2047/.local/lib/python3.8/site-packages/dask_jobqueue/core.py\", line 325, in start\n",
      "    out = await self._submit_job(fn)\n",
      "  File \"/home/ax2047/.local/lib/python3.8/site-packages/dask_jobqueue/core.py\", line 308, in _submit_job\n",
      "    return self._call(shlex.split(self.submit_command) + [script_filename])\n",
      "  File \"/home/ax2047/.local/lib/python3.8/site-packages/dask_jobqueue/core.py\", line 395, in _call\n",
      "    proc = subprocess.Popen(\n",
      "  File \"/ext3/pyspark/lib/python3.8/subprocess.py\", line 858, in __init__\n",
      "    self._execute_child(args, executable, preexec_fn, close_fds,\n",
      "  File \"/ext3/pyspark/lib/python3.8/subprocess.py\", line 1704, in _execute_child\n",
      "    raise child_exception_type(errno_num, err_msg, err_filename)\n",
      "FileNotFoundError: [Errno 2] No such file or directory: 'sbatch'\n",
      "Task exception was never retrieved\n",
      "future: <Task finished name='Task-41' coro=<_wrap_awaitable() done, defined at /ext3/pyspark/lib/python3.8/asyncio/tasks.py:688> exception=FileNotFoundError(2, 'No such file or directory')>\n",
      "Traceback (most recent call last):\n",
      "  File \"/ext3/pyspark/lib/python3.8/asyncio/tasks.py\", line 695, in _wrap_awaitable\n",
      "    return (yield from awaitable.__await__())\n",
      "  File \"/home/ax2047/.local/lib/python3.8/site-packages/distributed/deploy/spec.py\", line 59, in _\n",
      "    await self.start()\n",
      "  File \"/home/ax2047/.local/lib/python3.8/site-packages/dask_jobqueue/core.py\", line 325, in start\n",
      "    out = await self._submit_job(fn)\n",
      "  File \"/home/ax2047/.local/lib/python3.8/site-packages/dask_jobqueue/core.py\", line 308, in _submit_job\n",
      "    return self._call(shlex.split(self.submit_command) + [script_filename])\n",
      "  File \"/home/ax2047/.local/lib/python3.8/site-packages/dask_jobqueue/core.py\", line 395, in _call\n",
      "    proc = subprocess.Popen(\n",
      "  File \"/ext3/pyspark/lib/python3.8/subprocess.py\", line 858, in __init__\n",
      "    self._execute_child(args, executable, preexec_fn, close_fds,\n",
      "  File \"/ext3/pyspark/lib/python3.8/subprocess.py\", line 1704, in _execute_child\n",
      "    raise child_exception_type(errno_num, err_msg, err_filename)\n",
      "FileNotFoundError: [Errno 2] No such file or directory: 'sbatch'\n",
      "Task exception was never retrieved\n",
      "future: <Task finished name='Task-66' coro=<_wrap_awaitable() done, defined at /ext3/pyspark/lib/python3.8/asyncio/tasks.py:688> exception=FileNotFoundError(2, 'No such file or directory')>\n",
      "Traceback (most recent call last):\n",
      "  File \"/ext3/pyspark/lib/python3.8/asyncio/tasks.py\", line 695, in _wrap_awaitable\n",
      "    return (yield from awaitable.__await__())\n",
      "  File \"/home/ax2047/.local/lib/python3.8/site-packages/distributed/deploy/spec.py\", line 59, in _\n",
      "    await self.start()\n",
      "  File \"/home/ax2047/.local/lib/python3.8/site-packages/dask_jobqueue/core.py\", line 325, in start\n",
      "    out = await self._submit_job(fn)\n",
      "  File \"/home/ax2047/.local/lib/python3.8/site-packages/dask_jobqueue/core.py\", line 308, in _submit_job\n",
      "    return self._call(shlex.split(self.submit_command) + [script_filename])\n",
      "  File \"/home/ax2047/.local/lib/python3.8/site-packages/dask_jobqueue/core.py\", line 395, in _call\n",
      "    proc = subprocess.Popen(\n",
      "  File \"/ext3/pyspark/lib/python3.8/subprocess.py\", line 858, in __init__\n",
      "    self._execute_child(args, executable, preexec_fn, close_fds,\n",
      "  File \"/ext3/pyspark/lib/python3.8/subprocess.py\", line 1704, in _execute_child\n",
      "    raise child_exception_type(errno_num, err_msg, err_filename)\n",
      "FileNotFoundError: [Errno 2] No such file or directory: 'sbatch'\n",
      "Task exception was never retrieved\n",
      "future: <Task finished name='Task-29' coro=<_wrap_awaitable() done, defined at /ext3/pyspark/lib/python3.8/asyncio/tasks.py:688> exception=FileNotFoundError(2, 'No such file or directory')>\n",
      "Traceback (most recent call last):\n",
      "  File \"/ext3/pyspark/lib/python3.8/asyncio/tasks.py\", line 695, in _wrap_awaitable\n",
      "    return (yield from awaitable.__await__())\n",
      "  File \"/home/ax2047/.local/lib/python3.8/site-packages/distributed/deploy/spec.py\", line 59, in _\n",
      "    await self.start()\n",
      "  File \"/home/ax2047/.local/lib/python3.8/site-packages/dask_jobqueue/core.py\", line 325, in start\n",
      "    out = await self._submit_job(fn)\n",
      "  File \"/home/ax2047/.local/lib/python3.8/site-packages/dask_jobqueue/core.py\", line 308, in _submit_job\n",
      "    return self._call(shlex.split(self.submit_command) + [script_filename])\n",
      "  File \"/home/ax2047/.local/lib/python3.8/site-packages/dask_jobqueue/core.py\", line 395, in _call\n",
      "    proc = subprocess.Popen(\n",
      "  File \"/ext3/pyspark/lib/python3.8/subprocess.py\", line 858, in __init__\n",
      "    self._execute_child(args, executable, preexec_fn, close_fds,\n",
      "  File \"/ext3/pyspark/lib/python3.8/subprocess.py\", line 1704, in _execute_child\n",
      "    raise child_exception_type(errno_num, err_msg, err_filename)\n",
      "FileNotFoundError: [Errno 2] No such file or directory: 'sbatch'\n",
      "Task exception was never retrieved\n",
      "future: <Task finished name='Task-54' coro=<_wrap_awaitable() done, defined at /ext3/pyspark/lib/python3.8/asyncio/tasks.py:688> exception=FileNotFoundError(2, 'No such file or directory')>\n",
      "Traceback (most recent call last):\n",
      "  File \"/ext3/pyspark/lib/python3.8/asyncio/tasks.py\", line 695, in _wrap_awaitable\n",
      "    return (yield from awaitable.__await__())\n",
      "  File \"/home/ax2047/.local/lib/python3.8/site-packages/distributed/deploy/spec.py\", line 59, in _\n",
      "    await self.start()\n",
      "  File \"/home/ax2047/.local/lib/python3.8/site-packages/dask_jobqueue/core.py\", line 325, in start\n",
      "    out = await self._submit_job(fn)\n",
      "  File \"/home/ax2047/.local/lib/python3.8/site-packages/dask_jobqueue/core.py\", line 308, in _submit_job\n",
      "    return self._call(shlex.split(self.submit_command) + [script_filename])\n",
      "  File \"/home/ax2047/.local/lib/python3.8/site-packages/dask_jobqueue/core.py\", line 395, in _call\n",
      "    proc = subprocess.Popen(\n",
      "  File \"/ext3/pyspark/lib/python3.8/subprocess.py\", line 858, in __init__\n",
      "    self._execute_child(args, executable, preexec_fn, close_fds,\n",
      "  File \"/ext3/pyspark/lib/python3.8/subprocess.py\", line 1704, in _execute_child\n",
      "    raise child_exception_type(errno_num, err_msg, err_filename)\n",
      "FileNotFoundError: [Errno 2] No such file or directory: 'sbatch'\n",
      "Task exception was never retrieved\n",
      "future: <Task finished name='Task-42' coro=<_wrap_awaitable() done, defined at /ext3/pyspark/lib/python3.8/asyncio/tasks.py:688> exception=FileNotFoundError(2, 'No such file or directory')>\n",
      "Traceback (most recent call last):\n",
      "  File \"/ext3/pyspark/lib/python3.8/asyncio/tasks.py\", line 695, in _wrap_awaitable\n",
      "    return (yield from awaitable.__await__())\n",
      "  File \"/home/ax2047/.local/lib/python3.8/site-packages/distributed/deploy/spec.py\", line 59, in _\n",
      "    await self.start()\n",
      "  File \"/home/ax2047/.local/lib/python3.8/site-packages/dask_jobqueue/core.py\", line 325, in start\n",
      "    out = await self._submit_job(fn)\n",
      "  File \"/home/ax2047/.local/lib/python3.8/site-packages/dask_jobqueue/core.py\", line 308, in _submit_job\n",
      "    return self._call(shlex.split(self.submit_command) + [script_filename])\n",
      "  File \"/home/ax2047/.local/lib/python3.8/site-packages/dask_jobqueue/core.py\", line 395, in _call\n",
      "    proc = subprocess.Popen(\n",
      "  File \"/ext3/pyspark/lib/python3.8/subprocess.py\", line 858, in __init__\n",
      "    self._execute_child(args, executable, preexec_fn, close_fds,\n",
      "  File \"/ext3/pyspark/lib/python3.8/subprocess.py\", line 1704, in _execute_child\n",
      "    raise child_exception_type(errno_num, err_msg, err_filename)\n",
      "FileNotFoundError: [Errno 2] No such file or directory: 'sbatch'\n",
      "Task exception was never retrieved\n",
      "future: <Task finished name='Task-67' coro=<_wrap_awaitable() done, defined at /ext3/pyspark/lib/python3.8/asyncio/tasks.py:688> exception=FileNotFoundError(2, 'No such file or directory')>\n",
      "Traceback (most recent call last):\n",
      "  File \"/ext3/pyspark/lib/python3.8/asyncio/tasks.py\", line 695, in _wrap_awaitable\n",
      "    return (yield from awaitable.__await__())\n",
      "  File \"/home/ax2047/.local/lib/python3.8/site-packages/distributed/deploy/spec.py\", line 59, in _\n",
      "    await self.start()\n",
      "  File \"/home/ax2047/.local/lib/python3.8/site-packages/dask_jobqueue/core.py\", line 325, in start\n",
      "    out = await self._submit_job(fn)\n",
      "  File \"/home/ax2047/.local/lib/python3.8/site-packages/dask_jobqueue/core.py\", line 308, in _submit_job\n",
      "    return self._call(shlex.split(self.submit_command) + [script_filename])\n",
      "  File \"/home/ax2047/.local/lib/python3.8/site-packages/dask_jobqueue/core.py\", line 395, in _call\n",
      "    proc = subprocess.Popen(\n",
      "  File \"/ext3/pyspark/lib/python3.8/subprocess.py\", line 858, in __init__\n",
      "    self._execute_child(args, executable, preexec_fn, close_fds,\n",
      "  File \"/ext3/pyspark/lib/python3.8/subprocess.py\", line 1704, in _execute_child\n",
      "    raise child_exception_type(errno_num, err_msg, err_filename)\n",
      "FileNotFoundError: [Errno 2] No such file or directory: 'sbatch'\n",
      "Task exception was never retrieved\n",
      "future: <Task finished name='Task-55' coro=<_wrap_awaitable() done, defined at /ext3/pyspark/lib/python3.8/asyncio/tasks.py:688> exception=FileNotFoundError(2, 'No such file or directory')>\n",
      "Traceback (most recent call last):\n",
      "  File \"/ext3/pyspark/lib/python3.8/asyncio/tasks.py\", line 695, in _wrap_awaitable\n",
      "    return (yield from awaitable.__await__())\n",
      "  File \"/home/ax2047/.local/lib/python3.8/site-packages/distributed/deploy/spec.py\", line 59, in _\n",
      "    await self.start()\n",
      "  File \"/home/ax2047/.local/lib/python3.8/site-packages/dask_jobqueue/core.py\", line 325, in start\n",
      "    out = await self._submit_job(fn)\n",
      "  File \"/home/ax2047/.local/lib/python3.8/site-packages/dask_jobqueue/core.py\", line 308, in _submit_job\n",
      "    return self._call(shlex.split(self.submit_command) + [script_filename])\n",
      "  File \"/home/ax2047/.local/lib/python3.8/site-packages/dask_jobqueue/core.py\", line 395, in _call\n",
      "    proc = subprocess.Popen(\n",
      "  File \"/ext3/pyspark/lib/python3.8/subprocess.py\", line 858, in __init__\n",
      "    self._execute_child(args, executable, preexec_fn, close_fds,\n",
      "  File \"/ext3/pyspark/lib/python3.8/subprocess.py\", line 1704, in _execute_child\n",
      "    raise child_exception_type(errno_num, err_msg, err_filename)\n",
      "FileNotFoundError: [Errno 2] No such file or directory: 'sbatch'\n",
      "2022-05-17 15:57:09,589 - tornado.application - ERROR - Exception in callback functools.partial(<bound method IOLoop._discard_future_result of <zmq.eventloop.ioloop.ZMQIOLoop object at 0x1544da4ff6a0>>, <Task finished name='Task-20' coro=<SpecCluster._correct_state_internal() done, defined at /home/ax2047/.local/lib/python3.8/site-packages/distributed/deploy/spec.py:315> exception=FileNotFoundError(2, 'No such file or directory')>)\n",
      "Traceback (most recent call last):\n",
      "  File \"/ext3/pyspark/lib/python3.8/site-packages/tornado/ioloop.py\", line 741, in _run_callback\n",
      "    ret = callback()\n",
      "  File \"/ext3/pyspark/lib/python3.8/site-packages/tornado/ioloop.py\", line 765, in _discard_future_result\n",
      "    future.result()\n",
      "  File \"/home/ax2047/.local/lib/python3.8/site-packages/distributed/deploy/spec.py\", line 353, in _correct_state_internal\n",
      "    await w  # for tornado gen.coroutine support\n",
      "  File \"/home/ax2047/.local/lib/python3.8/site-packages/distributed/deploy/spec.py\", line 59, in _\n",
      "    await self.start()\n",
      "  File \"/home/ax2047/.local/lib/python3.8/site-packages/dask_jobqueue/core.py\", line 325, in start\n",
      "    out = await self._submit_job(fn)\n",
      "  File \"/home/ax2047/.local/lib/python3.8/site-packages/dask_jobqueue/core.py\", line 308, in _submit_job\n",
      "    return self._call(shlex.split(self.submit_command) + [script_filename])\n",
      "  File \"/home/ax2047/.local/lib/python3.8/site-packages/dask_jobqueue/core.py\", line 395, in _call\n",
      "    proc = subprocess.Popen(\n",
      "  File \"/ext3/pyspark/lib/python3.8/subprocess.py\", line 858, in __init__\n",
      "    self._execute_child(args, executable, preexec_fn, close_fds,\n",
      "  File \"/ext3/pyspark/lib/python3.8/subprocess.py\", line 1704, in _execute_child\n",
      "    raise child_exception_type(errno_num, err_msg, err_filename)\n",
      "FileNotFoundError: [Errno 2] No such file or directory: 'sbatch'\n",
      "Task exception was never retrieved\n",
      "future: <Task finished name='Task-91' coro=<_wrap_awaitable() done, defined at /ext3/pyspark/lib/python3.8/asyncio/tasks.py:688> exception=FileNotFoundError(2, 'No such file or directory')>\n",
      "Traceback (most recent call last):\n",
      "  File \"/ext3/pyspark/lib/python3.8/asyncio/tasks.py\", line 695, in _wrap_awaitable\n",
      "    return (yield from awaitable.__await__())\n",
      "  File \"/home/ax2047/.local/lib/python3.8/site-packages/distributed/deploy/spec.py\", line 59, in _\n",
      "    await self.start()\n",
      "  File \"/home/ax2047/.local/lib/python3.8/site-packages/dask_jobqueue/core.py\", line 325, in start\n",
      "    out = await self._submit_job(fn)\n",
      "  File \"/home/ax2047/.local/lib/python3.8/site-packages/dask_jobqueue/core.py\", line 308, in _submit_job\n",
      "    return self._call(shlex.split(self.submit_command) + [script_filename])\n",
      "  File \"/home/ax2047/.local/lib/python3.8/site-packages/dask_jobqueue/core.py\", line 395, in _call\n",
      "    proc = subprocess.Popen(\n",
      "  File \"/ext3/pyspark/lib/python3.8/subprocess.py\", line 858, in __init__\n",
      "    self._execute_child(args, executable, preexec_fn, close_fds,\n",
      "  File \"/ext3/pyspark/lib/python3.8/subprocess.py\", line 1704, in _execute_child\n",
      "    raise child_exception_type(errno_num, err_msg, err_filename)\n",
      "FileNotFoundError: [Errno 2] No such file or directory: 'sbatch'\n",
      "Task exception was never retrieved\n",
      "future: <Task finished name='Task-105' coro=<_wrap_awaitable() done, defined at /ext3/pyspark/lib/python3.8/asyncio/tasks.py:688> exception=FileNotFoundError(2, 'No such file or directory')>\n",
      "Traceback (most recent call last):\n",
      "  File \"/ext3/pyspark/lib/python3.8/asyncio/tasks.py\", line 695, in _wrap_awaitable\n",
      "    return (yield from awaitable.__await__())\n",
      "  File \"/home/ax2047/.local/lib/python3.8/site-packages/distributed/deploy/spec.py\", line 59, in _\n",
      "    await self.start()\n",
      "  File \"/home/ax2047/.local/lib/python3.8/site-packages/dask_jobqueue/core.py\", line 325, in start\n",
      "    out = await self._submit_job(fn)\n",
      "  File \"/home/ax2047/.local/lib/python3.8/site-packages/dask_jobqueue/core.py\", line 308, in _submit_job\n",
      "    return self._call(shlex.split(self.submit_command) + [script_filename])\n",
      "  File \"/home/ax2047/.local/lib/python3.8/site-packages/dask_jobqueue/core.py\", line 395, in _call\n",
      "    proc = subprocess.Popen(\n",
      "  File \"/ext3/pyspark/lib/python3.8/subprocess.py\", line 858, in __init__\n",
      "    self._execute_child(args, executable, preexec_fn, close_fds,\n",
      "  File \"/ext3/pyspark/lib/python3.8/subprocess.py\", line 1704, in _execute_child\n",
      "    raise child_exception_type(errno_num, err_msg, err_filename)\n",
      "FileNotFoundError: [Errno 2] No such file or directory: 'sbatch'\n",
      "Task exception was never retrieved\n",
      "future: <Task finished name='Task-118' coro=<_wrap_awaitable() done, defined at /ext3/pyspark/lib/python3.8/asyncio/tasks.py:688> exception=FileNotFoundError(2, 'No such file or directory')>\n",
      "Traceback (most recent call last):\n",
      "  File \"/ext3/pyspark/lib/python3.8/asyncio/tasks.py\", line 695, in _wrap_awaitable\n",
      "    return (yield from awaitable.__await__())\n",
      "  File \"/home/ax2047/.local/lib/python3.8/site-packages/distributed/deploy/spec.py\", line 59, in _\n",
      "    await self.start()\n",
      "  File \"/home/ax2047/.local/lib/python3.8/site-packages/dask_jobqueue/core.py\", line 325, in start\n",
      "    out = await self._submit_job(fn)\n",
      "  File \"/home/ax2047/.local/lib/python3.8/site-packages/dask_jobqueue/core.py\", line 308, in _submit_job\n",
      "    return self._call(shlex.split(self.submit_command) + [script_filename])\n",
      "  File \"/home/ax2047/.local/lib/python3.8/site-packages/dask_jobqueue/core.py\", line 395, in _call\n",
      "    proc = subprocess.Popen(\n",
      "  File \"/ext3/pyspark/lib/python3.8/subprocess.py\", line 858, in __init__\n",
      "    self._execute_child(args, executable, preexec_fn, close_fds,\n",
      "  File \"/ext3/pyspark/lib/python3.8/subprocess.py\", line 1704, in _execute_child\n",
      "    raise child_exception_type(errno_num, err_msg, err_filename)\n",
      "FileNotFoundError: [Errno 2] No such file or directory: 'sbatch'\n",
      "Task exception was never retrieved\n",
      "future: <Task finished name='Task-93' coro=<_wrap_awaitable() done, defined at /ext3/pyspark/lib/python3.8/asyncio/tasks.py:688> exception=FileNotFoundError(2, 'No such file or directory')>\n",
      "Traceback (most recent call last):\n",
      "  File \"/ext3/pyspark/lib/python3.8/asyncio/tasks.py\", line 695, in _wrap_awaitable\n",
      "    return (yield from awaitable.__await__())\n",
      "  File \"/home/ax2047/.local/lib/python3.8/site-packages/distributed/deploy/spec.py\", line 59, in _\n",
      "    await self.start()\n",
      "  File \"/home/ax2047/.local/lib/python3.8/site-packages/dask_jobqueue/core.py\", line 325, in start\n",
      "    out = await self._submit_job(fn)\n",
      "  File \"/home/ax2047/.local/lib/python3.8/site-packages/dask_jobqueue/core.py\", line 308, in _submit_job\n",
      "    return self._call(shlex.split(self.submit_command) + [script_filename])\n",
      "  File \"/home/ax2047/.local/lib/python3.8/site-packages/dask_jobqueue/core.py\", line 395, in _call\n",
      "    proc = subprocess.Popen(\n",
      "  File \"/ext3/pyspark/lib/python3.8/subprocess.py\", line 858, in __init__\n",
      "    self._execute_child(args, executable, preexec_fn, close_fds,\n",
      "  File \"/ext3/pyspark/lib/python3.8/subprocess.py\", line 1704, in _execute_child\n",
      "    raise child_exception_type(errno_num, err_msg, err_filename)\n",
      "FileNotFoundError: [Errno 2] No such file or directory: 'sbatch'\n",
      "Task exception was never retrieved\n",
      "future: <Task finished name='Task-88' coro=<_wrap_awaitable() done, defined at /ext3/pyspark/lib/python3.8/asyncio/tasks.py:688> exception=FileNotFoundError(2, 'No such file or directory')>\n",
      "Traceback (most recent call last):\n",
      "  File \"/ext3/pyspark/lib/python3.8/asyncio/tasks.py\", line 695, in _wrap_awaitable\n",
      "    return (yield from awaitable.__await__())\n",
      "  File \"/home/ax2047/.local/lib/python3.8/site-packages/distributed/deploy/spec.py\", line 59, in _\n",
      "    await self.start()\n",
      "  File \"/home/ax2047/.local/lib/python3.8/site-packages/dask_jobqueue/core.py\", line 325, in start\n",
      "    out = await self._submit_job(fn)\n",
      "  File \"/home/ax2047/.local/lib/python3.8/site-packages/dask_jobqueue/core.py\", line 308, in _submit_job\n",
      "    return self._call(shlex.split(self.submit_command) + [script_filename])\n",
      "  File \"/home/ax2047/.local/lib/python3.8/site-packages/dask_jobqueue/core.py\", line 395, in _call\n",
      "    proc = subprocess.Popen(\n",
      "  File \"/ext3/pyspark/lib/python3.8/subprocess.py\", line 858, in __init__\n",
      "    self._execute_child(args, executable, preexec_fn, close_fds,\n",
      "  File \"/ext3/pyspark/lib/python3.8/subprocess.py\", line 1704, in _execute_child\n",
      "    raise child_exception_type(errno_num, err_msg, err_filename)\n",
      "FileNotFoundError: [Errno 2] No such file or directory: 'sbatch'\n",
      "Task exception was never retrieved\n",
      "future: <Task finished name='Task-87' coro=<_wrap_awaitable() done, defined at /ext3/pyspark/lib/python3.8/asyncio/tasks.py:688> exception=FileNotFoundError(2, 'No such file or directory')>\n",
      "Traceback (most recent call last):\n",
      "  File \"/ext3/pyspark/lib/python3.8/asyncio/tasks.py\", line 695, in _wrap_awaitable\n",
      "    return (yield from awaitable.__await__())\n",
      "  File \"/home/ax2047/.local/lib/python3.8/site-packages/distributed/deploy/spec.py\", line 59, in _\n",
      "    await self.start()\n",
      "  File \"/home/ax2047/.local/lib/python3.8/site-packages/dask_jobqueue/core.py\", line 325, in start\n",
      "    out = await self._submit_job(fn)\n",
      "  File \"/home/ax2047/.local/lib/python3.8/site-packages/dask_jobqueue/core.py\", line 308, in _submit_job\n",
      "    return self._call(shlex.split(self.submit_command) + [script_filename])\n",
      "  File \"/home/ax2047/.local/lib/python3.8/site-packages/dask_jobqueue/core.py\", line 395, in _call\n",
      "    proc = subprocess.Popen(\n",
      "  File \"/ext3/pyspark/lib/python3.8/subprocess.py\", line 858, in __init__\n",
      "    self._execute_child(args, executable, preexec_fn, close_fds,\n",
      "  File \"/ext3/pyspark/lib/python3.8/subprocess.py\", line 1704, in _execute_child\n",
      "    raise child_exception_type(errno_num, err_msg, err_filename)\n",
      "FileNotFoundError: [Errno 2] No such file or directory: 'sbatch'\n",
      "Task exception was never retrieved\n",
      "future: <Task finished name='Task-90' coro=<_wrap_awaitable() done, defined at /ext3/pyspark/lib/python3.8/asyncio/tasks.py:688> exception=FileNotFoundError(2, 'No such file or directory')>\n",
      "Traceback (most recent call last):\n",
      "  File \"/ext3/pyspark/lib/python3.8/asyncio/tasks.py\", line 695, in _wrap_awaitable\n",
      "    return (yield from awaitable.__await__())\n",
      "  File \"/home/ax2047/.local/lib/python3.8/site-packages/distributed/deploy/spec.py\", line 59, in _\n",
      "    await self.start()\n",
      "  File \"/home/ax2047/.local/lib/python3.8/site-packages/dask_jobqueue/core.py\", line 325, in start\n",
      "    out = await self._submit_job(fn)\n",
      "  File \"/home/ax2047/.local/lib/python3.8/site-packages/dask_jobqueue/core.py\", line 308, in _submit_job\n",
      "    return self._call(shlex.split(self.submit_command) + [script_filename])\n",
      "  File \"/home/ax2047/.local/lib/python3.8/site-packages/dask_jobqueue/core.py\", line 395, in _call\n",
      "    proc = subprocess.Popen(\n",
      "  File \"/ext3/pyspark/lib/python3.8/subprocess.py\", line 858, in __init__\n",
      "    self._execute_child(args, executable, preexec_fn, close_fds,\n",
      "  File \"/ext3/pyspark/lib/python3.8/subprocess.py\", line 1704, in _execute_child\n",
      "    raise child_exception_type(errno_num, err_msg, err_filename)\n",
      "FileNotFoundError: [Errno 2] No such file or directory: 'sbatch'\n",
      "Task exception was never retrieved\n",
      "future: <Task finished name='Task-94' coro=<_wrap_awaitable() done, defined at /ext3/pyspark/lib/python3.8/asyncio/tasks.py:688> exception=FileNotFoundError(2, 'No such file or directory')>\n",
      "Traceback (most recent call last):\n",
      "  File \"/ext3/pyspark/lib/python3.8/asyncio/tasks.py\", line 695, in _wrap_awaitable\n",
      "    return (yield from awaitable.__await__())\n",
      "  File \"/home/ax2047/.local/lib/python3.8/site-packages/distributed/deploy/spec.py\", line 59, in _\n",
      "    await self.start()\n",
      "  File \"/home/ax2047/.local/lib/python3.8/site-packages/dask_jobqueue/core.py\", line 325, in start\n",
      "    out = await self._submit_job(fn)\n",
      "  File \"/home/ax2047/.local/lib/python3.8/site-packages/dask_jobqueue/core.py\", line 308, in _submit_job\n",
      "    return self._call(shlex.split(self.submit_command) + [script_filename])\n",
      "  File \"/home/ax2047/.local/lib/python3.8/site-packages/dask_jobqueue/core.py\", line 395, in _call\n",
      "    proc = subprocess.Popen(\n",
      "  File \"/ext3/pyspark/lib/python3.8/subprocess.py\", line 858, in __init__\n",
      "    self._execute_child(args, executable, preexec_fn, close_fds,\n",
      "  File \"/ext3/pyspark/lib/python3.8/subprocess.py\", line 1704, in _execute_child\n",
      "    raise child_exception_type(errno_num, err_msg, err_filename)\n",
      "FileNotFoundError: [Errno 2] No such file or directory: 'sbatch'\n",
      "Task exception was never retrieved\n",
      "future: <Task finished name='Task-106' coro=<_wrap_awaitable() done, defined at /ext3/pyspark/lib/python3.8/asyncio/tasks.py:688> exception=FileNotFoundError(2, 'No such file or directory')>\n",
      "Traceback (most recent call last):\n",
      "  File \"/ext3/pyspark/lib/python3.8/asyncio/tasks.py\", line 695, in _wrap_awaitable\n",
      "    return (yield from awaitable.__await__())\n",
      "  File \"/home/ax2047/.local/lib/python3.8/site-packages/distributed/deploy/spec.py\", line 59, in _\n",
      "    await self.start()\n",
      "  File \"/home/ax2047/.local/lib/python3.8/site-packages/dask_jobqueue/core.py\", line 325, in start\n",
      "    out = await self._submit_job(fn)\n",
      "  File \"/home/ax2047/.local/lib/python3.8/site-packages/dask_jobqueue/core.py\", line 308, in _submit_job\n",
      "    return self._call(shlex.split(self.submit_command) + [script_filename])\n",
      "  File \"/home/ax2047/.local/lib/python3.8/site-packages/dask_jobqueue/core.py\", line 395, in _call\n",
      "    proc = subprocess.Popen(\n",
      "  File \"/ext3/pyspark/lib/python3.8/subprocess.py\", line 858, in __init__\n",
      "    self._execute_child(args, executable, preexec_fn, close_fds,\n",
      "  File \"/ext3/pyspark/lib/python3.8/subprocess.py\", line 1704, in _execute_child\n",
      "    raise child_exception_type(errno_num, err_msg, err_filename)\n",
      "FileNotFoundError: [Errno 2] No such file or directory: 'sbatch'\n",
      "Task exception was never retrieved\n",
      "future: <Task finished name='Task-119' coro=<_wrap_awaitable() done, defined at /ext3/pyspark/lib/python3.8/asyncio/tasks.py:688> exception=FileNotFoundError(2, 'No such file or directory')>\n",
      "Traceback (most recent call last):\n",
      "  File \"/ext3/pyspark/lib/python3.8/asyncio/tasks.py\", line 695, in _wrap_awaitable\n",
      "    return (yield from awaitable.__await__())\n",
      "  File \"/home/ax2047/.local/lib/python3.8/site-packages/distributed/deploy/spec.py\", line 59, in _\n",
      "    await self.start()\n",
      "  File \"/home/ax2047/.local/lib/python3.8/site-packages/dask_jobqueue/core.py\", line 325, in start\n",
      "    out = await self._submit_job(fn)\n",
      "  File \"/home/ax2047/.local/lib/python3.8/site-packages/dask_jobqueue/core.py\", line 308, in _submit_job\n",
      "    return self._call(shlex.split(self.submit_command) + [script_filename])\n",
      "  File \"/home/ax2047/.local/lib/python3.8/site-packages/dask_jobqueue/core.py\", line 395, in _call\n",
      "    proc = subprocess.Popen(\n",
      "  File \"/ext3/pyspark/lib/python3.8/subprocess.py\", line 858, in __init__\n",
      "    self._execute_child(args, executable, preexec_fn, close_fds,\n",
      "  File \"/ext3/pyspark/lib/python3.8/subprocess.py\", line 1704, in _execute_child\n",
      "    raise child_exception_type(errno_num, err_msg, err_filename)\n",
      "FileNotFoundError: [Errno 2] No such file or directory: 'sbatch'\n",
      "Task exception was never retrieved\n",
      "future: <Task finished name='Task-107' coro=<_wrap_awaitable() done, defined at /ext3/pyspark/lib/python3.8/asyncio/tasks.py:688> exception=FileNotFoundError(2, 'No such file or directory')>\n",
      "Traceback (most recent call last):\n",
      "  File \"/ext3/pyspark/lib/python3.8/asyncio/tasks.py\", line 695, in _wrap_awaitable\n",
      "    return (yield from awaitable.__await__())\n",
      "  File \"/home/ax2047/.local/lib/python3.8/site-packages/distributed/deploy/spec.py\", line 59, in _\n",
      "    await self.start()\n",
      "  File \"/home/ax2047/.local/lib/python3.8/site-packages/dask_jobqueue/core.py\", line 325, in start\n",
      "    out = await self._submit_job(fn)\n",
      "  File \"/home/ax2047/.local/lib/python3.8/site-packages/dask_jobqueue/core.py\", line 308, in _submit_job\n",
      "    return self._call(shlex.split(self.submit_command) + [script_filename])\n",
      "  File \"/home/ax2047/.local/lib/python3.8/site-packages/dask_jobqueue/core.py\", line 395, in _call\n",
      "    proc = subprocess.Popen(\n",
      "  File \"/ext3/pyspark/lib/python3.8/subprocess.py\", line 858, in __init__\n",
      "    self._execute_child(args, executable, preexec_fn, close_fds,\n",
      "  File \"/ext3/pyspark/lib/python3.8/subprocess.py\", line 1704, in _execute_child\n",
      "    raise child_exception_type(errno_num, err_msg, err_filename)\n",
      "FileNotFoundError: [Errno 2] No such file or directory: 'sbatch'\n",
      "Task exception was never retrieved\n",
      "future: <Task finished name='Task-89' coro=<_wrap_awaitable() done, defined at /ext3/pyspark/lib/python3.8/asyncio/tasks.py:688> exception=FileNotFoundError(2, 'No such file or directory')>\n",
      "Traceback (most recent call last):\n",
      "  File \"/ext3/pyspark/lib/python3.8/asyncio/tasks.py\", line 695, in _wrap_awaitable\n",
      "    return (yield from awaitable.__await__())\n",
      "  File \"/home/ax2047/.local/lib/python3.8/site-packages/distributed/deploy/spec.py\", line 59, in _\n",
      "    await self.start()\n",
      "  File \"/home/ax2047/.local/lib/python3.8/site-packages/dask_jobqueue/core.py\", line 325, in start\n",
      "    out = await self._submit_job(fn)\n",
      "  File \"/home/ax2047/.local/lib/python3.8/site-packages/dask_jobqueue/core.py\", line 308, in _submit_job\n",
      "    return self._call(shlex.split(self.submit_command) + [script_filename])\n",
      "  File \"/home/ax2047/.local/lib/python3.8/site-packages/dask_jobqueue/core.py\", line 395, in _call\n",
      "    proc = subprocess.Popen(\n",
      "  File \"/ext3/pyspark/lib/python3.8/subprocess.py\", line 858, in __init__\n",
      "    self._execute_child(args, executable, preexec_fn, close_fds,\n",
      "  File \"/ext3/pyspark/lib/python3.8/subprocess.py\", line 1704, in _execute_child\n",
      "    raise child_exception_type(errno_num, err_msg, err_filename)\n",
      "FileNotFoundError: [Errno 2] No such file or directory: 'sbatch'\n",
      "Task exception was never retrieved\n",
      "future: <Task finished name='Task-120' coro=<_wrap_awaitable() done, defined at /ext3/pyspark/lib/python3.8/asyncio/tasks.py:688> exception=FileNotFoundError(2, 'No such file or directory')>\n",
      "Traceback (most recent call last):\n",
      "  File \"/ext3/pyspark/lib/python3.8/asyncio/tasks.py\", line 695, in _wrap_awaitable\n",
      "    return (yield from awaitable.__await__())\n",
      "  File \"/home/ax2047/.local/lib/python3.8/site-packages/distributed/deploy/spec.py\", line 59, in _\n",
      "    await self.start()\n",
      "  File \"/home/ax2047/.local/lib/python3.8/site-packages/dask_jobqueue/core.py\", line 325, in start\n",
      "    out = await self._submit_job(fn)\n",
      "  File \"/home/ax2047/.local/lib/python3.8/site-packages/dask_jobqueue/core.py\", line 308, in _submit_job\n",
      "    return self._call(shlex.split(self.submit_command) + [script_filename])\n",
      "  File \"/home/ax2047/.local/lib/python3.8/site-packages/dask_jobqueue/core.py\", line 395, in _call\n",
      "    proc = subprocess.Popen(\n",
      "  File \"/ext3/pyspark/lib/python3.8/subprocess.py\", line 858, in __init__\n",
      "    self._execute_child(args, executable, preexec_fn, close_fds,\n",
      "  File \"/ext3/pyspark/lib/python3.8/subprocess.py\", line 1704, in _execute_child\n",
      "    raise child_exception_type(errno_num, err_msg, err_filename)\n",
      "FileNotFoundError: [Errno 2] No such file or directory: 'sbatch'\n",
      "Task exception was never retrieved\n",
      "future: <Task finished name='Task-102' coro=<_wrap_awaitable() done, defined at /ext3/pyspark/lib/python3.8/asyncio/tasks.py:688> exception=FileNotFoundError(2, 'No such file or directory')>\n",
      "Traceback (most recent call last):\n",
      "  File \"/ext3/pyspark/lib/python3.8/asyncio/tasks.py\", line 695, in _wrap_awaitable\n",
      "    return (yield from awaitable.__await__())\n",
      "  File \"/home/ax2047/.local/lib/python3.8/site-packages/distributed/deploy/spec.py\", line 59, in _\n",
      "    await self.start()\n",
      "  File \"/home/ax2047/.local/lib/python3.8/site-packages/dask_jobqueue/core.py\", line 325, in start\n",
      "    out = await self._submit_job(fn)\n",
      "  File \"/home/ax2047/.local/lib/python3.8/site-packages/dask_jobqueue/core.py\", line 308, in _submit_job\n",
      "    return self._call(shlex.split(self.submit_command) + [script_filename])\n",
      "  File \"/home/ax2047/.local/lib/python3.8/site-packages/dask_jobqueue/core.py\", line 395, in _call\n",
      "    proc = subprocess.Popen(\n",
      "  File \"/ext3/pyspark/lib/python3.8/subprocess.py\", line 858, in __init__\n",
      "    self._execute_child(args, executable, preexec_fn, close_fds,\n",
      "  File \"/ext3/pyspark/lib/python3.8/subprocess.py\", line 1704, in _execute_child\n",
      "    raise child_exception_type(errno_num, err_msg, err_filename)\n",
      "FileNotFoundError: [Errno 2] No such file or directory: 'sbatch'\n",
      "Task exception was never retrieved\n",
      "future: <Task finished name='Task-108' coro=<_wrap_awaitable() done, defined at /ext3/pyspark/lib/python3.8/asyncio/tasks.py:688> exception=FileNotFoundError(2, 'No such file or directory')>\n",
      "Traceback (most recent call last):\n",
      "  File \"/ext3/pyspark/lib/python3.8/asyncio/tasks.py\", line 695, in _wrap_awaitable\n",
      "    return (yield from awaitable.__await__())\n",
      "  File \"/home/ax2047/.local/lib/python3.8/site-packages/distributed/deploy/spec.py\", line 59, in _\n",
      "    await self.start()\n",
      "  File \"/home/ax2047/.local/lib/python3.8/site-packages/dask_jobqueue/core.py\", line 325, in start\n",
      "    out = await self._submit_job(fn)\n",
      "  File \"/home/ax2047/.local/lib/python3.8/site-packages/dask_jobqueue/core.py\", line 308, in _submit_job\n",
      "    return self._call(shlex.split(self.submit_command) + [script_filename])\n",
      "  File \"/home/ax2047/.local/lib/python3.8/site-packages/dask_jobqueue/core.py\", line 395, in _call\n",
      "    proc = subprocess.Popen(\n",
      "  File \"/ext3/pyspark/lib/python3.8/subprocess.py\", line 858, in __init__\n",
      "    self._execute_child(args, executable, preexec_fn, close_fds,\n",
      "  File \"/ext3/pyspark/lib/python3.8/subprocess.py\", line 1704, in _execute_child\n",
      "    raise child_exception_type(errno_num, err_msg, err_filename)\n",
      "FileNotFoundError: [Errno 2] No such file or directory: 'sbatch'\n",
      "Task exception was never retrieved\n",
      "future: <Task finished name='Task-95' coro=<_wrap_awaitable() done, defined at /ext3/pyspark/lib/python3.8/asyncio/tasks.py:688> exception=FileNotFoundError(2, 'No such file or directory')>\n",
      "Traceback (most recent call last):\n",
      "  File \"/ext3/pyspark/lib/python3.8/asyncio/tasks.py\", line 695, in _wrap_awaitable\n",
      "    return (yield from awaitable.__await__())\n",
      "  File \"/home/ax2047/.local/lib/python3.8/site-packages/distributed/deploy/spec.py\", line 59, in _\n",
      "    await self.start()\n",
      "  File \"/home/ax2047/.local/lib/python3.8/site-packages/dask_jobqueue/core.py\", line 325, in start\n",
      "    out = await self._submit_job(fn)\n",
      "  File \"/home/ax2047/.local/lib/python3.8/site-packages/dask_jobqueue/core.py\", line 308, in _submit_job\n",
      "    return self._call(shlex.split(self.submit_command) + [script_filename])\n",
      "  File \"/home/ax2047/.local/lib/python3.8/site-packages/dask_jobqueue/core.py\", line 395, in _call\n",
      "    proc = subprocess.Popen(\n",
      "  File \"/ext3/pyspark/lib/python3.8/subprocess.py\", line 858, in __init__\n",
      "    self._execute_child(args, executable, preexec_fn, close_fds,\n",
      "  File \"/ext3/pyspark/lib/python3.8/subprocess.py\", line 1704, in _execute_child\n",
      "    raise child_exception_type(errno_num, err_msg, err_filename)\n",
      "FileNotFoundError: [Errno 2] No such file or directory: 'sbatch'\n",
      "Task exception was never retrieved\n",
      "future: <Task finished name='Task-121' coro=<_wrap_awaitable() done, defined at /ext3/pyspark/lib/python3.8/asyncio/tasks.py:688> exception=FileNotFoundError(2, 'No such file or directory')>\n",
      "Traceback (most recent call last):\n",
      "  File \"/ext3/pyspark/lib/python3.8/asyncio/tasks.py\", line 695, in _wrap_awaitable\n",
      "    return (yield from awaitable.__await__())\n",
      "  File \"/home/ax2047/.local/lib/python3.8/site-packages/distributed/deploy/spec.py\", line 59, in _\n",
      "    await self.start()\n",
      "  File \"/home/ax2047/.local/lib/python3.8/site-packages/dask_jobqueue/core.py\", line 325, in start\n",
      "    out = await self._submit_job(fn)\n",
      "  File \"/home/ax2047/.local/lib/python3.8/site-packages/dask_jobqueue/core.py\", line 308, in _submit_job\n",
      "    return self._call(shlex.split(self.submit_command) + [script_filename])\n",
      "  File \"/home/ax2047/.local/lib/python3.8/site-packages/dask_jobqueue/core.py\", line 395, in _call\n",
      "    proc = subprocess.Popen(\n",
      "  File \"/ext3/pyspark/lib/python3.8/subprocess.py\", line 858, in __init__\n",
      "    self._execute_child(args, executable, preexec_fn, close_fds,\n",
      "  File \"/ext3/pyspark/lib/python3.8/subprocess.py\", line 1704, in _execute_child\n",
      "    raise child_exception_type(errno_num, err_msg, err_filename)\n",
      "FileNotFoundError: [Errno 2] No such file or directory: 'sbatch'\n",
      "Task exception was never retrieved\n",
      "future: <Task finished name='Task-86' coro=<_wrap_awaitable() done, defined at /ext3/pyspark/lib/python3.8/asyncio/tasks.py:688> exception=FileNotFoundError(2, 'No such file or directory')>\n",
      "Traceback (most recent call last):\n",
      "  File \"/ext3/pyspark/lib/python3.8/asyncio/tasks.py\", line 695, in _wrap_awaitable\n",
      "    return (yield from awaitable.__await__())\n",
      "  File \"/home/ax2047/.local/lib/python3.8/site-packages/distributed/deploy/spec.py\", line 59, in _\n",
      "    await self.start()\n",
      "  File \"/home/ax2047/.local/lib/python3.8/site-packages/dask_jobqueue/core.py\", line 325, in start\n",
      "    out = await self._submit_job(fn)\n",
      "  File \"/home/ax2047/.local/lib/python3.8/site-packages/dask_jobqueue/core.py\", line 308, in _submit_job\n",
      "    return self._call(shlex.split(self.submit_command) + [script_filename])\n",
      "  File \"/home/ax2047/.local/lib/python3.8/site-packages/dask_jobqueue/core.py\", line 395, in _call\n",
      "    proc = subprocess.Popen(\n",
      "  File \"/ext3/pyspark/lib/python3.8/subprocess.py\", line 858, in __init__\n",
      "    self._execute_child(args, executable, preexec_fn, close_fds,\n",
      "  File \"/ext3/pyspark/lib/python3.8/subprocess.py\", line 1704, in _execute_child\n",
      "    raise child_exception_type(errno_num, err_msg, err_filename)\n",
      "FileNotFoundError: [Errno 2] No such file or directory: 'sbatch'\n",
      "Task exception was never retrieved\n",
      "future: <Task finished name='Task-109' coro=<_wrap_awaitable() done, defined at /ext3/pyspark/lib/python3.8/asyncio/tasks.py:688> exception=FileNotFoundError(2, 'No such file or directory')>\n",
      "Traceback (most recent call last):\n",
      "  File \"/ext3/pyspark/lib/python3.8/asyncio/tasks.py\", line 695, in _wrap_awaitable\n",
      "    return (yield from awaitable.__await__())\n",
      "  File \"/home/ax2047/.local/lib/python3.8/site-packages/distributed/deploy/spec.py\", line 59, in _\n",
      "    await self.start()\n",
      "  File \"/home/ax2047/.local/lib/python3.8/site-packages/dask_jobqueue/core.py\", line 325, in start\n",
      "    out = await self._submit_job(fn)\n",
      "  File \"/home/ax2047/.local/lib/python3.8/site-packages/dask_jobqueue/core.py\", line 308, in _submit_job\n",
      "    return self._call(shlex.split(self.submit_command) + [script_filename])\n",
      "  File \"/home/ax2047/.local/lib/python3.8/site-packages/dask_jobqueue/core.py\", line 395, in _call\n",
      "    proc = subprocess.Popen(\n",
      "  File \"/ext3/pyspark/lib/python3.8/subprocess.py\", line 858, in __init__\n",
      "    self._execute_child(args, executable, preexec_fn, close_fds,\n",
      "  File \"/ext3/pyspark/lib/python3.8/subprocess.py\", line 1704, in _execute_child\n",
      "    raise child_exception_type(errno_num, err_msg, err_filename)\n",
      "FileNotFoundError: [Errno 2] No such file or directory: 'sbatch'\n",
      "Task exception was never retrieved\n",
      "future: <Task finished name='Task-85' coro=<_wrap_awaitable() done, defined at /ext3/pyspark/lib/python3.8/asyncio/tasks.py:688> exception=FileNotFoundError(2, 'No such file or directory')>\n",
      "Traceback (most recent call last):\n",
      "  File \"/ext3/pyspark/lib/python3.8/asyncio/tasks.py\", line 695, in _wrap_awaitable\n",
      "    return (yield from awaitable.__await__())\n",
      "  File \"/home/ax2047/.local/lib/python3.8/site-packages/distributed/deploy/spec.py\", line 59, in _\n",
      "    await self.start()\n",
      "  File \"/home/ax2047/.local/lib/python3.8/site-packages/dask_jobqueue/core.py\", line 325, in start\n",
      "    out = await self._submit_job(fn)\n",
      "  File \"/home/ax2047/.local/lib/python3.8/site-packages/dask_jobqueue/core.py\", line 308, in _submit_job\n",
      "    return self._call(shlex.split(self.submit_command) + [script_filename])\n",
      "  File \"/home/ax2047/.local/lib/python3.8/site-packages/dask_jobqueue/core.py\", line 395, in _call\n",
      "    proc = subprocess.Popen(\n",
      "  File \"/ext3/pyspark/lib/python3.8/subprocess.py\", line 858, in __init__\n",
      "    self._execute_child(args, executable, preexec_fn, close_fds,\n",
      "  File \"/ext3/pyspark/lib/python3.8/subprocess.py\", line 1704, in _execute_child\n",
      "    raise child_exception_type(errno_num, err_msg, err_filename)\n",
      "FileNotFoundError: [Errno 2] No such file or directory: 'sbatch'\n",
      "Task exception was never retrieved\n",
      "future: <Task finished name='Task-96' coro=<_wrap_awaitable() done, defined at /ext3/pyspark/lib/python3.8/asyncio/tasks.py:688> exception=FileNotFoundError(2, 'No such file or directory')>\n",
      "Traceback (most recent call last):\n",
      "  File \"/ext3/pyspark/lib/python3.8/asyncio/tasks.py\", line 695, in _wrap_awaitable\n",
      "    return (yield from awaitable.__await__())\n",
      "  File \"/home/ax2047/.local/lib/python3.8/site-packages/distributed/deploy/spec.py\", line 59, in _\n",
      "    await self.start()\n",
      "  File \"/home/ax2047/.local/lib/python3.8/site-packages/dask_jobqueue/core.py\", line 325, in start\n",
      "    out = await self._submit_job(fn)\n",
      "  File \"/home/ax2047/.local/lib/python3.8/site-packages/dask_jobqueue/core.py\", line 308, in _submit_job\n",
      "    return self._call(shlex.split(self.submit_command) + [script_filename])\n",
      "  File \"/home/ax2047/.local/lib/python3.8/site-packages/dask_jobqueue/core.py\", line 395, in _call\n",
      "    proc = subprocess.Popen(\n",
      "  File \"/ext3/pyspark/lib/python3.8/subprocess.py\", line 858, in __init__\n",
      "    self._execute_child(args, executable, preexec_fn, close_fds,\n",
      "  File \"/ext3/pyspark/lib/python3.8/subprocess.py\", line 1704, in _execute_child\n",
      "    raise child_exception_type(errno_num, err_msg, err_filename)\n",
      "FileNotFoundError: [Errno 2] No such file or directory: 'sbatch'\n",
      "Task exception was never retrieved\n",
      "future: <Task finished name='Task-122' coro=<_wrap_awaitable() done, defined at /ext3/pyspark/lib/python3.8/asyncio/tasks.py:688> exception=FileNotFoundError(2, 'No such file or directory')>\n",
      "Traceback (most recent call last):\n",
      "  File \"/ext3/pyspark/lib/python3.8/asyncio/tasks.py\", line 695, in _wrap_awaitable\n",
      "    return (yield from awaitable.__await__())\n",
      "  File \"/home/ax2047/.local/lib/python3.8/site-packages/distributed/deploy/spec.py\", line 59, in _\n",
      "    await self.start()\n",
      "  File \"/home/ax2047/.local/lib/python3.8/site-packages/dask_jobqueue/core.py\", line 325, in start\n",
      "    out = await self._submit_job(fn)\n",
      "  File \"/home/ax2047/.local/lib/python3.8/site-packages/dask_jobqueue/core.py\", line 308, in _submit_job\n",
      "    return self._call(shlex.split(self.submit_command) + [script_filename])\n",
      "  File \"/home/ax2047/.local/lib/python3.8/site-packages/dask_jobqueue/core.py\", line 395, in _call\n",
      "    proc = subprocess.Popen(\n",
      "  File \"/ext3/pyspark/lib/python3.8/subprocess.py\", line 858, in __init__\n",
      "    self._execute_child(args, executable, preexec_fn, close_fds,\n",
      "  File \"/ext3/pyspark/lib/python3.8/subprocess.py\", line 1704, in _execute_child\n",
      "    raise child_exception_type(errno_num, err_msg, err_filename)\n",
      "FileNotFoundError: [Errno 2] No such file or directory: 'sbatch'\n",
      "Task exception was never retrieved\n",
      "future: <Task finished name='Task-84' coro=<_wrap_awaitable() done, defined at /ext3/pyspark/lib/python3.8/asyncio/tasks.py:688> exception=FileNotFoundError(2, 'No such file or directory')>\n",
      "Traceback (most recent call last):\n",
      "  File \"/ext3/pyspark/lib/python3.8/asyncio/tasks.py\", line 695, in _wrap_awaitable\n",
      "    return (yield from awaitable.__await__())\n",
      "  File \"/home/ax2047/.local/lib/python3.8/site-packages/distributed/deploy/spec.py\", line 59, in _\n",
      "    await self.start()\n",
      "  File \"/home/ax2047/.local/lib/python3.8/site-packages/dask_jobqueue/core.py\", line 325, in start\n",
      "    out = await self._submit_job(fn)\n",
      "  File \"/home/ax2047/.local/lib/python3.8/site-packages/dask_jobqueue/core.py\", line 308, in _submit_job\n",
      "    return self._call(shlex.split(self.submit_command) + [script_filename])\n",
      "  File \"/home/ax2047/.local/lib/python3.8/site-packages/dask_jobqueue/core.py\", line 395, in _call\n",
      "    proc = subprocess.Popen(\n",
      "  File \"/ext3/pyspark/lib/python3.8/subprocess.py\", line 858, in __init__\n",
      "    self._execute_child(args, executable, preexec_fn, close_fds,\n",
      "  File \"/ext3/pyspark/lib/python3.8/subprocess.py\", line 1704, in _execute_child\n",
      "    raise child_exception_type(errno_num, err_msg, err_filename)\n",
      "FileNotFoundError: [Errno 2] No such file or directory: 'sbatch'\n",
      "Task exception was never retrieved\n",
      "future: <Task finished name='Task-110' coro=<_wrap_awaitable() done, defined at /ext3/pyspark/lib/python3.8/asyncio/tasks.py:688> exception=FileNotFoundError(2, 'No such file or directory')>\n",
      "Traceback (most recent call last):\n",
      "  File \"/ext3/pyspark/lib/python3.8/asyncio/tasks.py\", line 695, in _wrap_awaitable\n",
      "    return (yield from awaitable.__await__())\n",
      "  File \"/home/ax2047/.local/lib/python3.8/site-packages/distributed/deploy/spec.py\", line 59, in _\n",
      "    await self.start()\n",
      "  File \"/home/ax2047/.local/lib/python3.8/site-packages/dask_jobqueue/core.py\", line 325, in start\n",
      "    out = await self._submit_job(fn)\n",
      "  File \"/home/ax2047/.local/lib/python3.8/site-packages/dask_jobqueue/core.py\", line 308, in _submit_job\n",
      "    return self._call(shlex.split(self.submit_command) + [script_filename])\n",
      "  File \"/home/ax2047/.local/lib/python3.8/site-packages/dask_jobqueue/core.py\", line 395, in _call\n",
      "    proc = subprocess.Popen(\n",
      "  File \"/ext3/pyspark/lib/python3.8/subprocess.py\", line 858, in __init__\n",
      "    self._execute_child(args, executable, preexec_fn, close_fds,\n",
      "  File \"/ext3/pyspark/lib/python3.8/subprocess.py\", line 1704, in _execute_child\n",
      "    raise child_exception_type(errno_num, err_msg, err_filename)\n",
      "FileNotFoundError: [Errno 2] No such file or directory: 'sbatch'\n",
      "Task exception was never retrieved\n",
      "future: <Task finished name='Task-83' coro=<_wrap_awaitable() done, defined at /ext3/pyspark/lib/python3.8/asyncio/tasks.py:688> exception=FileNotFoundError(2, 'No such file or directory')>\n",
      "Traceback (most recent call last):\n",
      "  File \"/ext3/pyspark/lib/python3.8/asyncio/tasks.py\", line 695, in _wrap_awaitable\n",
      "    return (yield from awaitable.__await__())\n",
      "  File \"/home/ax2047/.local/lib/python3.8/site-packages/distributed/deploy/spec.py\", line 59, in _\n",
      "    await self.start()\n",
      "  File \"/home/ax2047/.local/lib/python3.8/site-packages/dask_jobqueue/core.py\", line 325, in start\n",
      "    out = await self._submit_job(fn)\n",
      "  File \"/home/ax2047/.local/lib/python3.8/site-packages/dask_jobqueue/core.py\", line 308, in _submit_job\n",
      "    return self._call(shlex.split(self.submit_command) + [script_filename])\n",
      "  File \"/home/ax2047/.local/lib/python3.8/site-packages/dask_jobqueue/core.py\", line 395, in _call\n",
      "    proc = subprocess.Popen(\n",
      "  File \"/ext3/pyspark/lib/python3.8/subprocess.py\", line 858, in __init__\n",
      "    self._execute_child(args, executable, preexec_fn, close_fds,\n",
      "  File \"/ext3/pyspark/lib/python3.8/subprocess.py\", line 1704, in _execute_child\n",
      "    raise child_exception_type(errno_num, err_msg, err_filename)\n",
      "FileNotFoundError: [Errno 2] No such file or directory: 'sbatch'\n",
      "Task exception was never retrieved\n",
      "future: <Task finished name='Task-97' coro=<_wrap_awaitable() done, defined at /ext3/pyspark/lib/python3.8/asyncio/tasks.py:688> exception=FileNotFoundError(2, 'No such file or directory')>\n",
      "Traceback (most recent call last):\n",
      "  File \"/ext3/pyspark/lib/python3.8/asyncio/tasks.py\", line 695, in _wrap_awaitable\n",
      "    return (yield from awaitable.__await__())\n",
      "  File \"/home/ax2047/.local/lib/python3.8/site-packages/distributed/deploy/spec.py\", line 59, in _\n",
      "    await self.start()\n",
      "  File \"/home/ax2047/.local/lib/python3.8/site-packages/dask_jobqueue/core.py\", line 325, in start\n",
      "    out = await self._submit_job(fn)\n",
      "  File \"/home/ax2047/.local/lib/python3.8/site-packages/dask_jobqueue/core.py\", line 308, in _submit_job\n",
      "    return self._call(shlex.split(self.submit_command) + [script_filename])\n",
      "  File \"/home/ax2047/.local/lib/python3.8/site-packages/dask_jobqueue/core.py\", line 395, in _call\n",
      "    proc = subprocess.Popen(\n",
      "  File \"/ext3/pyspark/lib/python3.8/subprocess.py\", line 858, in __init__\n",
      "    self._execute_child(args, executable, preexec_fn, close_fds,\n",
      "  File \"/ext3/pyspark/lib/python3.8/subprocess.py\", line 1704, in _execute_child\n",
      "    raise child_exception_type(errno_num, err_msg, err_filename)\n",
      "FileNotFoundError: [Errno 2] No such file or directory: 'sbatch'\n",
      "Task exception was never retrieved\n",
      "future: <Task finished name='Task-82' coro=<_wrap_awaitable() done, defined at /ext3/pyspark/lib/python3.8/asyncio/tasks.py:688> exception=FileNotFoundError(2, 'No such file or directory')>\n",
      "Traceback (most recent call last):\n",
      "  File \"/ext3/pyspark/lib/python3.8/asyncio/tasks.py\", line 695, in _wrap_awaitable\n",
      "    return (yield from awaitable.__await__())\n",
      "  File \"/home/ax2047/.local/lib/python3.8/site-packages/distributed/deploy/spec.py\", line 59, in _\n",
      "    await self.start()\n",
      "  File \"/home/ax2047/.local/lib/python3.8/site-packages/dask_jobqueue/core.py\", line 325, in start\n",
      "    out = await self._submit_job(fn)\n",
      "  File \"/home/ax2047/.local/lib/python3.8/site-packages/dask_jobqueue/core.py\", line 308, in _submit_job\n",
      "    return self._call(shlex.split(self.submit_command) + [script_filename])\n",
      "  File \"/home/ax2047/.local/lib/python3.8/site-packages/dask_jobqueue/core.py\", line 395, in _call\n",
      "    proc = subprocess.Popen(\n",
      "  File \"/ext3/pyspark/lib/python3.8/subprocess.py\", line 858, in __init__\n",
      "    self._execute_child(args, executable, preexec_fn, close_fds,\n",
      "  File \"/ext3/pyspark/lib/python3.8/subprocess.py\", line 1704, in _execute_child\n",
      "    raise child_exception_type(errno_num, err_msg, err_filename)\n",
      "FileNotFoundError: [Errno 2] No such file or directory: 'sbatch'\n",
      "Task exception was never retrieved\n",
      "future: <Task finished name='Task-111' coro=<_wrap_awaitable() done, defined at /ext3/pyspark/lib/python3.8/asyncio/tasks.py:688> exception=FileNotFoundError(2, 'No such file or directory')>\n",
      "Traceback (most recent call last):\n",
      "  File \"/ext3/pyspark/lib/python3.8/asyncio/tasks.py\", line 695, in _wrap_awaitable\n",
      "    return (yield from awaitable.__await__())\n",
      "  File \"/home/ax2047/.local/lib/python3.8/site-packages/distributed/deploy/spec.py\", line 59, in _\n",
      "    await self.start()\n",
      "  File \"/home/ax2047/.local/lib/python3.8/site-packages/dask_jobqueue/core.py\", line 325, in start\n",
      "    out = await self._submit_job(fn)\n",
      "  File \"/home/ax2047/.local/lib/python3.8/site-packages/dask_jobqueue/core.py\", line 308, in _submit_job\n",
      "    return self._call(shlex.split(self.submit_command) + [script_filename])\n",
      "  File \"/home/ax2047/.local/lib/python3.8/site-packages/dask_jobqueue/core.py\", line 395, in _call\n",
      "    proc = subprocess.Popen(\n",
      "  File \"/ext3/pyspark/lib/python3.8/subprocess.py\", line 858, in __init__\n",
      "    self._execute_child(args, executable, preexec_fn, close_fds,\n",
      "  File \"/ext3/pyspark/lib/python3.8/subprocess.py\", line 1704, in _execute_child\n",
      "    raise child_exception_type(errno_num, err_msg, err_filename)\n",
      "FileNotFoundError: [Errno 2] No such file or directory: 'sbatch'\n",
      "Task exception was never retrieved\n",
      "future: <Task finished name='Task-81' coro=<_wrap_awaitable() done, defined at /ext3/pyspark/lib/python3.8/asyncio/tasks.py:688> exception=FileNotFoundError(2, 'No such file or directory')>\n",
      "Traceback (most recent call last):\n",
      "  File \"/ext3/pyspark/lib/python3.8/asyncio/tasks.py\", line 695, in _wrap_awaitable\n",
      "    return (yield from awaitable.__await__())\n",
      "  File \"/home/ax2047/.local/lib/python3.8/site-packages/distributed/deploy/spec.py\", line 59, in _\n",
      "    await self.start()\n",
      "  File \"/home/ax2047/.local/lib/python3.8/site-packages/dask_jobqueue/core.py\", line 325, in start\n",
      "    out = await self._submit_job(fn)\n",
      "  File \"/home/ax2047/.local/lib/python3.8/site-packages/dask_jobqueue/core.py\", line 308, in _submit_job\n",
      "    return self._call(shlex.split(self.submit_command) + [script_filename])\n",
      "  File \"/home/ax2047/.local/lib/python3.8/site-packages/dask_jobqueue/core.py\", line 395, in _call\n",
      "    proc = subprocess.Popen(\n",
      "  File \"/ext3/pyspark/lib/python3.8/subprocess.py\", line 858, in __init__\n",
      "    self._execute_child(args, executable, preexec_fn, close_fds,\n",
      "  File \"/ext3/pyspark/lib/python3.8/subprocess.py\", line 1704, in _execute_child\n",
      "    raise child_exception_type(errno_num, err_msg, err_filename)\n",
      "FileNotFoundError: [Errno 2] No such file or directory: 'sbatch'\n",
      "Task exception was never retrieved\n",
      "future: <Task finished name='Task-98' coro=<_wrap_awaitable() done, defined at /ext3/pyspark/lib/python3.8/asyncio/tasks.py:688> exception=FileNotFoundError(2, 'No such file or directory')>\n",
      "Traceback (most recent call last):\n",
      "  File \"/ext3/pyspark/lib/python3.8/asyncio/tasks.py\", line 695, in _wrap_awaitable\n",
      "    return (yield from awaitable.__await__())\n",
      "  File \"/home/ax2047/.local/lib/python3.8/site-packages/distributed/deploy/spec.py\", line 59, in _\n",
      "    await self.start()\n",
      "  File \"/home/ax2047/.local/lib/python3.8/site-packages/dask_jobqueue/core.py\", line 325, in start\n",
      "    out = await self._submit_job(fn)\n",
      "  File \"/home/ax2047/.local/lib/python3.8/site-packages/dask_jobqueue/core.py\", line 308, in _submit_job\n",
      "    return self._call(shlex.split(self.submit_command) + [script_filename])\n",
      "  File \"/home/ax2047/.local/lib/python3.8/site-packages/dask_jobqueue/core.py\", line 395, in _call\n",
      "    proc = subprocess.Popen(\n",
      "  File \"/ext3/pyspark/lib/python3.8/subprocess.py\", line 858, in __init__\n",
      "    self._execute_child(args, executable, preexec_fn, close_fds,\n",
      "  File \"/ext3/pyspark/lib/python3.8/subprocess.py\", line 1704, in _execute_child\n",
      "    raise child_exception_type(errno_num, err_msg, err_filename)\n",
      "FileNotFoundError: [Errno 2] No such file or directory: 'sbatch'\n",
      "Task exception was never retrieved\n",
      "future: <Task finished name='Task-80' coro=<_wrap_awaitable() done, defined at /ext3/pyspark/lib/python3.8/asyncio/tasks.py:688> exception=FileNotFoundError(2, 'No such file or directory')>\n",
      "Traceback (most recent call last):\n",
      "  File \"/ext3/pyspark/lib/python3.8/asyncio/tasks.py\", line 695, in _wrap_awaitable\n",
      "    return (yield from awaitable.__await__())\n",
      "  File \"/home/ax2047/.local/lib/python3.8/site-packages/distributed/deploy/spec.py\", line 59, in _\n",
      "    await self.start()\n",
      "  File \"/home/ax2047/.local/lib/python3.8/site-packages/dask_jobqueue/core.py\", line 325, in start\n",
      "    out = await self._submit_job(fn)\n",
      "  File \"/home/ax2047/.local/lib/python3.8/site-packages/dask_jobqueue/core.py\", line 308, in _submit_job\n",
      "    return self._call(shlex.split(self.submit_command) + [script_filename])\n",
      "  File \"/home/ax2047/.local/lib/python3.8/site-packages/dask_jobqueue/core.py\", line 395, in _call\n",
      "    proc = subprocess.Popen(\n",
      "  File \"/ext3/pyspark/lib/python3.8/subprocess.py\", line 858, in __init__\n",
      "    self._execute_child(args, executable, preexec_fn, close_fds,\n",
      "  File \"/ext3/pyspark/lib/python3.8/subprocess.py\", line 1704, in _execute_child\n",
      "    raise child_exception_type(errno_num, err_msg, err_filename)\n",
      "FileNotFoundError: [Errno 2] No such file or directory: 'sbatch'\n",
      "Task exception was never retrieved\n",
      "future: <Task finished name='Task-112' coro=<_wrap_awaitable() done, defined at /ext3/pyspark/lib/python3.8/asyncio/tasks.py:688> exception=FileNotFoundError(2, 'No such file or directory')>\n",
      "Traceback (most recent call last):\n",
      "  File \"/ext3/pyspark/lib/python3.8/asyncio/tasks.py\", line 695, in _wrap_awaitable\n",
      "    return (yield from awaitable.__await__())\n",
      "  File \"/home/ax2047/.local/lib/python3.8/site-packages/distributed/deploy/spec.py\", line 59, in _\n",
      "    await self.start()\n",
      "  File \"/home/ax2047/.local/lib/python3.8/site-packages/dask_jobqueue/core.py\", line 325, in start\n",
      "    out = await self._submit_job(fn)\n",
      "  File \"/home/ax2047/.local/lib/python3.8/site-packages/dask_jobqueue/core.py\", line 308, in _submit_job\n",
      "    return self._call(shlex.split(self.submit_command) + [script_filename])\n",
      "  File \"/home/ax2047/.local/lib/python3.8/site-packages/dask_jobqueue/core.py\", line 395, in _call\n",
      "    proc = subprocess.Popen(\n",
      "  File \"/ext3/pyspark/lib/python3.8/subprocess.py\", line 858, in __init__\n",
      "    self._execute_child(args, executable, preexec_fn, close_fds,\n",
      "  File \"/ext3/pyspark/lib/python3.8/subprocess.py\", line 1704, in _execute_child\n",
      "    raise child_exception_type(errno_num, err_msg, err_filename)\n",
      "FileNotFoundError: [Errno 2] No such file or directory: 'sbatch'\n",
      "Task exception was never retrieved\n",
      "future: <Task finished name='Task-79' coro=<_wrap_awaitable() done, defined at /ext3/pyspark/lib/python3.8/asyncio/tasks.py:688> exception=FileNotFoundError(2, 'No such file or directory')>\n",
      "Traceback (most recent call last):\n",
      "  File \"/ext3/pyspark/lib/python3.8/asyncio/tasks.py\", line 695, in _wrap_awaitable\n",
      "    return (yield from awaitable.__await__())\n",
      "  File \"/home/ax2047/.local/lib/python3.8/site-packages/distributed/deploy/spec.py\", line 59, in _\n",
      "    await self.start()\n",
      "  File \"/home/ax2047/.local/lib/python3.8/site-packages/dask_jobqueue/core.py\", line 325, in start\n",
      "    out = await self._submit_job(fn)\n",
      "  File \"/home/ax2047/.local/lib/python3.8/site-packages/dask_jobqueue/core.py\", line 308, in _submit_job\n",
      "    return self._call(shlex.split(self.submit_command) + [script_filename])\n",
      "  File \"/home/ax2047/.local/lib/python3.8/site-packages/dask_jobqueue/core.py\", line 395, in _call\n",
      "    proc = subprocess.Popen(\n",
      "  File \"/ext3/pyspark/lib/python3.8/subprocess.py\", line 858, in __init__\n",
      "    self._execute_child(args, executable, preexec_fn, close_fds,\n",
      "  File \"/ext3/pyspark/lib/python3.8/subprocess.py\", line 1704, in _execute_child\n",
      "    raise child_exception_type(errno_num, err_msg, err_filename)\n",
      "FileNotFoundError: [Errno 2] No such file or directory: 'sbatch'\n",
      "Task exception was never retrieved\n",
      "future: <Task finished name='Task-99' coro=<_wrap_awaitable() done, defined at /ext3/pyspark/lib/python3.8/asyncio/tasks.py:688> exception=FileNotFoundError(2, 'No such file or directory')>\n",
      "Traceback (most recent call last):\n",
      "  File \"/ext3/pyspark/lib/python3.8/asyncio/tasks.py\", line 695, in _wrap_awaitable\n",
      "    return (yield from awaitable.__await__())\n",
      "  File \"/home/ax2047/.local/lib/python3.8/site-packages/distributed/deploy/spec.py\", line 59, in _\n",
      "    await self.start()\n",
      "  File \"/home/ax2047/.local/lib/python3.8/site-packages/dask_jobqueue/core.py\", line 325, in start\n",
      "    out = await self._submit_job(fn)\n",
      "  File \"/home/ax2047/.local/lib/python3.8/site-packages/dask_jobqueue/core.py\", line 308, in _submit_job\n",
      "    return self._call(shlex.split(self.submit_command) + [script_filename])\n",
      "  File \"/home/ax2047/.local/lib/python3.8/site-packages/dask_jobqueue/core.py\", line 395, in _call\n",
      "    proc = subprocess.Popen(\n",
      "  File \"/ext3/pyspark/lib/python3.8/subprocess.py\", line 858, in __init__\n",
      "    self._execute_child(args, executable, preexec_fn, close_fds,\n",
      "  File \"/ext3/pyspark/lib/python3.8/subprocess.py\", line 1704, in _execute_child\n",
      "    raise child_exception_type(errno_num, err_msg, err_filename)\n",
      "FileNotFoundError: [Errno 2] No such file or directory: 'sbatch'\n",
      "Task exception was never retrieved\n",
      "future: <Task finished name='Task-78' coro=<_wrap_awaitable() done, defined at /ext3/pyspark/lib/python3.8/asyncio/tasks.py:688> exception=FileNotFoundError(2, 'No such file or directory')>\n",
      "Traceback (most recent call last):\n",
      "  File \"/ext3/pyspark/lib/python3.8/asyncio/tasks.py\", line 695, in _wrap_awaitable\n",
      "    return (yield from awaitable.__await__())\n",
      "  File \"/home/ax2047/.local/lib/python3.8/site-packages/distributed/deploy/spec.py\", line 59, in _\n",
      "    await self.start()\n",
      "  File \"/home/ax2047/.local/lib/python3.8/site-packages/dask_jobqueue/core.py\", line 325, in start\n",
      "    out = await self._submit_job(fn)\n",
      "  File \"/home/ax2047/.local/lib/python3.8/site-packages/dask_jobqueue/core.py\", line 308, in _submit_job\n",
      "    return self._call(shlex.split(self.submit_command) + [script_filename])\n",
      "  File \"/home/ax2047/.local/lib/python3.8/site-packages/dask_jobqueue/core.py\", line 395, in _call\n",
      "    proc = subprocess.Popen(\n",
      "  File \"/ext3/pyspark/lib/python3.8/subprocess.py\", line 858, in __init__\n",
      "    self._execute_child(args, executable, preexec_fn, close_fds,\n",
      "  File \"/ext3/pyspark/lib/python3.8/subprocess.py\", line 1704, in _execute_child\n",
      "    raise child_exception_type(errno_num, err_msg, err_filename)\n",
      "FileNotFoundError: [Errno 2] No such file or directory: 'sbatch'\n",
      "Task exception was never retrieved\n",
      "future: <Task finished name='Task-113' coro=<_wrap_awaitable() done, defined at /ext3/pyspark/lib/python3.8/asyncio/tasks.py:688> exception=FileNotFoundError(2, 'No such file or directory')>\n",
      "Traceback (most recent call last):\n",
      "  File \"/ext3/pyspark/lib/python3.8/asyncio/tasks.py\", line 695, in _wrap_awaitable\n",
      "    return (yield from awaitable.__await__())\n",
      "  File \"/home/ax2047/.local/lib/python3.8/site-packages/distributed/deploy/spec.py\", line 59, in _\n",
      "    await self.start()\n",
      "  File \"/home/ax2047/.local/lib/python3.8/site-packages/dask_jobqueue/core.py\", line 325, in start\n",
      "    out = await self._submit_job(fn)\n",
      "  File \"/home/ax2047/.local/lib/python3.8/site-packages/dask_jobqueue/core.py\", line 308, in _submit_job\n",
      "    return self._call(shlex.split(self.submit_command) + [script_filename])\n",
      "  File \"/home/ax2047/.local/lib/python3.8/site-packages/dask_jobqueue/core.py\", line 395, in _call\n",
      "    proc = subprocess.Popen(\n",
      "  File \"/ext3/pyspark/lib/python3.8/subprocess.py\", line 858, in __init__\n",
      "    self._execute_child(args, executable, preexec_fn, close_fds,\n",
      "  File \"/ext3/pyspark/lib/python3.8/subprocess.py\", line 1704, in _execute_child\n",
      "    raise child_exception_type(errno_num, err_msg, err_filename)\n",
      "FileNotFoundError: [Errno 2] No such file or directory: 'sbatch'\n",
      "Task exception was never retrieved\n",
      "future: <Task finished name='Task-77' coro=<_wrap_awaitable() done, defined at /ext3/pyspark/lib/python3.8/asyncio/tasks.py:688> exception=FileNotFoundError(2, 'No such file or directory')>\n",
      "Traceback (most recent call last):\n",
      "  File \"/ext3/pyspark/lib/python3.8/asyncio/tasks.py\", line 695, in _wrap_awaitable\n",
      "    return (yield from awaitable.__await__())\n",
      "  File \"/home/ax2047/.local/lib/python3.8/site-packages/distributed/deploy/spec.py\", line 59, in _\n",
      "    await self.start()\n",
      "  File \"/home/ax2047/.local/lib/python3.8/site-packages/dask_jobqueue/core.py\", line 325, in start\n",
      "    out = await self._submit_job(fn)\n",
      "  File \"/home/ax2047/.local/lib/python3.8/site-packages/dask_jobqueue/core.py\", line 308, in _submit_job\n",
      "    return self._call(shlex.split(self.submit_command) + [script_filename])\n",
      "  File \"/home/ax2047/.local/lib/python3.8/site-packages/dask_jobqueue/core.py\", line 395, in _call\n",
      "    proc = subprocess.Popen(\n",
      "  File \"/ext3/pyspark/lib/python3.8/subprocess.py\", line 858, in __init__\n",
      "    self._execute_child(args, executable, preexec_fn, close_fds,\n",
      "  File \"/ext3/pyspark/lib/python3.8/subprocess.py\", line 1704, in _execute_child\n",
      "    raise child_exception_type(errno_num, err_msg, err_filename)\n",
      "FileNotFoundError: [Errno 2] No such file or directory: 'sbatch'\n",
      "Task exception was never retrieved\n",
      "future: <Task finished name='Task-100' coro=<_wrap_awaitable() done, defined at /ext3/pyspark/lib/python3.8/asyncio/tasks.py:688> exception=FileNotFoundError(2, 'No such file or directory')>\n",
      "Traceback (most recent call last):\n",
      "  File \"/ext3/pyspark/lib/python3.8/asyncio/tasks.py\", line 695, in _wrap_awaitable\n",
      "    return (yield from awaitable.__await__())\n",
      "  File \"/home/ax2047/.local/lib/python3.8/site-packages/distributed/deploy/spec.py\", line 59, in _\n",
      "    await self.start()\n",
      "  File \"/home/ax2047/.local/lib/python3.8/site-packages/dask_jobqueue/core.py\", line 325, in start\n",
      "    out = await self._submit_job(fn)\n",
      "  File \"/home/ax2047/.local/lib/python3.8/site-packages/dask_jobqueue/core.py\", line 308, in _submit_job\n",
      "    return self._call(shlex.split(self.submit_command) + [script_filename])\n",
      "  File \"/home/ax2047/.local/lib/python3.8/site-packages/dask_jobqueue/core.py\", line 395, in _call\n",
      "    proc = subprocess.Popen(\n",
      "  File \"/ext3/pyspark/lib/python3.8/subprocess.py\", line 858, in __init__\n",
      "    self._execute_child(args, executable, preexec_fn, close_fds,\n",
      "  File \"/ext3/pyspark/lib/python3.8/subprocess.py\", line 1704, in _execute_child\n",
      "    raise child_exception_type(errno_num, err_msg, err_filename)\n",
      "FileNotFoundError: [Errno 2] No such file or directory: 'sbatch'\n",
      "Task exception was never retrieved\n",
      "future: <Task finished name='Task-76' coro=<_wrap_awaitable() done, defined at /ext3/pyspark/lib/python3.8/asyncio/tasks.py:688> exception=FileNotFoundError(2, 'No such file or directory')>\n",
      "Traceback (most recent call last):\n",
      "  File \"/ext3/pyspark/lib/python3.8/asyncio/tasks.py\", line 695, in _wrap_awaitable\n",
      "    return (yield from awaitable.__await__())\n",
      "  File \"/home/ax2047/.local/lib/python3.8/site-packages/distributed/deploy/spec.py\", line 59, in _\n",
      "    await self.start()\n",
      "  File \"/home/ax2047/.local/lib/python3.8/site-packages/dask_jobqueue/core.py\", line 325, in start\n",
      "    out = await self._submit_job(fn)\n",
      "  File \"/home/ax2047/.local/lib/python3.8/site-packages/dask_jobqueue/core.py\", line 308, in _submit_job\n",
      "    return self._call(shlex.split(self.submit_command) + [script_filename])\n",
      "  File \"/home/ax2047/.local/lib/python3.8/site-packages/dask_jobqueue/core.py\", line 395, in _call\n",
      "    proc = subprocess.Popen(\n",
      "  File \"/ext3/pyspark/lib/python3.8/subprocess.py\", line 858, in __init__\n",
      "    self._execute_child(args, executable, preexec_fn, close_fds,\n",
      "  File \"/ext3/pyspark/lib/python3.8/subprocess.py\", line 1704, in _execute_child\n",
      "    raise child_exception_type(errno_num, err_msg, err_filename)\n",
      "FileNotFoundError: [Errno 2] No such file or directory: 'sbatch'\n",
      "Task exception was never retrieved\n",
      "future: <Task finished name='Task-114' coro=<_wrap_awaitable() done, defined at /ext3/pyspark/lib/python3.8/asyncio/tasks.py:688> exception=FileNotFoundError(2, 'No such file or directory')>\n",
      "Traceback (most recent call last):\n",
      "  File \"/ext3/pyspark/lib/python3.8/asyncio/tasks.py\", line 695, in _wrap_awaitable\n",
      "    return (yield from awaitable.__await__())\n",
      "  File \"/home/ax2047/.local/lib/python3.8/site-packages/distributed/deploy/spec.py\", line 59, in _\n",
      "    await self.start()\n",
      "  File \"/home/ax2047/.local/lib/python3.8/site-packages/dask_jobqueue/core.py\", line 325, in start\n",
      "    out = await self._submit_job(fn)\n",
      "  File \"/home/ax2047/.local/lib/python3.8/site-packages/dask_jobqueue/core.py\", line 308, in _submit_job\n",
      "    return self._call(shlex.split(self.submit_command) + [script_filename])\n",
      "  File \"/home/ax2047/.local/lib/python3.8/site-packages/dask_jobqueue/core.py\", line 395, in _call\n",
      "    proc = subprocess.Popen(\n",
      "  File \"/ext3/pyspark/lib/python3.8/subprocess.py\", line 858, in __init__\n",
      "    self._execute_child(args, executable, preexec_fn, close_fds,\n",
      "  File \"/ext3/pyspark/lib/python3.8/subprocess.py\", line 1704, in _execute_child\n",
      "    raise child_exception_type(errno_num, err_msg, err_filename)\n",
      "FileNotFoundError: [Errno 2] No such file or directory: 'sbatch'\n",
      "Task exception was never retrieved\n",
      "future: <Task finished name='Task-75' coro=<_wrap_awaitable() done, defined at /ext3/pyspark/lib/python3.8/asyncio/tasks.py:688> exception=FileNotFoundError(2, 'No such file or directory')>\n",
      "Traceback (most recent call last):\n",
      "  File \"/ext3/pyspark/lib/python3.8/asyncio/tasks.py\", line 695, in _wrap_awaitable\n",
      "    return (yield from awaitable.__await__())\n",
      "  File \"/home/ax2047/.local/lib/python3.8/site-packages/distributed/deploy/spec.py\", line 59, in _\n",
      "    await self.start()\n",
      "  File \"/home/ax2047/.local/lib/python3.8/site-packages/dask_jobqueue/core.py\", line 325, in start\n",
      "    out = await self._submit_job(fn)\n",
      "  File \"/home/ax2047/.local/lib/python3.8/site-packages/dask_jobqueue/core.py\", line 308, in _submit_job\n",
      "    return self._call(shlex.split(self.submit_command) + [script_filename])\n",
      "  File \"/home/ax2047/.local/lib/python3.8/site-packages/dask_jobqueue/core.py\", line 395, in _call\n",
      "    proc = subprocess.Popen(\n",
      "  File \"/ext3/pyspark/lib/python3.8/subprocess.py\", line 858, in __init__\n",
      "    self._execute_child(args, executable, preexec_fn, close_fds,\n",
      "  File \"/ext3/pyspark/lib/python3.8/subprocess.py\", line 1704, in _execute_child\n",
      "    raise child_exception_type(errno_num, err_msg, err_filename)\n",
      "FileNotFoundError: [Errno 2] No such file or directory: 'sbatch'\n",
      "Task exception was never retrieved\n",
      "future: <Task finished name='Task-101' coro=<_wrap_awaitable() done, defined at /ext3/pyspark/lib/python3.8/asyncio/tasks.py:688> exception=FileNotFoundError(2, 'No such file or directory')>\n",
      "Traceback (most recent call last):\n",
      "  File \"/ext3/pyspark/lib/python3.8/asyncio/tasks.py\", line 695, in _wrap_awaitable\n",
      "    return (yield from awaitable.__await__())\n",
      "  File \"/home/ax2047/.local/lib/python3.8/site-packages/distributed/deploy/spec.py\", line 59, in _\n",
      "    await self.start()\n",
      "  File \"/home/ax2047/.local/lib/python3.8/site-packages/dask_jobqueue/core.py\", line 325, in start\n",
      "    out = await self._submit_job(fn)\n",
      "  File \"/home/ax2047/.local/lib/python3.8/site-packages/dask_jobqueue/core.py\", line 308, in _submit_job\n",
      "    return self._call(shlex.split(self.submit_command) + [script_filename])\n",
      "  File \"/home/ax2047/.local/lib/python3.8/site-packages/dask_jobqueue/core.py\", line 395, in _call\n",
      "    proc = subprocess.Popen(\n",
      "  File \"/ext3/pyspark/lib/python3.8/subprocess.py\", line 858, in __init__\n",
      "    self._execute_child(args, executable, preexec_fn, close_fds,\n",
      "  File \"/ext3/pyspark/lib/python3.8/subprocess.py\", line 1704, in _execute_child\n",
      "    raise child_exception_type(errno_num, err_msg, err_filename)\n",
      "FileNotFoundError: [Errno 2] No such file or directory: 'sbatch'\n",
      "Task exception was never retrieved\n",
      "future: <Task finished name='Task-92' coro=<_wrap_awaitable() done, defined at /ext3/pyspark/lib/python3.8/asyncio/tasks.py:688> exception=FileNotFoundError(2, 'No such file or directory')>\n",
      "Traceback (most recent call last):\n",
      "  File \"/ext3/pyspark/lib/python3.8/asyncio/tasks.py\", line 695, in _wrap_awaitable\n",
      "    return (yield from awaitable.__await__())\n",
      "  File \"/home/ax2047/.local/lib/python3.8/site-packages/distributed/deploy/spec.py\", line 59, in _\n",
      "    await self.start()\n",
      "  File \"/home/ax2047/.local/lib/python3.8/site-packages/dask_jobqueue/core.py\", line 325, in start\n",
      "    out = await self._submit_job(fn)\n",
      "  File \"/home/ax2047/.local/lib/python3.8/site-packages/dask_jobqueue/core.py\", line 308, in _submit_job\n",
      "    return self._call(shlex.split(self.submit_command) + [script_filename])\n",
      "  File \"/home/ax2047/.local/lib/python3.8/site-packages/dask_jobqueue/core.py\", line 395, in _call\n",
      "    proc = subprocess.Popen(\n",
      "  File \"/ext3/pyspark/lib/python3.8/subprocess.py\", line 858, in __init__\n",
      "    self._execute_child(args, executable, preexec_fn, close_fds,\n",
      "  File \"/ext3/pyspark/lib/python3.8/subprocess.py\", line 1704, in _execute_child\n",
      "    raise child_exception_type(errno_num, err_msg, err_filename)\n",
      "FileNotFoundError: [Errno 2] No such file or directory: 'sbatch'\n",
      "Task exception was never retrieved\n",
      "future: <Task finished name='Task-74' coro=<_wrap_awaitable() done, defined at /ext3/pyspark/lib/python3.8/asyncio/tasks.py:688> exception=FileNotFoundError(2, 'No such file or directory')>\n",
      "Traceback (most recent call last):\n",
      "  File \"/ext3/pyspark/lib/python3.8/asyncio/tasks.py\", line 695, in _wrap_awaitable\n",
      "    return (yield from awaitable.__await__())\n",
      "  File \"/home/ax2047/.local/lib/python3.8/site-packages/distributed/deploy/spec.py\", line 59, in _\n",
      "    await self.start()\n",
      "  File \"/home/ax2047/.local/lib/python3.8/site-packages/dask_jobqueue/core.py\", line 325, in start\n",
      "    out = await self._submit_job(fn)\n",
      "  File \"/home/ax2047/.local/lib/python3.8/site-packages/dask_jobqueue/core.py\", line 308, in _submit_job\n",
      "    return self._call(shlex.split(self.submit_command) + [script_filename])\n",
      "  File \"/home/ax2047/.local/lib/python3.8/site-packages/dask_jobqueue/core.py\", line 395, in _call\n",
      "    proc = subprocess.Popen(\n",
      "  File \"/ext3/pyspark/lib/python3.8/subprocess.py\", line 858, in __init__\n",
      "    self._execute_child(args, executable, preexec_fn, close_fds,\n",
      "  File \"/ext3/pyspark/lib/python3.8/subprocess.py\", line 1704, in _execute_child\n",
      "    raise child_exception_type(errno_num, err_msg, err_filename)\n",
      "FileNotFoundError: [Errno 2] No such file or directory: 'sbatch'\n",
      "Task exception was never retrieved\n",
      "future: <Task finished name='Task-115' coro=<_wrap_awaitable() done, defined at /ext3/pyspark/lib/python3.8/asyncio/tasks.py:688> exception=FileNotFoundError(2, 'No such file or directory')>\n",
      "Traceback (most recent call last):\n",
      "  File \"/ext3/pyspark/lib/python3.8/asyncio/tasks.py\", line 695, in _wrap_awaitable\n",
      "    return (yield from awaitable.__await__())\n",
      "  File \"/home/ax2047/.local/lib/python3.8/site-packages/distributed/deploy/spec.py\", line 59, in _\n",
      "    await self.start()\n",
      "  File \"/home/ax2047/.local/lib/python3.8/site-packages/dask_jobqueue/core.py\", line 325, in start\n",
      "    out = await self._submit_job(fn)\n",
      "  File \"/home/ax2047/.local/lib/python3.8/site-packages/dask_jobqueue/core.py\", line 308, in _submit_job\n",
      "    return self._call(shlex.split(self.submit_command) + [script_filename])\n",
      "  File \"/home/ax2047/.local/lib/python3.8/site-packages/dask_jobqueue/core.py\", line 395, in _call\n",
      "    proc = subprocess.Popen(\n",
      "  File \"/ext3/pyspark/lib/python3.8/subprocess.py\", line 858, in __init__\n",
      "    self._execute_child(args, executable, preexec_fn, close_fds,\n",
      "  File \"/ext3/pyspark/lib/python3.8/subprocess.py\", line 1704, in _execute_child\n",
      "    raise child_exception_type(errno_num, err_msg, err_filename)\n",
      "FileNotFoundError: [Errno 2] No such file or directory: 'sbatch'\n",
      "Task exception was never retrieved\n",
      "future: <Task finished name='Task-73' coro=<_wrap_awaitable() done, defined at /ext3/pyspark/lib/python3.8/asyncio/tasks.py:688> exception=FileNotFoundError(2, 'No such file or directory')>\n",
      "Traceback (most recent call last):\n",
      "  File \"/ext3/pyspark/lib/python3.8/asyncio/tasks.py\", line 695, in _wrap_awaitable\n",
      "    return (yield from awaitable.__await__())\n",
      "  File \"/home/ax2047/.local/lib/python3.8/site-packages/distributed/deploy/spec.py\", line 59, in _\n",
      "    await self.start()\n",
      "  File \"/home/ax2047/.local/lib/python3.8/site-packages/dask_jobqueue/core.py\", line 325, in start\n",
      "    out = await self._submit_job(fn)\n",
      "  File \"/home/ax2047/.local/lib/python3.8/site-packages/dask_jobqueue/core.py\", line 308, in _submit_job\n",
      "    return self._call(shlex.split(self.submit_command) + [script_filename])\n",
      "  File \"/home/ax2047/.local/lib/python3.8/site-packages/dask_jobqueue/core.py\", line 395, in _call\n",
      "    proc = subprocess.Popen(\n",
      "  File \"/ext3/pyspark/lib/python3.8/subprocess.py\", line 858, in __init__\n",
      "    self._execute_child(args, executable, preexec_fn, close_fds,\n",
      "  File \"/ext3/pyspark/lib/python3.8/subprocess.py\", line 1704, in _execute_child\n",
      "    raise child_exception_type(errno_num, err_msg, err_filename)\n",
      "FileNotFoundError: [Errno 2] No such file or directory: 'sbatch'\n",
      "Task exception was never retrieved\n",
      "future: <Task finished name='Task-103' coro=<_wrap_awaitable() done, defined at /ext3/pyspark/lib/python3.8/asyncio/tasks.py:688> exception=FileNotFoundError(2, 'No such file or directory')>\n",
      "Traceback (most recent call last):\n",
      "  File \"/ext3/pyspark/lib/python3.8/asyncio/tasks.py\", line 695, in _wrap_awaitable\n",
      "    return (yield from awaitable.__await__())\n",
      "  File \"/home/ax2047/.local/lib/python3.8/site-packages/distributed/deploy/spec.py\", line 59, in _\n",
      "    await self.start()\n",
      "  File \"/home/ax2047/.local/lib/python3.8/site-packages/dask_jobqueue/core.py\", line 325, in start\n",
      "    out = await self._submit_job(fn)\n",
      "  File \"/home/ax2047/.local/lib/python3.8/site-packages/dask_jobqueue/core.py\", line 308, in _submit_job\n",
      "    return self._call(shlex.split(self.submit_command) + [script_filename])\n",
      "  File \"/home/ax2047/.local/lib/python3.8/site-packages/dask_jobqueue/core.py\", line 395, in _call\n",
      "    proc = subprocess.Popen(\n",
      "  File \"/ext3/pyspark/lib/python3.8/subprocess.py\", line 858, in __init__\n",
      "    self._execute_child(args, executable, preexec_fn, close_fds,\n",
      "  File \"/ext3/pyspark/lib/python3.8/subprocess.py\", line 1704, in _execute_child\n",
      "    raise child_exception_type(errno_num, err_msg, err_filename)\n",
      "FileNotFoundError: [Errno 2] No such file or directory: 'sbatch'\n",
      "Task exception was never retrieved\n",
      "future: <Task finished name='Task-116' coro=<_wrap_awaitable() done, defined at /ext3/pyspark/lib/python3.8/asyncio/tasks.py:688> exception=FileNotFoundError(2, 'No such file or directory')>\n",
      "Traceback (most recent call last):\n",
      "  File \"/ext3/pyspark/lib/python3.8/asyncio/tasks.py\", line 695, in _wrap_awaitable\n",
      "    return (yield from awaitable.__await__())\n",
      "  File \"/home/ax2047/.local/lib/python3.8/site-packages/distributed/deploy/spec.py\", line 59, in _\n",
      "    await self.start()\n",
      "  File \"/home/ax2047/.local/lib/python3.8/site-packages/dask_jobqueue/core.py\", line 325, in start\n",
      "    out = await self._submit_job(fn)\n",
      "  File \"/home/ax2047/.local/lib/python3.8/site-packages/dask_jobqueue/core.py\", line 308, in _submit_job\n",
      "    return self._call(shlex.split(self.submit_command) + [script_filename])\n",
      "  File \"/home/ax2047/.local/lib/python3.8/site-packages/dask_jobqueue/core.py\", line 395, in _call\n",
      "    proc = subprocess.Popen(\n",
      "  File \"/ext3/pyspark/lib/python3.8/subprocess.py\", line 858, in __init__\n",
      "    self._execute_child(args, executable, preexec_fn, close_fds,\n",
      "  File \"/ext3/pyspark/lib/python3.8/subprocess.py\", line 1704, in _execute_child\n",
      "    raise child_exception_type(errno_num, err_msg, err_filename)\n",
      "FileNotFoundError: [Errno 2] No such file or directory: 'sbatch'\n",
      "Task exception was never retrieved\n",
      "future: <Task finished name='Task-104' coro=<_wrap_awaitable() done, defined at /ext3/pyspark/lib/python3.8/asyncio/tasks.py:688> exception=FileNotFoundError(2, 'No such file or directory')>\n",
      "Traceback (most recent call last):\n",
      "  File \"/ext3/pyspark/lib/python3.8/asyncio/tasks.py\", line 695, in _wrap_awaitable\n",
      "    return (yield from awaitable.__await__())\n",
      "  File \"/home/ax2047/.local/lib/python3.8/site-packages/distributed/deploy/spec.py\", line 59, in _\n",
      "    await self.start()\n",
      "  File \"/home/ax2047/.local/lib/python3.8/site-packages/dask_jobqueue/core.py\", line 325, in start\n",
      "    out = await self._submit_job(fn)\n",
      "  File \"/home/ax2047/.local/lib/python3.8/site-packages/dask_jobqueue/core.py\", line 308, in _submit_job\n",
      "    return self._call(shlex.split(self.submit_command) + [script_filename])\n",
      "  File \"/home/ax2047/.local/lib/python3.8/site-packages/dask_jobqueue/core.py\", line 395, in _call\n",
      "    proc = subprocess.Popen(\n",
      "  File \"/ext3/pyspark/lib/python3.8/subprocess.py\", line 858, in __init__\n",
      "    self._execute_child(args, executable, preexec_fn, close_fds,\n",
      "  File \"/ext3/pyspark/lib/python3.8/subprocess.py\", line 1704, in _execute_child\n",
      "    raise child_exception_type(errno_num, err_msg, err_filename)\n",
      "FileNotFoundError: [Errno 2] No such file or directory: 'sbatch'\n",
      "Task exception was never retrieved\n",
      "future: <Task finished name='Task-117' coro=<_wrap_awaitable() done, defined at /ext3/pyspark/lib/python3.8/asyncio/tasks.py:688> exception=FileNotFoundError(2, 'No such file or directory')>\n",
      "Traceback (most recent call last):\n",
      "  File \"/ext3/pyspark/lib/python3.8/asyncio/tasks.py\", line 695, in _wrap_awaitable\n",
      "    return (yield from awaitable.__await__())\n",
      "  File \"/home/ax2047/.local/lib/python3.8/site-packages/distributed/deploy/spec.py\", line 59, in _\n",
      "    await self.start()\n",
      "  File \"/home/ax2047/.local/lib/python3.8/site-packages/dask_jobqueue/core.py\", line 325, in start\n",
      "    out = await self._submit_job(fn)\n",
      "  File \"/home/ax2047/.local/lib/python3.8/site-packages/dask_jobqueue/core.py\", line 308, in _submit_job\n",
      "    return self._call(shlex.split(self.submit_command) + [script_filename])\n",
      "  File \"/home/ax2047/.local/lib/python3.8/site-packages/dask_jobqueue/core.py\", line 395, in _call\n",
      "    proc = subprocess.Popen(\n",
      "  File \"/ext3/pyspark/lib/python3.8/subprocess.py\", line 858, in __init__\n",
      "    self._execute_child(args, executable, preexec_fn, close_fds,\n",
      "  File \"/ext3/pyspark/lib/python3.8/subprocess.py\", line 1704, in _execute_child\n",
      "    raise child_exception_type(errno_num, err_msg, err_filename)\n",
      "FileNotFoundError: [Errno 2] No such file or directory: 'sbatch'\n"
     ]
    },
    {
     "data": {
      "text/html": [
       "<div>\n",
       "    <div style=\"width: 24px; height: 24px; background-color: #e1e1e1; border: 3px solid #9D9D9D; border-radius: 5px; position: absolute;\"> </div>\n",
       "    <div style=\"margin-left: 48px;\">\n",
       "        <h3 style=\"margin-bottom: 0px;\">Client</h3>\n",
       "        <p style=\"color: #9D9D9D; margin-bottom: 0px;\">Client-88e9fd12-d61b-11ec-9b32-b8599ff11f7c</p>\n",
       "        <table style=\"width: 100%; text-align: left;\">\n",
       "\n",
       "        <tr>\n",
       "        \n",
       "            <td style=\"text-align: left;\"><strong>Connection method:</strong> Cluster object</td>\n",
       "            <td style=\"text-align: left;\"><strong>Cluster type:</strong> dask_jobqueue.SLURMCluster</td>\n",
       "        \n",
       "        </tr>\n",
       "\n",
       "        \n",
       "            <tr>\n",
       "                <td style=\"text-align: left;\">\n",
       "                    <strong>Dashboard: </strong> <a href=\"http://10.32.35.54:8787/status\" target=\"_blank\">http://10.32.35.54:8787/status</a>\n",
       "                </td>\n",
       "                <td style=\"text-align: left;\"></td>\n",
       "            </tr>\n",
       "        \n",
       "\n",
       "        </table>\n",
       "\n",
       "        \n",
       "            <details>\n",
       "            <summary style=\"margin-bottom: 20px;\"><h3 style=\"display: inline;\">Cluster Info</h3></summary>\n",
       "            <div class=\"jp-RenderedHTMLCommon jp-RenderedHTML jp-mod-trusted jp-OutputArea-output\">\n",
       "    <div style=\"width: 24px; height: 24px; background-color: #e1e1e1; border: 3px solid #9D9D9D; border-radius: 5px; position: absolute;\">\n",
       "    </div>\n",
       "    <div style=\"margin-left: 48px;\">\n",
       "        <h3 style=\"margin-bottom: 0px; margin-top: 0px;\">SLURMCluster</h3>\n",
       "        <p style=\"color: #9D9D9D; margin-bottom: 0px;\">7da2823d</p>\n",
       "        <table style=\"width: 100%; text-align: left;\">\n",
       "            <tr>\n",
       "                <td style=\"text-align: left;\">\n",
       "                    <strong>Dashboard:</strong> <a href=\"http://10.32.35.54:8787/status\" target=\"_blank\">http://10.32.35.54:8787/status</a>\n",
       "                </td>\n",
       "                <td style=\"text-align: left;\">\n",
       "                    <strong>Workers:</strong> 0\n",
       "                </td>\n",
       "            </tr>\n",
       "            <tr>\n",
       "                <td style=\"text-align: left;\">\n",
       "                    <strong>Total threads:</strong> 0\n",
       "                </td>\n",
       "                <td style=\"text-align: left;\">\n",
       "                    <strong>Total memory:</strong> 0 B\n",
       "                </td>\n",
       "            </tr>\n",
       "            \n",
       "        </table>\n",
       "\n",
       "        <details>\n",
       "            <summary style=\"margin-bottom: 20px;\">\n",
       "                <h3 style=\"display: inline;\">Scheduler Info</h3>\n",
       "            </summary>\n",
       "\n",
       "            <div style=\"\">\n",
       "    <div>\n",
       "        <div style=\"width: 24px; height: 24px; background-color: #FFF7E5; border: 3px solid #FF6132; border-radius: 5px; position: absolute;\"> </div>\n",
       "        <div style=\"margin-left: 48px;\">\n",
       "            <h3 style=\"margin-bottom: 0px;\">Scheduler</h3>\n",
       "            <p style=\"color: #9D9D9D; margin-bottom: 0px;\">Scheduler-93067628-e498-4059-bfd6-655df401e61c</p>\n",
       "            <table style=\"width: 100%; text-align: left;\">\n",
       "                <tr>\n",
       "                    <td style=\"text-align: left;\">\n",
       "                        <strong>Comm:</strong> tcp://10.32.35.54:33281\n",
       "                    </td>\n",
       "                    <td style=\"text-align: left;\">\n",
       "                        <strong>Workers:</strong> 0\n",
       "                    </td>\n",
       "                </tr>\n",
       "                <tr>\n",
       "                    <td style=\"text-align: left;\">\n",
       "                        <strong>Dashboard:</strong> <a href=\"http://10.32.35.54:8787/status\" target=\"_blank\">http://10.32.35.54:8787/status</a>\n",
       "                    </td>\n",
       "                    <td style=\"text-align: left;\">\n",
       "                        <strong>Total threads:</strong> 0\n",
       "                    </td>\n",
       "                </tr>\n",
       "                <tr>\n",
       "                    <td style=\"text-align: left;\">\n",
       "                        <strong>Started:</strong> Just now\n",
       "                    </td>\n",
       "                    <td style=\"text-align: left;\">\n",
       "                        <strong>Total memory:</strong> 0 B\n",
       "                    </td>\n",
       "                </tr>\n",
       "            </table>\n",
       "        </div>\n",
       "    </div>\n",
       "\n",
       "    <details style=\"margin-left: 48px;\">\n",
       "        <summary style=\"margin-bottom: 20px;\">\n",
       "            <h3 style=\"display: inline;\">Workers</h3>\n",
       "        </summary>\n",
       "\n",
       "        \n",
       "\n",
       "    </details>\n",
       "</div>\n",
       "\n",
       "        </details>\n",
       "    </div>\n",
       "</div>\n",
       "            </details>\n",
       "        \n",
       "\n",
       "    </div>\n",
       "</div>"
      ],
      "text/plain": [
       "<Client: 'tcp://10.32.35.54:33281' processes=0 threads=0, memory=0 B>"
      ]
     },
     "metadata": {},
     "output_type": "display_data"
    }
   ],
   "source": [
    "# Set LOCAL to True for single-machine execution while developing\n",
    "# Set LOCAL to False for cluster execution\n",
    "\n",
    "LOCAL = False\n",
    "\n",
    "if LOCAL:\n",
    "    # This line creates a single-machine dask client\n",
    "    client = Client()\n",
    "else:    \n",
    "    # This line creates a SLURM cluster dask and dask client\n",
    "    # Logging outputs will be stored in /scratch/{your-netid}\n",
    "    \n",
    "    cluster = SLURMCluster(memory='4GB', cores=2, python='/scratch/work/public/dask/bin/python', \n",
    "                               local_directory='/tmp/{}/'.format(os.environ['SLURM_JOB_USER']),\n",
    "                               job_extra=['--output=/scratch/{}/slurm-%j.out'.format(os.environ['SLURM_JOB_USER'])])\n",
    "\n",
    "    cluster.submit_command = 'slurm'\n",
    "    cluster.scale(100)\n",
    "\n",
    "    display(cluster)\n",
    "    client = Client(cluster)\n",
    "\n",
    "display(client)"
   ]
  },
  {
   "cell_type": "code",
   "execution_count": 36,
   "metadata": {},
   "outputs": [
    {
     "name": "stderr",
     "output_type": "stream",
     "text": [
      "                                                                                \r"
     ]
    },
    {
     "name": "stdout",
     "output_type": "stream",
     "text": [
      "For rank 4 and regParam 0.01 the RMSE is 1.0016021771316816\n"
     ]
    },
    {
     "name": "stderr",
     "output_type": "stream",
     "text": [
      "                                                                                \r"
     ]
    },
    {
     "name": "stdout",
     "output_type": "stream",
     "text": [
      "For rank 5 and regParam 0.01 the RMSE is 1.0301192935235441\n"
     ]
    },
    {
     "name": "stderr",
     "output_type": "stream",
     "text": [
      "                                                                                \r"
     ]
    },
    {
     "name": "stdout",
     "output_type": "stream",
     "text": [
      "For rank 6 and regParam 0.01 the RMSE is 1.0311335725565325\n"
     ]
    },
    {
     "name": "stderr",
     "output_type": "stream",
     "text": [
      "                                                                                \r"
     ]
    },
    {
     "name": "stdout",
     "output_type": "stream",
     "text": [
      "For rank 7 and regParam 0.01 the RMSE is 1.0294362722679846\n"
     ]
    },
    {
     "name": "stderr",
     "output_type": "stream",
     "text": [
      "                                                                                \r"
     ]
    },
    {
     "name": "stdout",
     "output_type": "stream",
     "text": [
      "For rank 8 and regParam 0.01 the RMSE is 1.0552924507643928\n"
     ]
    },
    {
     "name": "stderr",
     "output_type": "stream",
     "text": [
      "                                                                                \r"
     ]
    },
    {
     "name": "stdout",
     "output_type": "stream",
     "text": [
      "For rank 9 and regParam 0.01 the RMSE is 1.050572920701859\n"
     ]
    },
    {
     "name": "stderr",
     "output_type": "stream",
     "text": [
      "                                                                                \r"
     ]
    },
    {
     "name": "stdout",
     "output_type": "stream",
     "text": [
      "For rank 10 and regParam 0.01 the RMSE is 1.0572207828299283\n"
     ]
    },
    {
     "name": "stderr",
     "output_type": "stream",
     "text": [
      "                                                                                \r"
     ]
    },
    {
     "name": "stdout",
     "output_type": "stream",
     "text": [
      "For rank 11 and regParam 0.01 the RMSE is 1.0684831042429928\n"
     ]
    },
    {
     "name": "stderr",
     "output_type": "stream",
     "text": [
      "                                                                                \r"
     ]
    },
    {
     "name": "stdout",
     "output_type": "stream",
     "text": [
      "For rank 4 and regParam 0.1 the RMSE is 0.8958442506792226\n"
     ]
    },
    {
     "name": "stderr",
     "output_type": "stream",
     "text": [
      "[Stage 2524:=========================================>         (162 + 10) / 200]\r"
     ]
    },
    {
     "name": "stdout",
     "output_type": "stream",
     "text": [
      "For rank 5 and regParam 0.1 the RMSE is 0.8980626194176089\n"
     ]
    },
    {
     "name": "stderr",
     "output_type": "stream",
     "text": [
      "                                                                                \r"
     ]
    },
    {
     "name": "stdout",
     "output_type": "stream",
     "text": [
      "For rank 6 and regParam 0.1 the RMSE is 0.9013573999739966\n"
     ]
    },
    {
     "name": "stderr",
     "output_type": "stream",
     "text": [
      "                                                                                \r"
     ]
    },
    {
     "name": "stdout",
     "output_type": "stream",
     "text": [
      "For rank 7 and regParam 0.1 the RMSE is 0.8964614013038112\n"
     ]
    },
    {
     "name": "stderr",
     "output_type": "stream",
     "text": [
      "                                                                                \r"
     ]
    },
    {
     "name": "stdout",
     "output_type": "stream",
     "text": [
      "For rank 8 and regParam 0.1 the RMSE is 0.89590571096802\n"
     ]
    },
    {
     "name": "stderr",
     "output_type": "stream",
     "text": [
      "                                                                                \r"
     ]
    },
    {
     "name": "stdout",
     "output_type": "stream",
     "text": [
      "For rank 9 and regParam 0.1 the RMSE is 0.9013159052706686\n"
     ]
    },
    {
     "name": "stderr",
     "output_type": "stream",
     "text": [
      "                                                                                \r"
     ]
    },
    {
     "name": "stdout",
     "output_type": "stream",
     "text": [
      "For rank 10 and regParam 0.1 the RMSE is 0.8987670363474984\n"
     ]
    },
    {
     "name": "stderr",
     "output_type": "stream",
     "text": [
      "[Stage 3023:========================================>          (158 + 11) / 200]\r"
     ]
    },
    {
     "name": "stdout",
     "output_type": "stream",
     "text": [
      "For rank 11 and regParam 0.1 the RMSE is 0.9003057135286106\n",
      "The best model was trained with rank 4 and regParam 0.1\n",
      "CPU times: user 1.34 s, sys: 738 ms, total: 2.07 s\n",
      "Wall time: 56.8 s\n"
     ]
    },
    {
     "name": "stderr",
     "output_type": "stream",
     "text": [
      "                                                                                \r"
     ]
    }
   ],
   "source": [
    "%%time\n",
    "ranks = range(4, 12)\n",
    "regParam = [0.01, 0.1]\n",
    "errors = []\n",
    "min_error = float('inf')\n",
    "for param in regParam:\n",
    "    for rank in ranks:\n",
    "        \n",
    "        tempALS = ALS(maxIter=10, rank=rank, regParam=param, nonnegative=True,\n",
    "              userCol='userId', itemCol='movieId', ratingCol='rating',\n",
    "              coldStartStrategy='drop', implicitPrefs=False, seed=SEED)\n",
    "\n",
    "        model = tempALS.fit(training_df)\n",
    "        \n",
    "        predictions = model.transform(validation_df)\n",
    "        #best_model.recommendForUserSubset(100) \n",
    "        evaluator = RegressionEvaluator(metricName='rmse', labelCol='rating',\n",
    "                                predictionCol='prediction')\n",
    "        rmse = evaluator.evaluate(predictions)\n",
    "        errors.append(rmse)\n",
    "        print ('For rank {0} and regParam {1} the RMSE is {2}'.format (rank, param, rmse))\n",
    "        \n",
    "        if rmse < min_error:\n",
    "            min_error = rmse\n",
    "            best_rank = rank\n",
    "            best_regParam = param\n",
    "            best_model = model\n",
    "        \n",
    "print ('The best model was trained with rank {0} and regParam {1}'.format(best_rank, best_regParam))\n",
    "    \n",
    "\n"
   ]
  },
  {
   "cell_type": "code",
   "execution_count": 37,
   "metadata": {},
   "outputs": [
    {
     "name": "stdout",
     "output_type": "stream",
     "text": [
      "CPU times: user 1.85 ms, sys: 2.9 ms, total: 4.75 ms\n",
      "Wall time: 65.3 ms\n"
     ]
    },
    {
     "name": "stderr",
     "output_type": "stream",
     "text": [
      "/home/ax2047/.local/lib/python3.8/site-packages/pyspark/sql/context.py:125: FutureWarning: Deprecated in 3.0.0. Use SparkSession.builder.getOrCreate() instead.\n",
      "  warnings.warn(\n"
     ]
    }
   ],
   "source": [
    "%%time\n",
    "resultsALS = best_model.recommendForAllUsers(100)\n",
    "\n",
    "resultsALS = resultsALS.withColumn('recommendations',\n",
    "              udf_format_recommendations(F.col(\"recommendations\"))) \\\n",
    "              .toDF('userId', 'predictions')"
   ]
  },
  {
   "cell_type": "code",
   "execution_count": 38,
   "metadata": {},
   "outputs": [
    {
     "name": "stderr",
     "output_type": "stream",
     "text": [
      "[Stage 3050:===============================================>   (186 + 10) / 200]\r"
     ]
    },
    {
     "name": "stdout",
     "output_type": "stream",
     "text": [
      "+------+--------------------+\n",
      "|userId|         predictions|\n",
      "+------+--------------------+\n",
      "|   148|[6433, 86377, 177...|\n",
      "|   463|[177593, 3819, 64...|\n",
      "|   471|[6818, 148881, 35...|\n",
      "|   496|[5485, 7121, 2632...|\n",
      "|   540|[177593, 3030, 84...|\n",
      "+------+--------------------+\n",
      "\n",
      "CPU times: user 56.7 ms, sys: 24.6 ms, total: 81.2 ms\n",
      "Wall time: 2.1 s\n"
     ]
    },
    {
     "name": "stderr",
     "output_type": "stream",
     "text": [
      "                                                                                \r"
     ]
    }
   ],
   "source": [
    "%%time\n",
    "resultsALS.limit(5).orderBy('userId').show(5)"
   ]
  },
  {
   "cell_type": "code",
   "execution_count": 39,
   "metadata": {},
   "outputs": [
    {
     "name": "stdout",
     "output_type": "stream",
     "text": [
      "CPU times: user 2.6 ms, sys: 1.65 ms, total: 4.26 ms\n",
      "Wall time: 38.4 ms\n"
     ]
    }
   ],
   "source": [
    "%%time\n",
    "# Most frequently recommended movies\n",
    "resultsALSExpanded = resultsALS \\\n",
    "                        .withColumn(\"movieId\", F.explode(\"predictions\")) \\\n",
    "                        .drop('predictions') \\\n",
    "                        .join(dfMovies, \"movieId\")\n",
    "\n",
    "MostRecommendedMoviesForAllUsers = resultsALSExpanded.groupby([\"movieId\", \"title\"]).agg({'userId':'count'})\n",
    "MostRecommendedMoviesForAllUsers = MostRecommendedMoviesForAllUsers.sort(['count(userId)'], ascending=False)"
   ]
  },
  {
   "cell_type": "code",
   "execution_count": 40,
   "metadata": {},
   "outputs": [
    {
     "name": "stderr",
     "output_type": "stream",
     "text": [
      "[Stage 3077:==============================================>    (183 + 10) / 200]\r"
     ]
    },
    {
     "name": "stdout",
     "output_type": "stream",
     "text": [
      "+-------+--------------------+-------------+\n",
      "|movieId|               title|count(userId)|\n",
      "+-------+--------------------+-------------+\n",
      "| 177593|Three Billboards ...|          560|\n",
      "|   7121|   Adam's Rib (1949)|          531|\n",
      "|  33649|  Saving Face (2004)|          528|\n",
      "|   6732|Hello, Dolly! (1969)|          488|\n",
      "|   3030|      Yojimbo (1961)|          461|\n",
      "+-------+--------------------+-------------+\n",
      "only showing top 5 rows\n",
      "\n",
      "CPU times: user 88.1 ms, sys: 43.3 ms, total: 131 ms\n",
      "Wall time: 3.44 s\n"
     ]
    },
    {
     "name": "stderr",
     "output_type": "stream",
     "text": [
      "                                                                                \r"
     ]
    }
   ],
   "source": [
    "%%time\n",
    "MostRecommendedMoviesForAllUsers.show(5)"
   ]
  },
  {
   "cell_type": "code",
   "execution_count": 41,
   "metadata": {},
   "outputs": [
    {
     "name": "stdout",
     "output_type": "stream",
     "text": [
      "CPU times: user 3.75 ms, sys: 2.1 ms, total: 5.86 ms\n",
      "Wall time: 40.8 ms\n"
     ]
    }
   ],
   "source": [
    "%%time\n",
    "# Verifying if the CF-ALS recommendations are consistent with the user's tastes\n",
    "resultsALS_validation = resultsALS \\\n",
    "                 .join(\n",
    "                 validation_df \\\n",
    "                 .filter(F.col(\"ratingsBinary\")==1.0) \\\n",
    "                 .withColumn('movieId', F.col('movieId').cast('int')) \\\n",
    "                 .groupby(\"userId\") \\\n",
    "                 .agg(F.collect_list(\"movieId\").alias(\"groundTruth\")),\n",
    "                     'userId'\n",
    "                 )\n",
    "\n",
    "resultsALS_test = resultsALS \\\n",
    "                 .join(\n",
    "                 testing_df \\\n",
    "                 .filter(F.col(\"ratingsBinary\")==1.0) \\\n",
    "                 .withColumn('movieId', F.col('movieId').cast('int')) \\\n",
    "                 .groupby(\"userId\") \\\n",
    "                 .agg(F.collect_list(\"movieId\").alias(\"groundTruth\")),\n",
    "                     'userId'\n",
    "                 )"
   ]
  },
  {
   "cell_type": "code",
   "execution_count": 42,
   "metadata": {},
   "outputs": [
    {
     "name": "stderr",
     "output_type": "stream",
     "text": [
      "[Stage 3105:==================================================> (195 + 5) / 200]\r"
     ]
    },
    {
     "name": "stdout",
     "output_type": "stream",
     "text": [
      "+------+--------------------+--------------------+\n",
      "|userId|         predictions|         groundTruth|\n",
      "+------+--------------------+--------------------+\n",
      "|   148|[6433, 86377, 177...|[4886, 7153, 4419...|\n",
      "|   463|[177593, 3819, 64...|[1552, 1690, 3448...|\n",
      "|   471|[6818, 148881, 35...|[2324, 4886, 6006...|\n",
      "|   496|[5485, 7121, 2632...|[3668, 7153, 1069...|\n",
      "|   540|[177593, 3030, 84...|[1409, 2028, 2747...|\n",
      "+------+--------------------+--------------------+\n",
      "\n",
      "CPU times: user 63.2 ms, sys: 34.4 ms, total: 97.6 ms\n",
      "Wall time: 2.6 s\n"
     ]
    },
    {
     "name": "stderr",
     "output_type": "stream",
     "text": [
      "                                                                                \r"
     ]
    }
   ],
   "source": [
    "%%time\n",
    "resultsALS_validation.limit(5).orderBy('userId').show(5)"
   ]
  },
  {
   "cell_type": "code",
   "execution_count": 43,
   "metadata": {},
   "outputs": [
    {
     "name": "stderr",
     "output_type": "stream",
     "text": [
      "[Stage 3212:==================================================> (195 + 5) / 200]\r"
     ]
    },
    {
     "name": "stdout",
     "output_type": "stream",
     "text": [
      "CPU times: user 282 ms, sys: 163 ms, total: 445 ms\n",
      "Wall time: 7.23 s\n"
     ]
    },
    {
     "name": "stderr",
     "output_type": "stream",
     "text": [
      "                                                                                \r"
     ]
    }
   ],
   "source": [
    "%%time\n",
    "resultsALSMetrics = get_rec_sys_results(resultsALS_validation, dfMovies)"
   ]
  },
  {
   "cell_type": "code",
   "execution_count": 44,
   "metadata": {},
   "outputs": [
    {
     "name": "stderr",
     "output_type": "stream",
     "text": [
      "[Stage 3318:===============================================>   (187 + 10) / 200]\r"
     ]
    },
    {
     "name": "stdout",
     "output_type": "stream",
     "text": [
      "CPU times: user 201 ms, sys: 100 ms, total: 301 ms\n",
      "Wall time: 7.3 s\n"
     ]
    },
    {
     "name": "stderr",
     "output_type": "stream",
     "text": [
      "                                                                                \r"
     ]
    }
   ],
   "source": [
    "%%time\n",
    "resultsALSMetrics_test = get_rec_sys_results(resultsALS_test, dfMovies)"
   ]
  },
  {
   "cell_type": "code",
   "execution_count": 45,
   "metadata": {},
   "outputs": [
    {
     "name": "stdout",
     "output_type": "stream",
     "text": [
      "CPU times: user 1 µs, sys: 0 ns, total: 1 µs\n",
      "Wall time: 3.81 µs\n"
     ]
    },
    {
     "data": {
      "text/plain": [
       "{'Pk100': 0.0015346534653465345,\n",
       " 'NDCGk100': 0.00390407202509691,\n",
       " 'CC': 0.0900225826319031}"
      ]
     },
     "execution_count": 45,
     "metadata": {},
     "output_type": "execute_result"
    }
   ],
   "source": [
    "%%time\n",
    "resultsALSMetrics"
   ]
  },
  {
   "cell_type": "code",
   "execution_count": 46,
   "metadata": {},
   "outputs": [
    {
     "name": "stdout",
     "output_type": "stream",
     "text": [
      "CPU times: user 2 µs, sys: 1 µs, total: 3 µs\n",
      "Wall time: 5.01 µs\n"
     ]
    },
    {
     "data": {
      "text/plain": [
       "{'Pk100': 0.0014545454545454545,\n",
       " 'NDCGk100': 0.003517694145415304,\n",
       " 'CC': 0.0814001231779922}"
      ]
     },
     "execution_count": 46,
     "metadata": {},
     "output_type": "execute_result"
    }
   ],
   "source": [
    "%%time\n",
    "resultsALSMetrics_test"
   ]
  },
  {
   "cell_type": "markdown",
   "metadata": {},
   "source": [
    "**3.6.1.2 For Single Machine**"
   ]
  },
  {
   "cell_type": "code",
   "execution_count": 47,
   "metadata": {},
   "outputs": [
    {
     "name": "stderr",
     "output_type": "stream",
     "text": [
      "/home/ax2047/.local/lib/python3.8/site-packages/distributed/node.py:177: UserWarning: Port 8787 is already in use.\n",
      "Perhaps you already have a cluster running?\n",
      "Hosting the HTTP server on port 44773 instead\n",
      "  warnings.warn(\n"
     ]
    },
    {
     "data": {
      "text/html": [
       "<div>\n",
       "    <div style=\"width: 24px; height: 24px; background-color: #e1e1e1; border: 3px solid #9D9D9D; border-radius: 5px; position: absolute;\"> </div>\n",
       "    <div style=\"margin-left: 48px;\">\n",
       "        <h3 style=\"margin-bottom: 0px;\">Client</h3>\n",
       "        <p style=\"color: #9D9D9D; margin-bottom: 0px;\">Client-b908f9c0-d61b-11ec-9b32-b8599ff11f7c</p>\n",
       "        <table style=\"width: 100%; text-align: left;\">\n",
       "\n",
       "        <tr>\n",
       "        \n",
       "            <td style=\"text-align: left;\"><strong>Connection method:</strong> Cluster object</td>\n",
       "            <td style=\"text-align: left;\"><strong>Cluster type:</strong> distributed.LocalCluster</td>\n",
       "        \n",
       "        </tr>\n",
       "\n",
       "        \n",
       "            <tr>\n",
       "                <td style=\"text-align: left;\">\n",
       "                    <strong>Dashboard: </strong> <a href=\"http://127.0.0.1:44773/status\" target=\"_blank\">http://127.0.0.1:44773/status</a>\n",
       "                </td>\n",
       "                <td style=\"text-align: left;\"></td>\n",
       "            </tr>\n",
       "        \n",
       "\n",
       "        </table>\n",
       "\n",
       "        \n",
       "            <details>\n",
       "            <summary style=\"margin-bottom: 20px;\"><h3 style=\"display: inline;\">Cluster Info</h3></summary>\n",
       "            <div class=\"jp-RenderedHTMLCommon jp-RenderedHTML jp-mod-trusted jp-OutputArea-output\">\n",
       "    <div style=\"width: 24px; height: 24px; background-color: #e1e1e1; border: 3px solid #9D9D9D; border-radius: 5px; position: absolute;\">\n",
       "    </div>\n",
       "    <div style=\"margin-left: 48px;\">\n",
       "        <h3 style=\"margin-bottom: 0px; margin-top: 0px;\">LocalCluster</h3>\n",
       "        <p style=\"color: #9D9D9D; margin-bottom: 0px;\">9d152abf</p>\n",
       "        <table style=\"width: 100%; text-align: left;\">\n",
       "            <tr>\n",
       "                <td style=\"text-align: left;\">\n",
       "                    <strong>Dashboard:</strong> <a href=\"http://127.0.0.1:44773/status\" target=\"_blank\">http://127.0.0.1:44773/status</a>\n",
       "                </td>\n",
       "                <td style=\"text-align: left;\">\n",
       "                    <strong>Workers:</strong> 5\n",
       "                </td>\n",
       "            </tr>\n",
       "            <tr>\n",
       "                <td style=\"text-align: left;\">\n",
       "                    <strong>Total threads:</strong> 10\n",
       "                </td>\n",
       "                <td style=\"text-align: left;\">\n",
       "                    <strong>Total memory:</strong> 512.00 GiB\n",
       "                </td>\n",
       "            </tr>\n",
       "            \n",
       "            <tr>\n",
       "    <td style=\"text-align: left;\"><strong>Status:</strong> running</td>\n",
       "    <td style=\"text-align: left;\"><strong>Using processes:</strong> True</td>\n",
       "</tr>\n",
       "\n",
       "            \n",
       "        </table>\n",
       "\n",
       "        <details>\n",
       "            <summary style=\"margin-bottom: 20px;\">\n",
       "                <h3 style=\"display: inline;\">Scheduler Info</h3>\n",
       "            </summary>\n",
       "\n",
       "            <div style=\"\">\n",
       "    <div>\n",
       "        <div style=\"width: 24px; height: 24px; background-color: #FFF7E5; border: 3px solid #FF6132; border-radius: 5px; position: absolute;\"> </div>\n",
       "        <div style=\"margin-left: 48px;\">\n",
       "            <h3 style=\"margin-bottom: 0px;\">Scheduler</h3>\n",
       "            <p style=\"color: #9D9D9D; margin-bottom: 0px;\">Scheduler-8c76964e-428b-42e0-b04f-52d805ce2c96</p>\n",
       "            <table style=\"width: 100%; text-align: left;\">\n",
       "                <tr>\n",
       "                    <td style=\"text-align: left;\">\n",
       "                        <strong>Comm:</strong> tcp://127.0.0.1:46469\n",
       "                    </td>\n",
       "                    <td style=\"text-align: left;\">\n",
       "                        <strong>Workers:</strong> 5\n",
       "                    </td>\n",
       "                </tr>\n",
       "                <tr>\n",
       "                    <td style=\"text-align: left;\">\n",
       "                        <strong>Dashboard:</strong> <a href=\"http://127.0.0.1:44773/status\" target=\"_blank\">http://127.0.0.1:44773/status</a>\n",
       "                    </td>\n",
       "                    <td style=\"text-align: left;\">\n",
       "                        <strong>Total threads:</strong> 10\n",
       "                    </td>\n",
       "                </tr>\n",
       "                <tr>\n",
       "                    <td style=\"text-align: left;\">\n",
       "                        <strong>Started:</strong> Just now\n",
       "                    </td>\n",
       "                    <td style=\"text-align: left;\">\n",
       "                        <strong>Total memory:</strong> 512.00 GiB\n",
       "                    </td>\n",
       "                </tr>\n",
       "            </table>\n",
       "        </div>\n",
       "    </div>\n",
       "\n",
       "    <details style=\"margin-left: 48px;\">\n",
       "        <summary style=\"margin-bottom: 20px;\">\n",
       "            <h3 style=\"display: inline;\">Workers</h3>\n",
       "        </summary>\n",
       "\n",
       "        \n",
       "        <div style=\"margin-bottom: 20px;\">\n",
       "            <div style=\"width: 24px; height: 24px; background-color: #DBF5FF; border: 3px solid #4CC9FF; border-radius: 5px; position: absolute;\"> </div>\n",
       "            <div style=\"margin-left: 48px;\">\n",
       "            <details>\n",
       "                <summary>\n",
       "                    <h4 style=\"margin-bottom: 0px; display: inline;\">Worker: 0</h4>\n",
       "                </summary>\n",
       "                <table style=\"width: 100%; text-align: left;\">\n",
       "                    <tr>\n",
       "                        <td style=\"text-align: left;\">\n",
       "                            <strong>Comm: </strong> tcp://127.0.0.1:39189\n",
       "                        </td>\n",
       "                        <td style=\"text-align: left;\">\n",
       "                            <strong>Total threads: </strong> 2\n",
       "                        </td>\n",
       "                    </tr>\n",
       "                    <tr>\n",
       "                        <td style=\"text-align: left;\">\n",
       "                            <strong>Dashboard: </strong> <a href=\"http://127.0.0.1:36137/status\" target=\"_blank\">http://127.0.0.1:36137/status</a>\n",
       "                        </td>\n",
       "                        <td style=\"text-align: left;\">\n",
       "                            <strong>Memory: </strong> 102.40 GiB\n",
       "                        </td>\n",
       "                    </tr>\n",
       "                    <tr>\n",
       "                        <td style=\"text-align: left;\">\n",
       "                            <strong>Nanny: </strong> tcp://127.0.0.1:35803\n",
       "                        </td>\n",
       "                        <td style=\"text-align: left;\"></td>\n",
       "                    </tr>\n",
       "                    <tr>\n",
       "                        <td colspan=\"2\" style=\"text-align: left;\">\n",
       "                            <strong>Local directory: </strong> /home/ax2047/final-project-group_7/dask-worker-space/worker-3a9sgsc5\n",
       "                        </td>\n",
       "                    </tr>\n",
       "\n",
       "                    \n",
       "\n",
       "                    \n",
       "\n",
       "                </table>\n",
       "            </details>\n",
       "            </div>\n",
       "        </div>\n",
       "        \n",
       "        <div style=\"margin-bottom: 20px;\">\n",
       "            <div style=\"width: 24px; height: 24px; background-color: #DBF5FF; border: 3px solid #4CC9FF; border-radius: 5px; position: absolute;\"> </div>\n",
       "            <div style=\"margin-left: 48px;\">\n",
       "            <details>\n",
       "                <summary>\n",
       "                    <h4 style=\"margin-bottom: 0px; display: inline;\">Worker: 1</h4>\n",
       "                </summary>\n",
       "                <table style=\"width: 100%; text-align: left;\">\n",
       "                    <tr>\n",
       "                        <td style=\"text-align: left;\">\n",
       "                            <strong>Comm: </strong> tcp://127.0.0.1:42449\n",
       "                        </td>\n",
       "                        <td style=\"text-align: left;\">\n",
       "                            <strong>Total threads: </strong> 2\n",
       "                        </td>\n",
       "                    </tr>\n",
       "                    <tr>\n",
       "                        <td style=\"text-align: left;\">\n",
       "                            <strong>Dashboard: </strong> <a href=\"http://127.0.0.1:34067/status\" target=\"_blank\">http://127.0.0.1:34067/status</a>\n",
       "                        </td>\n",
       "                        <td style=\"text-align: left;\">\n",
       "                            <strong>Memory: </strong> 102.40 GiB\n",
       "                        </td>\n",
       "                    </tr>\n",
       "                    <tr>\n",
       "                        <td style=\"text-align: left;\">\n",
       "                            <strong>Nanny: </strong> tcp://127.0.0.1:36097\n",
       "                        </td>\n",
       "                        <td style=\"text-align: left;\"></td>\n",
       "                    </tr>\n",
       "                    <tr>\n",
       "                        <td colspan=\"2\" style=\"text-align: left;\">\n",
       "                            <strong>Local directory: </strong> /home/ax2047/final-project-group_7/dask-worker-space/worker-25lojb2i\n",
       "                        </td>\n",
       "                    </tr>\n",
       "\n",
       "                    \n",
       "\n",
       "                    \n",
       "\n",
       "                </table>\n",
       "            </details>\n",
       "            </div>\n",
       "        </div>\n",
       "        \n",
       "        <div style=\"margin-bottom: 20px;\">\n",
       "            <div style=\"width: 24px; height: 24px; background-color: #DBF5FF; border: 3px solid #4CC9FF; border-radius: 5px; position: absolute;\"> </div>\n",
       "            <div style=\"margin-left: 48px;\">\n",
       "            <details>\n",
       "                <summary>\n",
       "                    <h4 style=\"margin-bottom: 0px; display: inline;\">Worker: 2</h4>\n",
       "                </summary>\n",
       "                <table style=\"width: 100%; text-align: left;\">\n",
       "                    <tr>\n",
       "                        <td style=\"text-align: left;\">\n",
       "                            <strong>Comm: </strong> tcp://127.0.0.1:40661\n",
       "                        </td>\n",
       "                        <td style=\"text-align: left;\">\n",
       "                            <strong>Total threads: </strong> 2\n",
       "                        </td>\n",
       "                    </tr>\n",
       "                    <tr>\n",
       "                        <td style=\"text-align: left;\">\n",
       "                            <strong>Dashboard: </strong> <a href=\"http://127.0.0.1:38191/status\" target=\"_blank\">http://127.0.0.1:38191/status</a>\n",
       "                        </td>\n",
       "                        <td style=\"text-align: left;\">\n",
       "                            <strong>Memory: </strong> 102.40 GiB\n",
       "                        </td>\n",
       "                    </tr>\n",
       "                    <tr>\n",
       "                        <td style=\"text-align: left;\">\n",
       "                            <strong>Nanny: </strong> tcp://127.0.0.1:45901\n",
       "                        </td>\n",
       "                        <td style=\"text-align: left;\"></td>\n",
       "                    </tr>\n",
       "                    <tr>\n",
       "                        <td colspan=\"2\" style=\"text-align: left;\">\n",
       "                            <strong>Local directory: </strong> /home/ax2047/final-project-group_7/dask-worker-space/worker-e9z6dypj\n",
       "                        </td>\n",
       "                    </tr>\n",
       "\n",
       "                    \n",
       "\n",
       "                    \n",
       "\n",
       "                </table>\n",
       "            </details>\n",
       "            </div>\n",
       "        </div>\n",
       "        \n",
       "        <div style=\"margin-bottom: 20px;\">\n",
       "            <div style=\"width: 24px; height: 24px; background-color: #DBF5FF; border: 3px solid #4CC9FF; border-radius: 5px; position: absolute;\"> </div>\n",
       "            <div style=\"margin-left: 48px;\">\n",
       "            <details>\n",
       "                <summary>\n",
       "                    <h4 style=\"margin-bottom: 0px; display: inline;\">Worker: 3</h4>\n",
       "                </summary>\n",
       "                <table style=\"width: 100%; text-align: left;\">\n",
       "                    <tr>\n",
       "                        <td style=\"text-align: left;\">\n",
       "                            <strong>Comm: </strong> tcp://127.0.0.1:40423\n",
       "                        </td>\n",
       "                        <td style=\"text-align: left;\">\n",
       "                            <strong>Total threads: </strong> 2\n",
       "                        </td>\n",
       "                    </tr>\n",
       "                    <tr>\n",
       "                        <td style=\"text-align: left;\">\n",
       "                            <strong>Dashboard: </strong> <a href=\"http://127.0.0.1:43335/status\" target=\"_blank\">http://127.0.0.1:43335/status</a>\n",
       "                        </td>\n",
       "                        <td style=\"text-align: left;\">\n",
       "                            <strong>Memory: </strong> 102.40 GiB\n",
       "                        </td>\n",
       "                    </tr>\n",
       "                    <tr>\n",
       "                        <td style=\"text-align: left;\">\n",
       "                            <strong>Nanny: </strong> tcp://127.0.0.1:45497\n",
       "                        </td>\n",
       "                        <td style=\"text-align: left;\"></td>\n",
       "                    </tr>\n",
       "                    <tr>\n",
       "                        <td colspan=\"2\" style=\"text-align: left;\">\n",
       "                            <strong>Local directory: </strong> /home/ax2047/final-project-group_7/dask-worker-space/worker-5879umxy\n",
       "                        </td>\n",
       "                    </tr>\n",
       "\n",
       "                    \n",
       "\n",
       "                    \n",
       "\n",
       "                </table>\n",
       "            </details>\n",
       "            </div>\n",
       "        </div>\n",
       "        \n",
       "        <div style=\"margin-bottom: 20px;\">\n",
       "            <div style=\"width: 24px; height: 24px; background-color: #DBF5FF; border: 3px solid #4CC9FF; border-radius: 5px; position: absolute;\"> </div>\n",
       "            <div style=\"margin-left: 48px;\">\n",
       "            <details>\n",
       "                <summary>\n",
       "                    <h4 style=\"margin-bottom: 0px; display: inline;\">Worker: 4</h4>\n",
       "                </summary>\n",
       "                <table style=\"width: 100%; text-align: left;\">\n",
       "                    <tr>\n",
       "                        <td style=\"text-align: left;\">\n",
       "                            <strong>Comm: </strong> tcp://127.0.0.1:44379\n",
       "                        </td>\n",
       "                        <td style=\"text-align: left;\">\n",
       "                            <strong>Total threads: </strong> 2\n",
       "                        </td>\n",
       "                    </tr>\n",
       "                    <tr>\n",
       "                        <td style=\"text-align: left;\">\n",
       "                            <strong>Dashboard: </strong> <a href=\"http://127.0.0.1:38085/status\" target=\"_blank\">http://127.0.0.1:38085/status</a>\n",
       "                        </td>\n",
       "                        <td style=\"text-align: left;\">\n",
       "                            <strong>Memory: </strong> 102.40 GiB\n",
       "                        </td>\n",
       "                    </tr>\n",
       "                    <tr>\n",
       "                        <td style=\"text-align: left;\">\n",
       "                            <strong>Nanny: </strong> tcp://127.0.0.1:44383\n",
       "                        </td>\n",
       "                        <td style=\"text-align: left;\"></td>\n",
       "                    </tr>\n",
       "                    <tr>\n",
       "                        <td colspan=\"2\" style=\"text-align: left;\">\n",
       "                            <strong>Local directory: </strong> /home/ax2047/final-project-group_7/dask-worker-space/worker-2wiqi2in\n",
       "                        </td>\n",
       "                    </tr>\n",
       "\n",
       "                    \n",
       "\n",
       "                    \n",
       "\n",
       "                </table>\n",
       "            </details>\n",
       "            </div>\n",
       "        </div>\n",
       "        \n",
       "\n",
       "    </details>\n",
       "</div>\n",
       "\n",
       "        </details>\n",
       "    </div>\n",
       "</div>\n",
       "            </details>\n",
       "        \n",
       "\n",
       "    </div>\n",
       "</div>"
      ],
      "text/plain": [
       "<Client: 'tcp://127.0.0.1:46469' processes=5 threads=10, memory=512.00 GiB>"
      ]
     },
     "metadata": {},
     "output_type": "display_data"
    }
   ],
   "source": [
    "# Set LOCAL to True for single-machine execution while developing\n",
    "# Set LOCAL to False for cluster execution\n",
    "\n",
    "LOCAL = True\n",
    "\n",
    "if LOCAL:\n",
    "    # This line creates a single-machine dask client\n",
    "    client = Client()\n",
    "else:    \n",
    "    # This line creates a SLURM cluster dask and dask client\n",
    "    # Logging outputs will be stored in /scratch/{your-netid}\n",
    "    \n",
    "    cluster = SLURMCluster(memory='4GB', cores=14, python='/scratch/work/public/dask/bin/python', \n",
    "                               local_directory='/tmp/{}/'.format(os.environ['SLURM_JOB_USER']),\n",
    "                               job_extra=['--output=/scratch/{}/slurm-%j.out'.format(os.environ['SLURM_JOB_USER'])])\n",
    "\n",
    "    cluster.submit_command = 'slurm'\n",
    "    cluster.scale(100)\n",
    "\n",
    "    display(cluster)\n",
    "    client = Client(cluster)\n",
    "\n",
    "display(client)"
   ]
  },
  {
   "cell_type": "code",
   "execution_count": 48,
   "metadata": {},
   "outputs": [
    {
     "name": "stderr",
     "output_type": "stream",
     "text": [
      "                                                                                \r"
     ]
    },
    {
     "name": "stdout",
     "output_type": "stream",
     "text": [
      "For rank 4 and regParam 0.01 the RMSE is 1.0016021771316816\n"
     ]
    },
    {
     "name": "stderr",
     "output_type": "stream",
     "text": [
      "                                                                                \r"
     ]
    },
    {
     "name": "stdout",
     "output_type": "stream",
     "text": [
      "For rank 5 and regParam 0.01 the RMSE is 1.0301192935235441\n"
     ]
    },
    {
     "name": "stderr",
     "output_type": "stream",
     "text": [
      "                                                                                \r"
     ]
    },
    {
     "name": "stdout",
     "output_type": "stream",
     "text": [
      "For rank 6 and regParam 0.01 the RMSE is 1.0311335725565327\n"
     ]
    },
    {
     "name": "stderr",
     "output_type": "stream",
     "text": [
      "                                                                                \r"
     ]
    },
    {
     "name": "stdout",
     "output_type": "stream",
     "text": [
      "For rank 7 and regParam 0.01 the RMSE is 1.0294362722679846\n"
     ]
    },
    {
     "name": "stderr",
     "output_type": "stream",
     "text": [
      "                                                                                \r"
     ]
    },
    {
     "name": "stdout",
     "output_type": "stream",
     "text": [
      "For rank 8 and regParam 0.01 the RMSE is 1.0552924507643926\n"
     ]
    },
    {
     "name": "stderr",
     "output_type": "stream",
     "text": [
      "                                                                                \r"
     ]
    },
    {
     "name": "stdout",
     "output_type": "stream",
     "text": [
      "For rank 9 and regParam 0.01 the RMSE is 1.050572920701859\n"
     ]
    },
    {
     "name": "stderr",
     "output_type": "stream",
     "text": [
      "                                                                                \r"
     ]
    },
    {
     "name": "stdout",
     "output_type": "stream",
     "text": [
      "For rank 10 and regParam 0.01 the RMSE is 1.057220782829928\n"
     ]
    },
    {
     "name": "stderr",
     "output_type": "stream",
     "text": [
      "                                                                                \r"
     ]
    },
    {
     "name": "stdout",
     "output_type": "stream",
     "text": [
      "For rank 11 and regParam 0.01 the RMSE is 1.0684831042429928\n"
     ]
    },
    {
     "name": "stderr",
     "output_type": "stream",
     "text": [
      "                                                                                \r"
     ]
    },
    {
     "name": "stdout",
     "output_type": "stream",
     "text": [
      "For rank 4 and regParam 0.1 the RMSE is 0.8958442506792226\n"
     ]
    },
    {
     "name": "stderr",
     "output_type": "stream",
     "text": [
      "                                                                                \r"
     ]
    },
    {
     "name": "stdout",
     "output_type": "stream",
     "text": [
      "For rank 5 and regParam 0.1 the RMSE is 0.8980626194176089\n"
     ]
    },
    {
     "name": "stderr",
     "output_type": "stream",
     "text": [
      "                                                                                \r"
     ]
    },
    {
     "name": "stdout",
     "output_type": "stream",
     "text": [
      "For rank 6 and regParam 0.1 the RMSE is 0.9013573999739966\n"
     ]
    },
    {
     "name": "stderr",
     "output_type": "stream",
     "text": [
      "                                                                                \r"
     ]
    },
    {
     "name": "stdout",
     "output_type": "stream",
     "text": [
      "For rank 7 and regParam 0.1 the RMSE is 0.8964614013038112\n"
     ]
    },
    {
     "name": "stderr",
     "output_type": "stream",
     "text": [
      "                                                                                \r"
     ]
    },
    {
     "name": "stdout",
     "output_type": "stream",
     "text": [
      "For rank 8 and regParam 0.1 the RMSE is 0.89590571096802\n"
     ]
    },
    {
     "name": "stderr",
     "output_type": "stream",
     "text": [
      "                                                                                \r"
     ]
    },
    {
     "name": "stdout",
     "output_type": "stream",
     "text": [
      "For rank 9 and regParam 0.1 the RMSE is 0.9013159052706686\n"
     ]
    },
    {
     "name": "stderr",
     "output_type": "stream",
     "text": [
      "                                                                                \r"
     ]
    },
    {
     "name": "stdout",
     "output_type": "stream",
     "text": [
      "For rank 10 and regParam 0.1 the RMSE is 0.8987670363474984\n"
     ]
    },
    {
     "name": "stderr",
     "output_type": "stream",
     "text": [
      "[Stage 4644:===============================================>   (186 + 11) / 200]\r"
     ]
    },
    {
     "name": "stdout",
     "output_type": "stream",
     "text": [
      "For rank 11 and regParam 0.1 the RMSE is 0.9003057135286106\n",
      "The best model was trained with rank 4 and regParam 0.1\n",
      "CPU times: user 4.03 s, sys: 3.2 s, total: 7.23 s\n",
      "Wall time: 57.2 s\n"
     ]
    },
    {
     "name": "stderr",
     "output_type": "stream",
     "text": [
      "                                                                                \r"
     ]
    }
   ],
   "source": [
    "%%time\n",
    "ranks = range(4, 12)\n",
    "regParam = [0.01, 0.1]\n",
    "errors = []\n",
    "min_error = float('inf')\n",
    "for param in regParam:\n",
    "    for rank in ranks:\n",
    "        \n",
    "        tempALS = ALS(maxIter=10, rank=rank, regParam=param, nonnegative=True,\n",
    "              userCol='userId', itemCol='movieId', ratingCol='rating',\n",
    "              coldStartStrategy='drop', implicitPrefs=False, seed=SEED)\n",
    "\n",
    "        model = tempALS.fit(training_df)\n",
    "        \n",
    "        predictions = model.transform(validation_df)\n",
    "        #best_model.recommendForUserSubset(100) \n",
    "        evaluator = RegressionEvaluator(metricName='rmse', labelCol='rating',\n",
    "                                predictionCol='prediction')\n",
    "        rmse = evaluator.evaluate(predictions)\n",
    "        errors.append(rmse)\n",
    "        print ('For rank {0} and regParam {1} the RMSE is {2}'.format (rank, param, rmse))\n",
    "        \n",
    "        if rmse < min_error:\n",
    "            min_error = rmse\n",
    "            best_rank = rank\n",
    "            best_regParam = param\n",
    "            best_model = model\n",
    "        \n",
    "print ('The best model was trained with rank {0} and regParam {1}'.format(best_rank, best_regParam))\n",
    "    \n",
    "\n",
    "\n"
   ]
  },
  {
   "cell_type": "code",
   "execution_count": 49,
   "metadata": {},
   "outputs": [
    {
     "name": "stdout",
     "output_type": "stream",
     "text": [
      "CPU times: user 8.71 ms, sys: 6.82 ms, total: 15.5 ms\n",
      "Wall time: 61.8 ms\n"
     ]
    }
   ],
   "source": [
    "%%time\n",
    "resultsALS = best_model.recommendForAllUsers(100)\n",
    "\n",
    "resultsALS = resultsALS.withColumn('recommendations',\n",
    "              udf_format_recommendations(F.col(\"recommendations\"))) \\\n",
    "              .toDF('userId', 'predictions')"
   ]
  },
  {
   "cell_type": "code",
   "execution_count": 50,
   "metadata": {},
   "outputs": [
    {
     "name": "stderr",
     "output_type": "stream",
     "text": [
      "[Stage 4671:=================================================>  (191 + 9) / 200]\r"
     ]
    },
    {
     "name": "stdout",
     "output_type": "stream",
     "text": [
      "+------+--------------------+\n",
      "|userId|         predictions|\n",
      "+------+--------------------+\n",
      "|   148|[6433, 86377, 177...|\n",
      "|   463|[177593, 3819, 64...|\n",
      "|   471|[6818, 148881, 35...|\n",
      "|   496|[5485, 7121, 2632...|\n",
      "|   540|[177593, 3030, 84...|\n",
      "+------+--------------------+\n",
      "\n",
      "CPU times: user 156 ms, sys: 125 ms, total: 281 ms\n",
      "Wall time: 2.18 s\n"
     ]
    },
    {
     "name": "stderr",
     "output_type": "stream",
     "text": [
      "                                                                                \r"
     ]
    }
   ],
   "source": [
    "%%time\n",
    "resultsALS.limit(5).orderBy('userId').show(5)"
   ]
  },
  {
   "cell_type": "code",
   "execution_count": 51,
   "metadata": {},
   "outputs": [
    {
     "name": "stdout",
     "output_type": "stream",
     "text": [
      "CPU times: user 4.22 ms, sys: 1.62 ms, total: 5.84 ms\n",
      "Wall time: 29.6 ms\n"
     ]
    }
   ],
   "source": [
    "%%time\n",
    "# Most frequently recommended movies\n",
    "resultsALSExpanded = resultsALS \\\n",
    "                        .withColumn(\"movieId\", F.explode(\"predictions\")) \\\n",
    "                        .drop('predictions') \\\n",
    "                        .join(dfMovies, \"movieId\")\n",
    "\n",
    "MostRecommendedMoviesForAllUsers = resultsALSExpanded.groupby([\"movieId\", \"title\"]).agg({'userId':'count'})\n",
    "MostRecommendedMoviesForAllUsers = MostRecommendedMoviesForAllUsers.sort(['count(userId)'], ascending=False)"
   ]
  },
  {
   "cell_type": "code",
   "execution_count": 52,
   "metadata": {},
   "outputs": [
    {
     "name": "stderr",
     "output_type": "stream",
     "text": [
      "[Stage 4698:==============================================>    (182 + 10) / 200]\r"
     ]
    },
    {
     "name": "stdout",
     "output_type": "stream",
     "text": [
      "+-------+--------------------+-------------+\n",
      "|movieId|               title|count(userId)|\n",
      "+-------+--------------------+-------------+\n",
      "| 177593|Three Billboards ...|          560|\n",
      "|   7121|   Adam's Rib (1949)|          531|\n",
      "|  33649|  Saving Face (2004)|          528|\n",
      "|   6732|Hello, Dolly! (1969)|          488|\n",
      "|   3030|      Yojimbo (1961)|          461|\n",
      "+-------+--------------------+-------------+\n",
      "only showing top 5 rows\n",
      "\n",
      "CPU times: user 270 ms, sys: 182 ms, total: 452 ms\n",
      "Wall time: 3.54 s\n"
     ]
    },
    {
     "name": "stderr",
     "output_type": "stream",
     "text": [
      "                                                                                \r"
     ]
    }
   ],
   "source": [
    "%%time\n",
    "MostRecommendedMoviesForAllUsers.show(5)"
   ]
  },
  {
   "cell_type": "code",
   "execution_count": 53,
   "metadata": {},
   "outputs": [
    {
     "name": "stdout",
     "output_type": "stream",
     "text": [
      "CPU times: user 7.87 ms, sys: 10.1 ms, total: 18 ms\n",
      "Wall time: 42.1 ms\n"
     ]
    }
   ],
   "source": [
    "%%time\n",
    "# Verifying if the CF-ALS recommendations are consistent with the user's tastes\n",
    "resultsALS_validation = resultsALS \\\n",
    "                 .join(\n",
    "                 validation_df \\\n",
    "                 .filter(F.col(\"ratingsBinary\")==1.0) \\\n",
    "                 .withColumn('movieId', F.col('movieId').cast('int')) \\\n",
    "                 .groupby(\"userId\") \\\n",
    "                 .agg(F.collect_list(\"movieId\").alias(\"groundTruth\")),\n",
    "                     'userId'\n",
    "                 )\n",
    "\n",
    "resultsALS_test = resultsALS \\\n",
    "                 .join(\n",
    "                 testing_df \\\n",
    "                 .filter(F.col(\"ratingsBinary\")==1.0) \\\n",
    "                 .withColumn('movieId', F.col('movieId').cast('int')) \\\n",
    "                 .groupby(\"userId\") \\\n",
    "                 .agg(F.collect_list(\"movieId\").alias(\"groundTruth\")),\n",
    "                     'userId'\n",
    "                 )"
   ]
  },
  {
   "cell_type": "code",
   "execution_count": 54,
   "metadata": {},
   "outputs": [
    {
     "name": "stderr",
     "output_type": "stream",
     "text": [
      "[Stage 4726:==========================================>        (165 + 10) / 200]\r"
     ]
    },
    {
     "name": "stdout",
     "output_type": "stream",
     "text": [
      "+------+--------------------+--------------------+\n",
      "|userId|         predictions|         groundTruth|\n",
      "+------+--------------------+--------------------+\n",
      "|   148|[6433, 86377, 177...|[4886, 7153, 4419...|\n",
      "|   463|[177593, 3819, 64...|[1552, 1690, 3448...|\n",
      "|   471|[6818, 148881, 35...|[2324, 4886, 6006...|\n",
      "|   496|[5485, 7121, 2632...|[3668, 7153, 1069...|\n",
      "|   540|[177593, 3030, 84...|[1409, 2028, 2747...|\n",
      "+------+--------------------+--------------------+\n",
      "\n",
      "CPU times: user 188 ms, sys: 138 ms, total: 326 ms\n",
      "Wall time: 2.6 s\n"
     ]
    },
    {
     "name": "stderr",
     "output_type": "stream",
     "text": [
      "                                                                                \r"
     ]
    }
   ],
   "source": [
    "%%time\n",
    "resultsALS_validation.limit(5).orderBy('userId').show(5)"
   ]
  },
  {
   "cell_type": "code",
   "execution_count": 55,
   "metadata": {},
   "outputs": [
    {
     "name": "stderr",
     "output_type": "stream",
     "text": [
      "[Stage 4833:=================================================>  (192 + 8) / 200]\r"
     ]
    },
    {
     "name": "stdout",
     "output_type": "stream",
     "text": [
      "CPU times: user 565 ms, sys: 386 ms, total: 951 ms\n",
      "Wall time: 7.22 s\n"
     ]
    },
    {
     "name": "stderr",
     "output_type": "stream",
     "text": [
      "                                                                                \r"
     ]
    }
   ],
   "source": [
    "%%time\n",
    "resultsALSMetrics = get_rec_sys_results(resultsALS_validation, dfMovies)"
   ]
  },
  {
   "cell_type": "code",
   "execution_count": 56,
   "metadata": {},
   "outputs": [
    {
     "name": "stderr",
     "output_type": "stream",
     "text": [
      "[Stage 4939:============================================>      (174 + 10) / 200]\r"
     ]
    },
    {
     "name": "stdout",
     "output_type": "stream",
     "text": [
      "CPU times: user 707 ms, sys: 464 ms, total: 1.17 s\n",
      "Wall time: 7.64 s\n"
     ]
    },
    {
     "name": "stderr",
     "output_type": "stream",
     "text": [
      "                                                                                \r"
     ]
    }
   ],
   "source": [
    "%%time\n",
    "resultsALSMetrics_test = get_rec_sys_results(resultsALS_test, dfMovies)"
   ]
  },
  {
   "cell_type": "code",
   "execution_count": 57,
   "metadata": {},
   "outputs": [
    {
     "name": "stdout",
     "output_type": "stream",
     "text": [
      "CPU times: user 2 µs, sys: 1e+03 ns, total: 3 µs\n",
      "Wall time: 5.25 µs\n"
     ]
    },
    {
     "data": {
      "text/plain": [
       "{'Pk100': 0.0015346534653465351,\n",
       " 'NDCGk100': 0.0039040720250969087,\n",
       " 'CC': 0.0870457811537672}"
      ]
     },
     "execution_count": 57,
     "metadata": {},
     "output_type": "execute_result"
    }
   ],
   "source": [
    "%%time\n",
    "resultsALSMetrics"
   ]
  },
  {
   "cell_type": "code",
   "execution_count": 58,
   "metadata": {},
   "outputs": [
    {
     "name": "stdout",
     "output_type": "stream",
     "text": [
      "CPU times: user 2 µs, sys: 1e+03 ns, total: 3 µs\n",
      "Wall time: 5.72 µs\n"
     ]
    },
    {
     "data": {
      "text/plain": [
       "{'Pk100': 0.0014545454545454547,\n",
       " 'NDCGk100': 0.0035176941454153022,\n",
       " 'CC': 0.08950934099774174}"
      ]
     },
     "execution_count": 58,
     "metadata": {},
     "output_type": "execute_result"
    }
   ],
   "source": [
    "%%time\n",
    "resultsALSMetrics_test"
   ]
  },
  {
   "cell_type": "code",
   "execution_count": 78,
   "metadata": {},
   "outputs": [
    {
     "name": "stderr",
     "output_type": "stream",
     "text": [
      "[Stage 5083:==============================================>    (183 + 10) / 200]\r"
     ]
    },
    {
     "name": "stdout",
     "output_type": "stream",
     "text": [
      "CPU times: user 348 ms, sys: 278 ms, total: 625 ms\n",
      "Wall time: 4.94 s\n"
     ]
    },
    {
     "name": "stderr",
     "output_type": "stream",
     "text": [
      "                                                                                \r"
     ]
    }
   ],
   "source": [
    "%%time\n",
    "bench_mark_model = ALS(maxIter=10, rank=4, regParam=0.1, nonnegative=True,\n",
    "              userCol='userId', itemCol='movieId', ratingCol='rating',\n",
    "              coldStartStrategy='drop', implicitPrefs=False, seed=SEED)\n",
    "\n",
    "best_model = bench_mark_model.fit(training_df)\n",
    "\n",
    "rmse = evaluator.evaluate(predictions)\n"
   ]
  },
  {
   "cell_type": "code",
   "execution_count": 81,
   "metadata": {},
   "outputs": [
    {
     "name": "stdout",
     "output_type": "stream",
     "text": [
      "CPU times: user 3.28 ms, sys: 5.48 ms, total: 8.77 ms\n",
      "Wall time: 18.6 ms\n"
     ]
    }
   ],
   "source": [
    "%%time\n",
    "predictions = best_model.transform(validation_df)\n",
    "evaluator = RegressionEvaluator(metricName='rmse', labelCol='rating',\n",
    "                                predictionCol='prediction')"
   ]
  },
  {
   "cell_type": "code",
   "execution_count": 82,
   "metadata": {},
   "outputs": [
    {
     "name": "stderr",
     "output_type": "stream",
     "text": [
      "[Stage 5141:============================================>      (175 + 10) / 200]\r"
     ]
    },
    {
     "name": "stdout",
     "output_type": "stream",
     "text": [
      "CPU times: user 158 ms, sys: 115 ms, total: 272 ms\n",
      "Wall time: 2.16 s\n"
     ]
    },
    {
     "name": "stderr",
     "output_type": "stream",
     "text": [
      "                                                                                \r"
     ]
    }
   ],
   "source": [
    "%%time\n",
    "rmse = evaluator.evaluate(predictions)"
   ]
  },
  {
   "cell_type": "code",
   "execution_count": 75,
   "metadata": {},
   "outputs": [
    {
     "name": "stdout",
     "output_type": "stream",
     "text": [
      "CPU times: user 561 ms, sys: 43.2 ms, total: 604 ms\n",
      "Wall time: 906 ms\n"
     ]
    }
   ],
   "source": [
    "%%time\n",
    "from lightfm import LightFM\n",
    "from lightfm.datasets import fetch_movielens\n",
    "from lightfm.evaluation import precision_at_k\n",
    "\n",
    "# Load the MovieLens 100k dataset. Only five\n",
    "# star ratings are treated as positive.\n",
    "data = fetch_movielens(min_rating=3.0)\n"
   ]
  },
  {
   "cell_type": "code",
   "execution_count": 76,
   "metadata": {},
   "outputs": [
    {
     "name": "stdout",
     "output_type": "stream",
     "text": [
      "CPU times: user 4.99 s, sys: 112 ms, total: 5.11 s\n",
      "Wall time: 2.46 s\n"
     ]
    },
    {
     "data": {
      "text/plain": [
       "<lightfm.lightfm.LightFM at 0x1544dccf0340>"
      ]
     },
     "execution_count": 76,
     "metadata": {},
     "output_type": "execute_result"
    }
   ],
   "source": [
    "%%time\n",
    "# Instantiate and train the model\n",
    "model = LightFM(loss='warp')\n",
    "model.fit(data['train'], epochs=30, num_threads=2)"
   ]
  },
  {
   "cell_type": "code",
   "execution_count": 77,
   "metadata": {},
   "outputs": [
    {
     "name": "stdout",
     "output_type": "stream",
     "text": [
      "CPU times: user 63.8 ms, sys: 5.45 ms, total: 69.3 ms\n",
      "Wall time: 57.6 ms\n"
     ]
    }
   ],
   "source": [
    "%%time\n",
    "# Evaluate the trained model\n",
    "test_precision = precision_at_k(model, data['test'], k=100).mean()"
   ]
  },
  {
   "cell_type": "markdown",
   "metadata": {},
   "source": [
    "**3.6.2 Exploratory Data Analysis and Visualization**"
   ]
  },
  {
   "cell_type": "markdown",
   "metadata": {},
   "source": [
    "**In this first plot, we see the relation between the Number of Ratings per user and Frequency of Users.**"
   ]
  },
  {
   "cell_type": "code",
   "execution_count": 59,
   "metadata": {},
   "outputs": [
    {
     "name": "stderr",
     "output_type": "stream",
     "text": [
      "/state/partition1/job-19665852/ipykernel_3480370/3868621895.py:10: UserWarning: FixedFormatter should only be used together with FixedLocator\n",
      "  ax.set_xticklabels(['{:,}'.format(int(x)) for x in ax.get_xticks().tolist()])\n",
      "/state/partition1/job-19665852/ipykernel_3480370/3868621895.py:11: UserWarning: FixedFormatter should only be used together with FixedLocator\n",
      "  ax.set_yticklabels(['{:,}'.format(int(x)) for x in ax.get_yticks().tolist()])\n"
     ]
    },
    {
     "data": {
      "image/png": "[encoded data removed]",
      "text/plain": [
       "<Figure size 864x432 with 1 Axes>"
      ]
     },
     "metadata": {
      "needs_background": "light"
     },
     "output_type": "display_data"
    }
   ],
   "source": [
    "f, ax = plt.subplots(figsize=(12,6))\n",
    "userRatingGroup = ratingsPrepare.groupby(\"userId\").agg({\"rating\":\"count\"})\n",
    "\n",
    "userRatingGroup = list(userRatingGroup.select(\"count(rating)\").rdd.flatMap(lambda x: x).collect())\n",
    "plt.hist(userRatingGroup,bins=50,color='blue', edgecolor='black',\n",
    "                     linewidth=1.25, alpha=0.78)\n",
    "ax.set_xlabel('Number of Ratings per User')\n",
    "ax.set_ylabel('Frequency')\n",
    "ax.set_xlim(0.0)\n",
    "ax.set_xticklabels(['{:,}'.format(int(x)) for x in ax.get_xticks().tolist()])\n",
    "ax.set_yticklabels(['{:,}'.format(int(x)) for x in ax.get_yticks().tolist()])\n",
    "plt.show()\n"
   ]
  },
  {
   "cell_type": "markdown",
   "metadata": {},
   "source": [
    "*We see that a large section (almost all) fall under the category 0-500 ratings. This skewed data is a reason for the lack of data for a lot of users which is causing error in the modelling for all those users. This presents a picture that inspite having such a huge data, only a handfull of users have actually contributed substantially.*"
   ]
  },
  {
   "cell_type": "markdown",
   "metadata": {},
   "source": [
    "**Our second plot, we see the relation between the Number of Ratings per movie and its Frequency.**"
   ]
  },
  {
   "cell_type": "code",
   "execution_count": 64,
   "metadata": {},
   "outputs": [
    {
     "name": "stderr",
     "output_type": "stream",
     "text": [
      "/state/partition1/job-19665852/ipykernel_3480370/396308077.py:9: UserWarning: FixedFormatter should only be used together with FixedLocator\n",
      "  ax.set_xticklabels(['{:,}'.format(int(x)) for x in ax.get_xticks().tolist()])\n",
      "/state/partition1/job-19665852/ipykernel_3480370/396308077.py:10: UserWarning: FixedFormatter should only be used together with FixedLocator\n",
      "  ax.set_yticklabels(['{:,}'.format(int(x)) for x in ax.get_yticks().tolist()])\n"
     ]
    },
    {
     "data": {
      "image/png": "[encoded data removed]",
      "text/plain": [
       "<Figure size 864x432 with 1 Axes>"
      ]
     },
     "metadata": {
      "needs_background": "light"
     },
     "output_type": "display_data"
    }
   ],
   "source": [
    "f, ax = plt.subplots(figsize=(12,6))\n",
    "movieRatingGroup = ratingsPrepare.groupby(\"movieId\").agg({\"rating\":\"count\"})\n",
    "movieRatingGroup = list(movieRatingGroup.select(\"count(rating)\").rdd.flatMap(lambda x: x).collect())\n",
    "plt.hist(movieRatingGroup,bins=50,color='blue', edgecolor='black',\n",
    "                     linewidth=1.25, alpha=0.78)\n",
    "ax.set_xlabel('Number of Ratings per Movie')\n",
    "ax.set_ylabel('Frequency')\n",
    "ax.set_xlim(0.0)\n",
    "ax.set_xticklabels(['{:,}'.format(int(x)) for x in ax.get_xticks().tolist()])\n",
    "ax.set_yticklabels(['{:,}'.format(int(x)) for x in ax.get_yticks().tolist()])\n",
    "plt.show()"
   ]
  },
  {
   "cell_type": "markdown",
   "metadata": {},
   "source": [
    "*This is an ideal plot which gives us a clear picture that some movies have more number of reviews than others. This clearly show how some movies can be modelled better than others. With more data available and more reviews available for certain movies, others with lesser count cause an error. So this presents a picture that inspite having such a huge dataset, a large number of ratings exist only for a fraction of movies.*"
   ]
  },
  {
   "cell_type": "markdown",
   "metadata": {},
   "source": [
    "**Our next plot, shows the relation between different user movie ratings and its corresponidng number of users.**"
   ]
  },
  {
   "cell_type": "code",
   "execution_count": 65,
   "metadata": {},
   "outputs": [
    {
     "name": "stderr",
     "output_type": "stream",
     "text": [
      "/state/partition1/job-19665852/ipykernel_3480370/2841329552.py:19: UserWarning: FixedFormatter should only be used together with FixedLocator\n",
      "  ax.set_yticklabels(['{:,}'.format(int(x)) for x in ax.get_yticks().tolist()])\n"
     ]
    },
    {
     "data": {
      "image/png": "[encoded data removed]",
      "text/plain": [
       "<Figure size 864x432 with 1 Axes>"
      ]
     },
     "metadata": {
      "needs_background": "light"
     },
     "output_type": "display_data"
    }
   ],
   "source": [
    "import seaborn as sns\n",
    "Ratings = ratingsPrepare.groupby('rating').count().toPandas()\n",
    "movieRatingDistGroup =  Ratings.sort_index() \\\n",
    "                                             .reset_index()\n",
    "\n",
    "# Create Matplotlib Figure\n",
    "fig, ax = plt.subplots(figsize=(12,6))\n",
    "\n",
    "# Main Figure: Seaborn Barplot\n",
    "sns.barplot(data=movieRatingDistGroup, x='rating', y='count',\n",
    "            palette='RdYlGn', edgecolor=\"black\", ax=ax)\n",
    "\n",
    "# Set Xaxis and Yaxis\n",
    "ax.set_xlabel(\"User-Movie Ratings\")\n",
    "ax.set_ylabel('Number of Users')\n",
    "ax.xaxis.set_tick_params(rotation=45)\n",
    "\n",
    "# Thousand separator on Yaxis labels\n",
    "ax.set_yticklabels(['{:,}'.format(int(x)) for x in ax.get_yticks().tolist()])\n",
    "\n",
    "# Add percentage text on top of each bar\n",
    "total = float(movieRatingDistGroup['count'].sum())\n",
    "\n",
    "for p in ax.patches:\n",
    "    height = p.get_height()\n",
    "    ax.text(p.get_x()+p.get_width()/2.,\n",
    "            height+350,\n",
    "            '{0:.0%}'.format(height/total),\n",
    "            ha=\"center\") \n",
    "\n",
    "# Display plot\n",
    "plt.show()\n"
   ]
  },
  {
   "cell_type": "markdown",
   "metadata": {},
   "source": [
    "*From this plot, we can clearly see that users tend to be more concentrated towards mid ratings. Users tend to give an average verdict to movies. Both the extremes, 0.5 rating and 5 rating are tougher to get and among these two, its even harder to get a user to give 0.5 rating. This skewness towrds mid and above shows users try to balance and not give very bad rating to any movie.* "
   ]
  },
  {
   "cell_type": "code",
   "execution_count": 74,
   "metadata": {},
   "outputs": [
    {
     "name": "stdout",
     "output_type": "stream",
     "text": [
      "+-------+------+------+-------------+-------------+--------------------+--------------------+\n",
      "|movieId|userId|rating|ratingsScaled|ratingsBinary|               title|              genres|\n",
      "+-------+------+------+-------------+-------------+--------------------+--------------------+\n",
      "|      1|     1|   4.0|          1.5|          1.0|    Toy Story (1995)|Adventure|Animati...|\n",
      "|      3|     1|   4.0|          1.5|          1.0|Grumpier Old Men ...|      Comedy|Romance|\n",
      "|      6|     1|   4.0|          1.5|          1.0|         Heat (1995)|Action|Crime|Thri...|\n",
      "|     47|     1|   5.0|          2.5|          1.0|Seven (a.k.a. Se7...|    Mystery|Thriller|\n",
      "|     50|     1|   5.0|          2.5|          1.0|Usual Suspects, T...|Crime|Mystery|Thr...|\n",
      "+-------+------+------+-------------+-------------+--------------------+--------------------+\n",
      "only showing top 5 rows\n",
      "\n"
     ]
    },
    {
     "name": "stderr",
     "output_type": "stream",
     "text": [
      "/state/partition1/job-19665852/ipykernel_3480370/44911690.py:29: UserWarning: FixedFormatter should only be used together with FixedLocator\n",
      "  ax.set_yticklabels(['{:,}'.format(int(x)) for x in ax.get_yticks().tolist()])\n"
     ]
    },
    {
     "data": {
      "image/png": "[encoded data removed]",
      "text/plain": [
       "<Figure size 864x432 with 1 Axes>"
      ]
     },
     "metadata": {
      "needs_background": "light"
     },
     "output_type": "display_data"
    }
   ],
   "source": [
    "import seaborn as sns\n",
    "\n",
    "Ratings = ratingsPrepare.join(movies, on='movieId')\n",
    "\n",
    "Ratings.show(5)\n",
    "\n",
    "udf_genres_list = F.udf(lambda x: [i for i in x.split('|')], ArrayType(StringType()))\n",
    "\n",
    "\n",
    "genresData = Ratings.withColumn('genres', F.explode(udf_genres_list(F.col('genres')))) \n",
    "\n",
    "genresCount = genresData.groupby('genres').count().toPandas()\n",
    "genresCount =  genresCount.sort_index() \\\n",
    "                                             .reset_index()\n",
    "\n",
    "# Create Matplotlib Figure\n",
    "fig, ax = plt.subplots(figsize=(12,6))\n",
    "\n",
    "# Main Figure: Seaborn Barplot\n",
    "sns.barplot(data=genresCount, x='genres', y='count',\n",
    "            palette='RdYlGn', edgecolor=\"black\", ax=ax)\n",
    "\n",
    "# Set Xaxis and Yaxis\n",
    "ax.set_xlabel(\"Genre-Movie Count\")\n",
    "ax.set_ylabel('Number of Users')\n",
    "ax.xaxis.set_tick_params(rotation=45)\n",
    "\n",
    "# Thousand separator on Yaxis labels\n",
    "ax.set_yticklabels(['{:,}'.format(int(x)) for x in ax.get_yticks().tolist()])\n",
    "\n",
    "# Add percentage text on top of each bar\n",
    "total = float(genresCount['count'].sum())\n",
    "\n",
    "for p in ax.patches:\n",
    "    height = p.get_height()\n",
    "    ax.text(p.get_x()+p.get_width()/2.,\n",
    "            height+350,\n",
    "            '{0:.0%}'.format(float(height/total)),\n",
    "            ha=\"center\") \n",
    "\n",
    "# Display plot\n",
    "plt.show()\n",
    "\n"
   ]
  },
  {
   "cell_type": "markdown",
   "metadata": {},
   "source": [
    "*From this plot, we can clearly see that users tend to prefer Drama and Comedy over other genres.So this biasness towards these genres causes a limited number of reviews for other genres. Hence, causing an imperfect modelling.* "
   ]
  },
  {
   "cell_type": "code",
   "execution_count": 63,
   "metadata": {},
   "outputs": [
    {
     "name": "stderr",
     "output_type": "stream",
     "text": [
      "/state/partition1/job-19665852/ipykernel_3480370/761062920.py:17: UserWarning: FixedFormatter should only be used together with FixedLocator\n",
      "  ax.set_yticklabels(['{:,}'.format(float(x)) for x in ax.get_yticks().tolist()])\n"
     ]
    },
    {
     "data": {
      "image/png": "[encoded data removed]",
      "text/plain": [
       "<Figure size 864x432 with 1 Axes>"
      ]
     },
     "metadata": {
      "needs_background": "light"
     },
     "output_type": "display_data"
    }
   ],
   "source": [
    "genresRatings = genresData.groupby('genres').agg({'rating':'avg'}).toPandas()\n",
    "\n",
    "genresRatings.head(5)\n",
    "\n",
    "# Create Matplotlib Figure\n",
    "fig, ax = plt.subplots(figsize=(12,6))\n",
    "\n",
    "sns.barplot(data=genresRatings, x='genres', y='avg(rating)',\n",
    "            palette='RdYlGn', edgecolor=\"black\", ax=ax)\n",
    "\n",
    "# Set Xaxis and Yaxis\n",
    "ax.set_xlabel(\"Genre\")\n",
    "ax.set_ylabel('Avg Ratings')\n",
    "ax.xaxis.set_tick_params(rotation=45)\n",
    "\n",
    "# Thousand separator on Yaxis labels\n",
    "ax.set_yticklabels(['{:,}'.format(float(x)) for x in ax.get_yticks().tolist()])\n",
    "\n",
    "# Display plot\n",
    "plt.show()"
   ]
  },
  {
   "cell_type": "markdown",
   "metadata": {},
   "source": [
    "*Average rating for each genre gives us an understand as to how different genres are preferred rating wise. In corellation with the above plot, we can deduce about the nature of rating, count of rating from different users. These plot can help in overall interpretation of the dataset and building a recommendation system* "
   ]
  },
  {
   "cell_type": "code",
   "execution_count": null,
   "metadata": {},
   "outputs": [],
   "source": []
  }
 ],
 "metadata": {
  "accelerator": "GPU",
  "colab": {
   "collapsed_sections": [],
   "name": "MovieLens27M-ALS-Recommender-System.ipynb",
   "provenance": [
    {
     "file_id": "1PJf958jhxAVDOV0yLL395dFmzmy7CxNu",
     "timestamp": 1571495303411
    }
   ],
   "toc_visible": true
  },
  "kernelspec": {
   "display_name": "Python 3 (ipykernel)",
   "language": "python",
   "name": "python3"
  },
  "language_info": {
   "codemirror_mode": {
    "name": "ipython",
    "version": 3
   },
   "file_extension": ".py",
   "mimetype": "text/x-python",
   "name": "python",
   "nbconvert_exporter": "python",
   "pygments_lexer": "ipython3",
   "version": "3.8.12"
  }
 },
 "nbformat": 4,
 "nbformat_minor": 2
}
